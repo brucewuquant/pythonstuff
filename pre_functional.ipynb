{
  "nbformat": 4,
  "nbformat_minor": 0,
  "metadata": {
    "colab": {
      "name": "pre_functional.ipynb",
      "version": "0.3.2",
      "provenance": [],
      "collapsed_sections": []
    },
    "kernelspec": {
      "name": "python3",
      "display_name": "Python 3"
    }
  },
  "cells": [
    {
      "metadata": {
        "id": "Rt3COnzIgUpm",
        "colab_type": "code",
        "outputId": "6440f308-b030-4d49-ee05-8632a87c4b1c",
        "colab": {
          "base_uri": "https://localhost:8080/",
          "height": 314
        }
      },
      "cell_type": "code",
      "source": [
        "!pip install h2o\n",
        "!pip install pandarallel --user\n",
        "#from pandarallel import pandarallel\n",
        "#pandarallel.initialize(progress_bar = True)"
      ],
      "execution_count": 0,
      "outputs": [
        {
          "output_type": "stream",
          "text": [
            "Requirement already satisfied: h2o in /usr/local/lib/python3.6/dist-packages (3.24.0.2)\n",
            "Requirement already satisfied: colorama>=0.3.8 in /usr/local/lib/python3.6/dist-packages (from h2o) (0.4.1)\n",
            "Requirement already satisfied: future in /usr/local/lib/python3.6/dist-packages (from h2o) (0.16.0)\n",
            "Requirement already satisfied: requests in /usr/local/lib/python3.6/dist-packages (from h2o) (2.21.0)\n",
            "Requirement already satisfied: tabulate in /usr/local/lib/python3.6/dist-packages (from h2o) (0.8.3)\n",
            "Requirement already satisfied: chardet<3.1.0,>=3.0.2 in /usr/local/lib/python3.6/dist-packages (from requests->h2o) (3.0.4)\n",
            "Requirement already satisfied: certifi>=2017.4.17 in /usr/local/lib/python3.6/dist-packages (from requests->h2o) (2019.3.9)\n",
            "Requirement already satisfied: urllib3<1.25,>=1.21.1 in /usr/local/lib/python3.6/dist-packages (from requests->h2o) (1.24.2)\n",
            "Requirement already satisfied: idna<2.9,>=2.5 in /usr/local/lib/python3.6/dist-packages (from requests->h2o) (2.8)\n",
            "Requirement already satisfied: pandarallel in /root/.local/lib/python3.6/site-packages (1.1.0)\n",
            "Requirement already satisfied: tqdm>=4.31.1 in /root/.local/lib/python3.6/site-packages (from pandarallel) (4.31.1)\n",
            "Requirement already satisfied: pandas in /usr/local/lib/python3.6/dist-packages (from pandarallel) (0.24.2)\n",
            "Requirement already satisfied: pyarrow>=0.12.1 in /root/.local/lib/python3.6/site-packages (from pandarallel) (0.13.0)\n",
            "Requirement already satisfied: numpy>=1.12.0 in /usr/local/lib/python3.6/dist-packages (from pandas->pandarallel) (1.16.3)\n",
            "Requirement already satisfied: python-dateutil>=2.5.0 in /usr/local/lib/python3.6/dist-packages (from pandas->pandarallel) (2.5.3)\n",
            "Requirement already satisfied: pytz>=2011k in /usr/local/lib/python3.6/dist-packages (from pandas->pandarallel) (2018.9)\n",
            "Requirement already satisfied: six>=1.0.0 in /usr/local/lib/python3.6/dist-packages (from pyarrow>=0.12.1->pandarallel) (1.12.0)\n"
          ],
          "name": "stdout"
        }
      ]
    },
    {
      "metadata": {
        "id": "7644fgYHghO4",
        "colab_type": "code",
        "outputId": "3b9c5c58-6078-4209-cf76-daedc766c9f6",
        "colab": {
          "base_uri": "https://localhost:8080/",
          "height": 124
        }
      },
      "cell_type": "code",
      "source": [
        "#google drive os\n",
        "import os\n",
        "from google.colab import drive\n",
        "drive.mount('/content/drive')\n",
        "os.chdir(\"drive/My Drive/Colab Notebooks/Data/FeatureEngineering\")"
      ],
      "execution_count": 0,
      "outputs": [
        {
          "output_type": "stream",
          "text": [
            "Go to this URL in a browser: https://accounts.google.com/o/oauth2/auth?client_id=947318989803-6bn6qk8qdgf4n4g3pfee6491hc0brc4i.apps.googleusercontent.com&redirect_uri=urn%3Aietf%3Awg%3Aoauth%3A2.0%3Aoob&scope=email%20https%3A%2F%2Fwww.googleapis.com%2Fauth%2Fdocs.test%20https%3A%2F%2Fwww.googleapis.com%2Fauth%2Fdrive%20https%3A%2F%2Fwww.googleapis.com%2Fauth%2Fdrive.photos.readonly%20https%3A%2F%2Fwww.googleapis.com%2Fauth%2Fpeopleapi.readonly&response_type=code\n",
            "\n",
            "Enter your authorization code:\n",
            "··········\n",
            "Mounted at /content/drive\n"
          ],
          "name": "stdout"
        }
      ]
    },
    {
      "metadata": {
        "id": "fI9Cn4HGgiEP",
        "colab_type": "code",
        "colab": {}
      },
      "cell_type": "code",
      "source": [
        "import numpy as np\n",
        "import pandas as pd\n",
        "import matplotlib.pyplot as plt\n",
        "from sklearn.metrics import make_scorer\n",
        "from sklearn.model_selection import cross_val_score\n",
        "from sklearn.model_selection import TimeSeriesSplit\n",
        "from sklearn.metrics import confusion_matrix\n",
        "from termcolor import colored\n",
        "\n",
        "from sklearn.ensemble import RandomForestClassifier\n",
        "from sklearn.linear_model import LogisticRegression\n",
        "from sklearn.model_selection import train_test_split\n",
        "from imblearn.over_sampling import SMOTE\n",
        "from sklearn import metrics\n",
        "import xgboost as xgb\n",
        "\n",
        "\n",
        "from sklearn.compose import ColumnTransformer\n",
        "from sklearn.pipeline import Pipeline\n",
        "from sklearn.impute import SimpleImputer\n",
        "from sklearn.preprocessing import StandardScaler, OneHotEncoder\n",
        "\n",
        "from h2o.estimators.random_forest import H2ORandomForestEstimator\n",
        "from h2o.estimators.gbm import H2OGradientBoostingEstimator\n",
        "from h2o.estimators.stackedensemble import H2OStackedEnsembleEstimator\n",
        "from h2o.grid.grid_search import H2OGridSearch"
      ],
      "execution_count": 0,
      "outputs": []
    },
    {
      "metadata": {
        "id": "T796UupdgjAo",
        "colab_type": "code",
        "outputId": "2448e92c-0c1a-4cf0-cd62-b6d2232e8ec3",
        "colab": {
          "base_uri": "https://localhost:8080/",
          "height": 356
        }
      },
      "cell_type": "code",
      "source": [
        "from h2o.automl import H2OAutoML\n",
        "import h2o\n",
        "from h2o.frame import H2OFrame\n",
        "h2o.init()"
      ],
      "execution_count": 0,
      "outputs": [
        {
          "output_type": "stream",
          "text": [
            "Checking whether there is an H2O instance running at http://localhost:54321 . connected.\n"
          ],
          "name": "stdout"
        },
        {
          "output_type": "display_data",
          "data": {
            "text/html": [
              "<div style=\"overflow:auto\"><table style=\"width:50%\"><tr><td>H2O cluster uptime:</td>\n",
              "<td>2 hours 29 mins</td></tr>\n",
              "<tr><td>H2O cluster timezone:</td>\n",
              "<td>Etc/UTC</td></tr>\n",
              "<tr><td>H2O data parsing timezone:</td>\n",
              "<td>UTC</td></tr>\n",
              "<tr><td>H2O cluster version:</td>\n",
              "<td>3.24.0.2</td></tr>\n",
              "<tr><td>H2O cluster version age:</td>\n",
              "<td>7 days, 23 hours and 54 minutes </td></tr>\n",
              "<tr><td>H2O cluster name:</td>\n",
              "<td>H2O_from_python_unknownUser_sax6iw</td></tr>\n",
              "<tr><td>H2O cluster total nodes:</td>\n",
              "<td>1</td></tr>\n",
              "<tr><td>H2O cluster free memory:</td>\n",
              "<td>2.569 Gb</td></tr>\n",
              "<tr><td>H2O cluster total cores:</td>\n",
              "<td>2</td></tr>\n",
              "<tr><td>H2O cluster allowed cores:</td>\n",
              "<td>2</td></tr>\n",
              "<tr><td>H2O cluster status:</td>\n",
              "<td>locked, healthy</td></tr>\n",
              "<tr><td>H2O connection url:</td>\n",
              "<td>http://localhost:54321</td></tr>\n",
              "<tr><td>H2O connection proxy:</td>\n",
              "<td>None</td></tr>\n",
              "<tr><td>H2O internal security:</td>\n",
              "<td>False</td></tr>\n",
              "<tr><td>H2O API Extensions:</td>\n",
              "<td>Amazon S3, XGBoost, Algos, AutoML, Core V3, Core V4</td></tr>\n",
              "<tr><td>Python version:</td>\n",
              "<td>3.6.7 final</td></tr></table></div>"
            ],
            "text/plain": [
              "--------------------------  ---------------------------------------------------\n",
              "H2O cluster uptime:         2 hours 29 mins\n",
              "H2O cluster timezone:       Etc/UTC\n",
              "H2O data parsing timezone:  UTC\n",
              "H2O cluster version:        3.24.0.2\n",
              "H2O cluster version age:    7 days, 23 hours and 54 minutes\n",
              "H2O cluster name:           H2O_from_python_unknownUser_sax6iw\n",
              "H2O cluster total nodes:    1\n",
              "H2O cluster free memory:    2.569 Gb\n",
              "H2O cluster total cores:    2\n",
              "H2O cluster allowed cores:  2\n",
              "H2O cluster status:         locked, healthy\n",
              "H2O connection url:         http://localhost:54321\n",
              "H2O connection proxy:\n",
              "H2O internal security:      False\n",
              "H2O API Extensions:         Amazon S3, XGBoost, Algos, AutoML, Core V3, Core V4\n",
              "Python version:             3.6.7 final\n",
              "--------------------------  ---------------------------------------------------"
            ]
          },
          "metadata": {
            "tags": []
          }
        }
      ]
    },
    {
      "metadata": {
        "id": "XDV-g-N9gkA3",
        "colab_type": "code",
        "colab": {}
      },
      "cell_type": "code",
      "source": [
        "def df_to_h2oF(data, factor_list):\n",
        "    \n",
        "    data[factor_list] = data[factor_list].astype(int)\n",
        "    h2o_df = H2OFrame(data)\n",
        "    h2o_df[factor_list] = h2o_df[factor_list].asfactor()\n",
        "    \n",
        "    return h2o_df"
      ],
      "execution_count": 0,
      "outputs": []
    },
    {
      "metadata": {
        "id": "esfmPlo9glLa",
        "colab_type": "code",
        "colab": {}
      },
      "cell_type": "code",
      "source": [
        "def predict_es_with_saved_model(filename):\n",
        "  \n",
        "    data_es = pd.read_csv(filename, index_col= 0, parse_dates=[0])\n",
        "    #need to change to leader_standardize_model\n",
        "    \n",
        "    #no standardize at all\n",
        "    #standardized_saved_model = h2o.load_model('./leader_xgb_0423/XGBoost_1_AutoML_20190424_012109')\n",
        "    \n",
        "    #lianjinshushi\n",
        "    standardized_saved_model = h2o.load_model('./buNeng_shuffle/XGBoost_1_AutoML_20190425_015417')\n",
        "    \n",
        "    #all standardize\n",
        "    #tandardized_saved_model = h2o.load_model('./leader_standardize_0424/XGBoost_1_AutoML_20190424_070314') \n",
        "    \n",
        "    #standardized_saved_model = h2o.load_model('./leader_standardize_model/XGBoost_1_AutoML_20190424_221520')\n",
        "    \n",
        "    remove_data =  data_es[~data_es.isin([np.nan, np.inf, -np.inf]).any(1)]\n",
        "    factor_list_es = ['feature_57', 'feature_58', 'Feature_45','Feature_47', 'Target']\n",
        "    numeric_list_es = list(set(remove_data.columns) - set(factor_list_es))\n",
        "    \n",
        "    remove_data[numeric_list_es] = remove_data[numeric_list_es].apply(lambda x: (x-np.mean(x))/np.std(x), axis = 0)\n",
        "    \n",
        "    #true label\n",
        "    X = remove_data.iloc[:,:-1]\n",
        "    y = remove_data['Target']\n",
        "\n",
        "    X_train, X_test, y_train, y_test = train_test_split(X, y, test_size = 1/2, shuffle = False)\n",
        "    \n",
        "    train_mu = X_train[numeric_list_es].mean()\n",
        "    train_sd = X_train[numeric_list_es].std()\n",
        "    \n",
        "    #X_train[numeric_list_es] = (X_train[numeric_list_es] - train_mu) / train_sd\n",
        "    \n",
        "    test_mu = X_test[numeric_list_es].mean()\n",
        "    test_sd = X_test[numeric_list_es].std()\n",
        "    \n",
        "    #test itself standardize:\n",
        "    #X_test[numeric_list_es] = (X_test[numeric_list_es] - test_mu) / test_sd\n",
        "    \n",
        "    #test using train to stand\n",
        "    #X_test[numeric_list_es] = (X_test[numeric_list_es] - train_mu) / train_sd\n",
        "    \n",
        "    #for Ren Hao's usage\n",
        "    #pd.DataFrame(X_train.index).to_csv('cleaned_train_index_es.csv')\n",
        "    #pd.DataFrame(X_test.index).to_csv('cleaned_test_index_es.csv')\n",
        "    \n",
        " \n",
        "    preds_standardize = standardized_saved_model.predict(df_to_h2oF(X_test, factor_list_es[:-1]))\n",
        "\n",
        "    \n",
        "    #standardized_es_predict_df = h2o.as_list(preds_standardize)\n",
        "    #standardized_es_predict_df.to_csv('standardized_corn_predict.csv')\n",
        "    \n",
        "    cm = confusion_matrix(y_test.values, (h2o.as_list(preds_standardize)['predict']>0.5))\n",
        "    \n",
        "    \n",
        "    print(colored('The Confusion Matrix is: ', 'red'),'\\n', cm)\n",
        "    predict_accuracy_on_test_set = (cm[0,0] + cm[1,1])/(cm[0,0] + cm[1,1]+cm[1,0] + cm[0,1])\n",
        "    print(colored('The Accuracy on Test Set is: ', 'blue'), colored(predict_accuracy_on_test_set, 'blue'))\n",
        "    print(metrics.classification_report(y_true=y_test.values,  y_pred=(h2o.as_list(preds_standardize)['predict']>0.5).astype(float)))"
      ],
      "execution_count": 0,
      "outputs": []
    },
    {
      "metadata": {
        "id": "IJjN_J1Ggofh",
        "colab_type": "code",
        "outputId": "ae8f79ff-a424-4c50-b263-3b457cd0524f",
        "colab": {
          "base_uri": "https://localhost:8080/",
          "height": 384
        }
      },
      "cell_type": "code",
      "source": [
        "predict_es_with_saved_model('Report_Features.csv')"
      ],
      "execution_count": 0,
      "outputs": [
        {
          "output_type": "stream",
          "text": [
            "/usr/local/lib/python3.6/dist-packages/pandas/core/frame.py:3391: SettingWithCopyWarning: \n",
            "A value is trying to be set on a copy of a slice from a DataFrame.\n",
            "Try using .loc[row_indexer,col_indexer] = value instead\n",
            "\n",
            "See the caveats in the documentation: http://pandas.pydata.org/pandas-docs/stable/indexing.html#indexing-view-versus-copy\n",
            "  self[k1] = value[k2]\n"
          ],
          "name": "stderr"
        },
        {
          "output_type": "stream",
          "text": [
            "Parse progress: |█████████████████████████████████████████████████████████| 100%\n",
            "xgboost prediction progress: |████████████████████████████████████████████| 100%\n",
            "The Confusion Matrix is:  \n",
            " [[11599    51]\n",
            " [   61    23]]\n",
            "The Accuracy on Test Set is:  0.9904550877791034\n",
            "              precision    recall  f1-score   support\n",
            "\n",
            "         0.0       0.99      1.00      1.00     11650\n",
            "         1.0       0.31      0.27      0.29        84\n",
            "\n",
            "   micro avg       0.99      0.99      0.99     11734\n",
            "   macro avg       0.65      0.63      0.64     11734\n",
            "weighted avg       0.99      0.99      0.99     11734\n",
            "\n"
          ],
          "name": "stdout"
        }
      ]
    },
    {
      "metadata": {
        "id": "3_0ZU9fRguGO",
        "colab_type": "code",
        "colab": {}
      },
      "cell_type": "code",
      "source": [
        " "
      ],
      "execution_count": 0,
      "outputs": []
    },
    {
      "metadata": {
        "id": "A9bczzZAjlzY",
        "colab_type": "code",
        "colab": {}
      },
      "cell_type": "code",
      "source": [
        ""
      ],
      "execution_count": 0,
      "outputs": []
    },
    {
      "metadata": {
        "id": "WhTYEb35jmtO",
        "colab_type": "code",
        "colab": {}
      },
      "cell_type": "code",
      "source": [
        ""
      ],
      "execution_count": 0,
      "outputs": []
    }
  ]
}