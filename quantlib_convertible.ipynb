{
  "nbformat": 4,
  "nbformat_minor": 0,
  "metadata": {
    "colab": {
      "name": "quantlib_convertible.ipynb",
      "version": "0.3.2",
      "provenance": [],
      "include_colab_link": true
    },
    "kernelspec": {
      "name": "python3",
      "display_name": "Python 3"
    }
  },
  "cells": [
    {
      "cell_type": "markdown",
      "metadata": {
        "id": "view-in-github",
        "colab_type": "text"
      },
      "source": [
        "<a href=\"https://colab.research.google.com/github/brucewuquant/pythonstuff/blob/master/quantlib_convertible.ipynb\" target=\"_parent\"><img src=\"https://colab.research.google.com/assets/colab-badge.svg\" alt=\"Open In Colab\"/></a>"
      ]
    },
    {
      "cell_type": "code",
      "metadata": {
        "id": "o1WLOo6jp0Nn",
        "colab_type": "code",
        "colab": {
          "base_uri": "https://localhost:8080/",
          "height": 124
        },
        "outputId": "ef935ec8-1572-44ef-d6bc-7177e896bcd2"
      },
      "source": [
        "!pip install QuantLib-Python"
      ],
      "execution_count": 1,
      "outputs": [
        {
          "output_type": "stream",
          "text": [
            "Collecting QuantLib-Python\n",
            "\u001b[?25l  Downloading https://files.pythonhosted.org/packages/22/66/a514a31335a7b948f1b83b6fcf7f8f4908adc21003b54de447c1b9dc11f4/QuantLib_Python-1.15-cp36-cp36m-manylinux1_x86_64.whl (16.9MB)\n",
            "\u001b[K     |████████████████████████████████| 16.9MB 19.1MB/s \n",
            "\u001b[?25hInstalling collected packages: QuantLib-Python\n",
            "Successfully installed QuantLib-Python-1.15\n"
          ],
          "name": "stdout"
        }
      ]
    },
    {
      "cell_type": "code",
      "metadata": {
        "id": "26WJB6p1p3q0",
        "colab_type": "code",
        "colab": {}
      },
      "source": [
        "import QuantLib as ql"
      ],
      "execution_count": 0,
      "outputs": []
    },
    {
      "cell_type": "code",
      "metadata": {
        "id": "jqRV5s4ep92z",
        "colab_type": "code",
        "colab": {}
      },
      "source": [
        "calculation_date = ql.Date(28,5,2019)"
      ],
      "execution_count": 0,
      "outputs": []
    },
    {
      "cell_type": "code",
      "metadata": {
        "id": "ZsKSocxprKdM",
        "colab_type": "code",
        "colab": {}
      },
      "source": [
        "ql.Settings.instance().evaluationDate = calculation_date"
      ],
      "execution_count": 0,
      "outputs": []
    },
    {
      "cell_type": "markdown",
      "metadata": {
        "id": "NCnG0V20raLd",
        "colab_type": "text"
      },
      "source": [
        "Conversion_Ratio = Redemption_Amount / Conversion_Price"
      ]
    },
    {
      "cell_type": "code",
      "metadata": {
        "id": "fp0J8J_8rQ-r",
        "colab_type": "code",
        "colab": {}
      },
      "source": [
        "redemption = 100.00\n",
        "face_amount = 100.0\n",
        "spot_price = 29.04\n",
        "conversion_price = 26.0\n",
        "conversion_ratio = 3.84615\n",
        "\n",
        "issue_date = ql.Date(15,3,2016)\n",
        "maturity_date = ql.Date(15,3,2022)\n",
        "\n",
        "settlement_days = 2\n",
        "calendar = ql.UnitedStates(ql.UnitedStates.GovernmentBond)\n",
        "coupon = 0.0575\n",
        "frequency = ql.Semiannual\n",
        "tenor = ql.Period(frequency)\n",
        "\n",
        "day_count = ql.Thirty360()\n",
        "accrual_convention = ql.Unadjusted\n",
        "payment_convention = ql.Unadjusted\n",
        "\n",
        "call_dates = [ql.Date(20, 3, 2020)]\n",
        "call_price = 100.0\n",
        "put_dates = [ql.Date(20,3,2020),ql.Date(15,4,2021)]\n",
        "put_price=100.0"
      ],
      "execution_count": 0,
      "outputs": []
    },
    {
      "cell_type": "code",
      "metadata": {
        "id": "OcCXkC8zs6lH",
        "colab_type": "code",
        "colab": {}
      },
      "source": [
        "# assumptions\n",
        "dividend_yield = 0.02\n",
        "credit_spread_rate = 0.03  \n",
        "risk_free_rate = 0.04\n",
        "volatility = 0.40"
      ],
      "execution_count": 0,
      "outputs": []
    },
    {
      "cell_type": "code",
      "metadata": {
        "id": "gjCnfKgSta4e",
        "colab_type": "code",
        "colab": {}
      },
      "source": [
        "callability_schedule = ql.CallabilitySchedule()\n",
        "\n",
        "for call_date in call_dates:\n",
        "  callability_price = ql.CallabilityPrice(call_price, ql.CallabilityPrice.Clean)\n",
        "  callability_schedule.append(ql.Callability(callability_price, \n",
        "                                            ql.Callability.Call,\n",
        "                                            call_date))"
      ],
      "execution_count": 0,
      "outputs": []
    },
    {
      "cell_type": "code",
      "metadata": {
        "id": "rX3dUhBTttV-",
        "colab_type": "code",
        "colab": {}
      },
      "source": [
        "for put_date in put_dates:\n",
        "    puttability_price = ql.CallabilityPrice(put_price, \n",
        "                                            ql.CallabilityPrice.Clean)\n",
        "    callability_schedule.append(ql.Callability(puttability_price,\n",
        "                                               ql.Callability.Put,\n",
        "                                               put_date))"
      ],
      "execution_count": 0,
      "outputs": []
    },
    {
      "cell_type": "code",
      "metadata": {
        "id": "qujOVCABtu98",
        "colab_type": "code",
        "colab": {}
      },
      "source": [
        "dividend_schedule = ql.DividendSchedule() # No dividends\n",
        "dividend_amount = dividend_yield*spot_price\n",
        "next_dividend_date = ql.Date(1,12,2004)\n",
        "dividend_amount = spot_price*dividend_yield\n",
        "for i in range(4):\n",
        "    date = calendar.advance(next_dividend_date, 1, ql.Years)\n",
        "    dividend_schedule.append(\n",
        "        ql.FixedDividend(dividend_amount, date)\n",
        "    )"
      ],
      "execution_count": 0,
      "outputs": []
    },
    {
      "cell_type": "code",
      "metadata": {
        "id": "otrfG2WXtyCh",
        "colab_type": "code",
        "colab": {}
      },
      "source": [
        "schedule = ql.Schedule(issue_date, maturity_date, tenor,\n",
        "                       calendar, accrual_convention, accrual_convention,\n",
        "                       ql.DateGeneration.Backward, False)\n",
        "\n",
        "credit_spread_handle = ql.QuoteHandle(ql.SimpleQuote(credit_spread_rate))\n",
        "exercise = ql.AmericanExercise(calculation_date, maturity_date)\n",
        "\n",
        "convertible_bond = ql.ConvertibleFixedCouponBond(exercise,\n",
        "                                                 conversion_ratio,\n",
        "                                                 dividend_schedule,\n",
        "                                                 callability_schedule, \n",
        "                                                 credit_spread_handle,\n",
        "                                                 issue_date,\n",
        "                                                 settlement_days,\n",
        "                                                 [coupon],\n",
        "                                                 day_count,\n",
        "                                                 schedule,\n",
        "                                                 redemption)"
      ],
      "execution_count": 0,
      "outputs": []
    },
    {
      "cell_type": "code",
      "metadata": {
        "id": "CwzE8EOnt2sS",
        "colab_type": "code",
        "colab": {}
      },
      "source": [
        "spot_price_handle = ql.QuoteHandle(ql.SimpleQuote(spot_price))\n",
        "yield_ts_handle = ql.YieldTermStructureHandle(\n",
        "    ql.FlatForward(calculation_date, risk_free_rate, day_count)\n",
        ")\n",
        "dividend_ts_handle = ql.YieldTermStructureHandle(\n",
        "    ql.FlatForward(calculation_date, dividend_yield, day_count)\n",
        ")\n",
        "volatility_ts_handle = ql.BlackVolTermStructureHandle(\n",
        "    ql.BlackConstantVol(calculation_date, calendar,volatility, day_count)\n",
        ")\n",
        "\n",
        "bsm_process = ql.BlackScholesMertonProcess(spot_price_handle, \n",
        "                                           dividend_ts_handle,\n",
        "                                           yield_ts_handle,\n",
        "                                           volatility_ts_handle)"
      ],
      "execution_count": 0,
      "outputs": []
    },
    {
      "cell_type": "code",
      "metadata": {
        "id": "FICm0qyZuV22",
        "colab_type": "code",
        "colab": {}
      },
      "source": [
        "time_steps = 1000\n",
        "engine = ql.BinomialConvertibleEngine(bsm_process, \"crr\", time_steps)"
      ],
      "execution_count": 0,
      "outputs": []
    },
    {
      "cell_type": "code",
      "metadata": {
        "id": "8sr6TWqfuXpO",
        "colab_type": "code",
        "colab": {
          "base_uri": "https://localhost:8080/",
          "height": 34
        },
        "outputId": "07601d6f-696d-4331-da13-a1dd689dc904"
      },
      "source": [
        "convertible_bond.setPricingEngine(engine)\n",
        "print (\"NPV \", convertible_bond.NPV())"
      ],
      "execution_count": 33,
      "outputs": [
        {
          "output_type": "stream",
          "text": [
            "NPV  123.82876484726702\n"
          ],
          "name": "stdout"
        }
      ]
    },
    {
      "cell_type": "code",
      "metadata": {
        "id": "lpTu8OKFuZ5C",
        "colab_type": "code",
        "colab": {}
      },
      "source": [
        ""
      ],
      "execution_count": 0,
      "outputs": []
    }
  ]
}