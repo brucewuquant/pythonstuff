{
 "cells": [
  {
   "cell_type": "code",
   "execution_count": 202,
   "metadata": {},
   "outputs": [],
   "source": [
    "import pandas as pd\n",
    "import pandas_datareader as web\n",
    "import numpy as np\n",
    "import matplotlib.pyplot as plt\n",
    "import statsmodels.api as sm\n",
    "%matplotlib inline"
   ]
  },
  {
   "cell_type": "code",
   "execution_count": 203,
   "metadata": {},
   "outputs": [],
   "source": [
    "vix = web.DataReader( '^vix' , 'yahoo' , start = '2010-01-04', end = '2018-12-31')\n",
    "spx = web.DataReader( '^GSPC' , 'yahoo' ,  start = '2010-01-04', end = '2018-12-31')\n",
    "vxx = web.DataReader('vxx','yahoo',  start = '2010-01-04', end = '2018-12-31')\n"
   ]
  },
  {
   "cell_type": "code",
   "execution_count": 252,
   "metadata": {},
   "outputs": [],
   "source": [
    "data = pd.DataFrame()\n",
    "data['VIX'] = vix['Adj Close']\n",
    "data['SPX'] = spx['Adj Close']\n",
    "data['VXX'] = vxx['Adj Close']"
   ]
  },
  {
   "cell_type": "code",
   "execution_count": 253,
   "metadata": {},
   "outputs": [
    {
     "data": {
      "text/html": [
       "<div>\n",
       "<style scoped>\n",
       "    .dataframe tbody tr th:only-of-type {\n",
       "        vertical-align: middle;\n",
       "    }\n",
       "\n",
       "    .dataframe tbody tr th {\n",
       "        vertical-align: top;\n",
       "    }\n",
       "\n",
       "    .dataframe thead th {\n",
       "        text-align: right;\n",
       "    }\n",
       "</style>\n",
       "<table border=\"1\" class=\"dataframe\">\n",
       "  <thead>\n",
       "    <tr style=\"text-align: right;\">\n",
       "      <th></th>\n",
       "      <th>VIX</th>\n",
       "      <th>SPX</th>\n",
       "      <th>VXX</th>\n",
       "    </tr>\n",
       "    <tr>\n",
       "      <th>Date</th>\n",
       "      <th></th>\n",
       "      <th></th>\n",
       "      <th></th>\n",
       "    </tr>\n",
       "  </thead>\n",
       "  <tbody>\n",
       "    <tr>\n",
       "      <th>2010-01-04</th>\n",
       "      <td>20.040001</td>\n",
       "      <td>1132.989990</td>\n",
       "      <td>33495.039062</td>\n",
       "    </tr>\n",
       "    <tr>\n",
       "      <th>2010-01-05</th>\n",
       "      <td>19.350000</td>\n",
       "      <td>1136.520020</td>\n",
       "      <td>32860.160156</td>\n",
       "    </tr>\n",
       "    <tr>\n",
       "      <th>2010-01-06</th>\n",
       "      <td>19.160000</td>\n",
       "      <td>1137.140015</td>\n",
       "      <td>31948.800781</td>\n",
       "    </tr>\n",
       "    <tr>\n",
       "      <th>2010-01-07</th>\n",
       "      <td>19.059999</td>\n",
       "      <td>1141.689941</td>\n",
       "      <td>31047.679688</td>\n",
       "    </tr>\n",
       "    <tr>\n",
       "      <th>2010-01-08</th>\n",
       "      <td>18.129999</td>\n",
       "      <td>1144.979980</td>\n",
       "      <td>30228.480469</td>\n",
       "    </tr>\n",
       "  </tbody>\n",
       "</table>\n",
       "</div>"
      ],
      "text/plain": [
       "                  VIX          SPX           VXX\n",
       "Date                                            \n",
       "2010-01-04  20.040001  1132.989990  33495.039062\n",
       "2010-01-05  19.350000  1136.520020  32860.160156\n",
       "2010-01-06  19.160000  1137.140015  31948.800781\n",
       "2010-01-07  19.059999  1141.689941  31047.679688\n",
       "2010-01-08  18.129999  1144.979980  30228.480469"
      ]
     },
     "execution_count": 253,
     "metadata": {},
     "output_type": "execute_result"
    }
   ],
   "source": [
    "data.head()"
   ]
  },
  {
   "cell_type": "code",
   "execution_count": 257,
   "metadata": {},
   "outputs": [],
   "source": [
    "data['VIX_Ret'] = data['VIX'].pct_change()\n",
    "data['SPX_Ret'] = data['SPX'].pct_change()\n",
    "data['VXX_Ret'] = data['VXX'].pct_change()\n",
    "data = data[1:]"
   ]
  },
  {
   "cell_type": "code",
   "execution_count": 258,
   "metadata": {},
   "outputs": [
    {
     "data": {
      "text/html": [
       "<div>\n",
       "<style scoped>\n",
       "    .dataframe tbody tr th:only-of-type {\n",
       "        vertical-align: middle;\n",
       "    }\n",
       "\n",
       "    .dataframe tbody tr th {\n",
       "        vertical-align: top;\n",
       "    }\n",
       "\n",
       "    .dataframe thead th {\n",
       "        text-align: right;\n",
       "    }\n",
       "</style>\n",
       "<table border=\"1\" class=\"dataframe\">\n",
       "  <thead>\n",
       "    <tr style=\"text-align: right;\">\n",
       "      <th></th>\n",
       "      <th>VIX</th>\n",
       "      <th>SPX</th>\n",
       "      <th>VXX</th>\n",
       "      <th>VIX_Ret</th>\n",
       "      <th>SPX_Ret</th>\n",
       "      <th>VXX_Ret</th>\n",
       "    </tr>\n",
       "    <tr>\n",
       "      <th>Date</th>\n",
       "      <th></th>\n",
       "      <th></th>\n",
       "      <th></th>\n",
       "      <th></th>\n",
       "      <th></th>\n",
       "      <th></th>\n",
       "    </tr>\n",
       "  </thead>\n",
       "  <tbody>\n",
       "    <tr>\n",
       "      <th>2010-01-05</th>\n",
       "      <td>19.350000</td>\n",
       "      <td>1136.520020</td>\n",
       "      <td>32860.160156</td>\n",
       "      <td>-0.034431</td>\n",
       "      <td>0.003116</td>\n",
       "      <td>-0.018954</td>\n",
       "    </tr>\n",
       "    <tr>\n",
       "      <th>2010-01-06</th>\n",
       "      <td>19.160000</td>\n",
       "      <td>1137.140015</td>\n",
       "      <td>31948.800781</td>\n",
       "      <td>-0.009819</td>\n",
       "      <td>0.000546</td>\n",
       "      <td>-0.027734</td>\n",
       "    </tr>\n",
       "    <tr>\n",
       "      <th>2010-01-07</th>\n",
       "      <td>19.059999</td>\n",
       "      <td>1141.689941</td>\n",
       "      <td>31047.679688</td>\n",
       "      <td>-0.005219</td>\n",
       "      <td>0.004001</td>\n",
       "      <td>-0.028205</td>\n",
       "    </tr>\n",
       "    <tr>\n",
       "      <th>2010-01-08</th>\n",
       "      <td>18.129999</td>\n",
       "      <td>1144.979980</td>\n",
       "      <td>30228.480469</td>\n",
       "      <td>-0.048793</td>\n",
       "      <td>0.002882</td>\n",
       "      <td>-0.026385</td>\n",
       "    </tr>\n",
       "    <tr>\n",
       "      <th>2010-01-11</th>\n",
       "      <td>17.549999</td>\n",
       "      <td>1146.979980</td>\n",
       "      <td>29675.519531</td>\n",
       "      <td>-0.031991</td>\n",
       "      <td>0.001747</td>\n",
       "      <td>-0.018293</td>\n",
       "    </tr>\n",
       "  </tbody>\n",
       "</table>\n",
       "</div>"
      ],
      "text/plain": [
       "                  VIX          SPX           VXX   VIX_Ret   SPX_Ret   VXX_Ret\n",
       "Date                                                                          \n",
       "2010-01-05  19.350000  1136.520020  32860.160156 -0.034431  0.003116 -0.018954\n",
       "2010-01-06  19.160000  1137.140015  31948.800781 -0.009819  0.000546 -0.027734\n",
       "2010-01-07  19.059999  1141.689941  31047.679688 -0.005219  0.004001 -0.028205\n",
       "2010-01-08  18.129999  1144.979980  30228.480469 -0.048793  0.002882 -0.026385\n",
       "2010-01-11  17.549999  1146.979980  29675.519531 -0.031991  0.001747 -0.018293"
      ]
     },
     "execution_count": 258,
     "metadata": {},
     "output_type": "execute_result"
    }
   ],
   "source": [
    "data.head()"
   ]
  },
  {
   "cell_type": "code",
   "execution_count": 259,
   "metadata": {},
   "outputs": [],
   "source": [
    "data_scaled = pd.DataFrame()\n",
    "data_scaled['VIX'] = data['VIX'] / data.loc[ '2010-01-05']['VIX']\n",
    "data_scaled['VXX'] = data['VXX'] / data.loc[ '2010-01-05']['VXX']\n",
    "data_scaled['SPX'] = data['SPX'] / data.loc[ '2010-01-05']['SPX']\n"
   ]
  },
  {
   "cell_type": "code",
   "execution_count": 260,
   "metadata": {},
   "outputs": [
    {
     "data": {
      "image/png": "[encoded data removed]",
      "text/plain": [
       "<Figure size 1080x576 with 1 Axes>"
      ]
     },
     "metadata": {},
     "output_type": "display_data"
    }
   ],
   "source": [
    "data_scaled.loc['2010-01-04':'2010-10-01'][['VIX','VXX','SPX']].plot(figsize = (15,8))\n",
    "plt.legend()\n",
    "plt.show()"
   ]
  },
  {
   "cell_type": "code",
   "execution_count": 261,
   "metadata": {},
   "outputs": [
    {
     "name": "stdout",
     "output_type": "stream",
     "text": [
      "The correlation between VIX_Ret and VXX_Ret is 0.8888372087155212, \n",
      "The correlation between VXX_Ret and SPX_Ret is -0.8302960490971283\n"
     ]
    }
   ],
   "source": [
    "#data.loc['2009-01-30':'2018-03-29']['VIX_Ret'].corr(data['VXX_Ret'])\n",
    "cor_vxx_vix = data['VIX_Ret'].corr(data['VXX_Ret'])\n",
    "cor_vxx_spx = data['VXX_Ret'].corr(data['SPX_Ret'])\n",
    "print(f\"The correlation between VIX_Ret and VXX_Ret is {cor_vxx_vix}, \\nThe correlation between VXX_Ret and SPX_Ret is {cor_vxx_spx}\")"
   ]
  },
  {
   "cell_type": "code",
   "execution_count": 262,
   "metadata": {},
   "outputs": [
    {
     "name": "stdout",
     "output_type": "stream",
     "text": [
      "The R_vxx annualized is -0.5292213989949858\n",
      "The sigma_vxx annualized is 0.6429871326223582\n",
      "Thus, the price of the risk is -0.8230668580203303\n"
     ]
    }
   ],
   "source": [
    "R_vxx = np.nanmean(data['VXX_Ret'])\n",
    "sigma_vxx = np.std(data['VXX_Ret'])\n",
    "\n",
    "annualize_factor = 252\n",
    "R_vxx_annualized = annualize_factor * R_vxx\n",
    "sigma_vxx_annualized = np.sqrt(annualize_factor) * sigma_vxx\n",
    "\n",
    "print(f\"The R_vxx annualized is {R_vxx_annualized}\\nThe sigma_vxx annualized is {sigma_vxx_annualized}\\nThus, the price of the risk is {R_vxx_annualized/sigma_vxx_annualized}\")"
   ]
  },
  {
   "cell_type": "code",
   "execution_count": 234,
   "metadata": {},
   "outputs": [],
   "source": [
    "data_subsample = data[['VIX','SPX', 'VXX_Ret']]\n",
    "vix_price = data_subsample['VXX_Ret'].resample('Q',convention = 'end').mean()*annualize_factor / (data_subsample['VXX_Ret'].resample('Q',convention = 'end').std()*np.sqrt(annualize_factor))\n",
    "#data_subsample['VIX_std'] = data_subsample['VIX_Ret'].resample('Q',convention = 'end').std()"
   ]
  },
  {
   "cell_type": "code",
   "execution_count": 235,
   "metadata": {},
   "outputs": [],
   "source": [
    "vix_price =  vix_price.rename('VXX_price');"
   ]
  },
  {
   "cell_type": "code",
   "execution_count": 236,
   "metadata": {},
   "outputs": [],
   "source": [
    "data_resample = data_subsample.resample('Q',convention = 'end').mean()\n",
    "data_resample_new = pd.concat((data_resample,vix_price), axis = 1)"
   ]
  },
  {
   "cell_type": "code",
   "execution_count": 237,
   "metadata": {},
   "outputs": [
    {
     "data": {
      "text/html": [
       "<div>\n",
       "<style scoped>\n",
       "    .dataframe tbody tr th:only-of-type {\n",
       "        vertical-align: middle;\n",
       "    }\n",
       "\n",
       "    .dataframe tbody tr th {\n",
       "        vertical-align: top;\n",
       "    }\n",
       "\n",
       "    .dataframe thead th {\n",
       "        text-align: right;\n",
       "    }\n",
       "</style>\n",
       "<table border=\"1\" class=\"dataframe\">\n",
       "  <thead>\n",
       "    <tr style=\"text-align: right;\">\n",
       "      <th></th>\n",
       "      <th>VIX</th>\n",
       "      <th>SPX</th>\n",
       "      <th>VXX_Ret</th>\n",
       "      <th>VXX_price</th>\n",
       "    </tr>\n",
       "    <tr>\n",
       "      <th>Date</th>\n",
       "      <th></th>\n",
       "      <th></th>\n",
       "      <th></th>\n",
       "      <th></th>\n",
       "    </tr>\n",
       "  </thead>\n",
       "  <tbody>\n",
       "    <tr>\n",
       "      <th>2010-03-31</th>\n",
       "      <td>20.151500</td>\n",
       "      <td>1123.436995</td>\n",
       "      <td>-0.006945</td>\n",
       "      <td>-3.790710</td>\n",
       "    </tr>\n",
       "    <tr>\n",
       "      <th>2010-06-30</th>\n",
       "      <td>26.391429</td>\n",
       "      <td>1134.584440</td>\n",
       "      <td>0.007683</td>\n",
       "      <td>2.279270</td>\n",
       "    </tr>\n",
       "    <tr>\n",
       "      <th>2010-09-30</th>\n",
       "      <td>24.283594</td>\n",
       "      <td>1096.246875</td>\n",
       "      <td>-0.008740</td>\n",
       "      <td>-4.644225</td>\n",
       "    </tr>\n",
       "    <tr>\n",
       "      <th>2010-12-31</th>\n",
       "      <td>19.318438</td>\n",
       "      <td>1204.585621</td>\n",
       "      <td>-0.009000</td>\n",
       "      <td>-4.620071</td>\n",
       "    </tr>\n",
       "    <tr>\n",
       "      <th>2011-03-31</th>\n",
       "      <td>18.614839</td>\n",
       "      <td>1302.529027</td>\n",
       "      <td>-0.003358</td>\n",
       "      <td>-1.481988</td>\n",
       "    </tr>\n",
       "  </tbody>\n",
       "</table>\n",
       "</div>"
      ],
      "text/plain": [
       "                  VIX          SPX   VXX_Ret  VXX_price\n",
       "Date                                                   \n",
       "2010-03-31  20.151500  1123.436995 -0.006945  -3.790710\n",
       "2010-06-30  26.391429  1134.584440  0.007683   2.279270\n",
       "2010-09-30  24.283594  1096.246875 -0.008740  -4.644225\n",
       "2010-12-31  19.318438  1204.585621 -0.009000  -4.620071\n",
       "2011-03-31  18.614839  1302.529027 -0.003358  -1.481988"
      ]
     },
     "execution_count": 237,
     "metadata": {},
     "output_type": "execute_result"
    }
   ],
   "source": [
    "data_resample_new.head()"
   ]
  },
  {
   "cell_type": "code",
   "execution_count": 240,
   "metadata": {},
   "outputs": [
    {
     "data": {
      "text/html": [
       "<table class=\"simpletable\">\n",
       "<caption>OLS Regression Results</caption>\n",
       "<tr>\n",
       "  <th>Dep. Variable:</th>        <td>VXX_price</td>    <th>  R-squared:         </th> <td>   0.220</td>\n",
       "</tr>\n",
       "<tr>\n",
       "  <th>Model:</th>                   <td>OLS</td>       <th>  Adj. R-squared:    </th> <td>   0.197</td>\n",
       "</tr>\n",
       "<tr>\n",
       "  <th>Method:</th>             <td>Least Squares</td>  <th>  F-statistic:       </th> <td>   9.856</td>\n",
       "</tr>\n",
       "<tr>\n",
       "  <th>Date:</th>             <td>Wed, 27 Mar 2019</td> <th>  Prob (F-statistic):</th>  <td>0.00343</td>\n",
       "</tr>\n",
       "<tr>\n",
       "  <th>Time:</th>                 <td>22:51:05</td>     <th>  Log-Likelihood:    </th> <td> -83.215</td>\n",
       "</tr>\n",
       "<tr>\n",
       "  <th>No. Observations:</th>      <td>    36</td>      <th>  AIC:               </th> <td>   168.4</td>\n",
       "</tr>\n",
       "<tr>\n",
       "  <th>Df Residuals:</th>          <td>    35</td>      <th>  BIC:               </th> <td>   170.0</td>\n",
       "</tr>\n",
       "<tr>\n",
       "  <th>Df Model:</th>              <td>     1</td>      <th>                     </th>     <td> </td>   \n",
       "</tr>\n",
       "<tr>\n",
       "  <th>Covariance Type:</th>      <td>nonrobust</td>    <th>                     </th>     <td> </td>   \n",
       "</tr>\n",
       "</table>\n",
       "<table class=\"simpletable\">\n",
       "<tr>\n",
       "   <td></td>      <th>coef</th>     <th>std err</th>      <th>t</th>      <th>P>|t|</th>  <th>[0.025</th>    <th>0.975]</th>  \n",
       "</tr>\n",
       "<tr>\n",
       "  <th>SPX</th> <td>   -0.0007</td> <td>    0.000</td> <td>   -3.139</td> <td> 0.003</td> <td>   -0.001</td> <td>   -0.000</td>\n",
       "</tr>\n",
       "</table>\n",
       "<table class=\"simpletable\">\n",
       "<tr>\n",
       "  <th>Omnibus:</th>       <td> 1.108</td> <th>  Durbin-Watson:     </th> <td>   2.241</td>\n",
       "</tr>\n",
       "<tr>\n",
       "  <th>Prob(Omnibus):</th> <td> 0.575</td> <th>  Jarque-Bera (JB):  </th> <td>   1.055</td>\n",
       "</tr>\n",
       "<tr>\n",
       "  <th>Skew:</th>          <td> 0.380</td> <th>  Prob(JB):          </th> <td>   0.590</td>\n",
       "</tr>\n",
       "<tr>\n",
       "  <th>Kurtosis:</th>      <td> 2.643</td> <th>  Cond. No.          </th> <td>    1.00</td>\n",
       "</tr>\n",
       "</table><br/><br/>Warnings:<br/>[1] Standard Errors assume that the covariance matrix of the errors is correctly specified."
      ],
      "text/plain": [
       "<class 'statsmodels.iolib.summary.Summary'>\n",
       "\"\"\"\n",
       "                            OLS Regression Results                            \n",
       "==============================================================================\n",
       "Dep. Variable:              VXX_price   R-squared:                       0.220\n",
       "Model:                            OLS   Adj. R-squared:                  0.197\n",
       "Method:                 Least Squares   F-statistic:                     9.856\n",
       "Date:                Wed, 27 Mar 2019   Prob (F-statistic):            0.00343\n",
       "Time:                        22:51:05   Log-Likelihood:                -83.215\n",
       "No. Observations:                  36   AIC:                             168.4\n",
       "Df Residuals:                      35   BIC:                             170.0\n",
       "Df Model:                           1                                         \n",
       "Covariance Type:            nonrobust                                         \n",
       "==============================================================================\n",
       "                 coef    std err          t      P>|t|      [0.025      0.975]\n",
       "------------------------------------------------------------------------------\n",
       "SPX           -0.0007      0.000     -3.139      0.003      -0.001      -0.000\n",
       "==============================================================================\n",
       "Omnibus:                        1.108   Durbin-Watson:                   2.241\n",
       "Prob(Omnibus):                  0.575   Jarque-Bera (JB):                1.055\n",
       "Skew:                           0.380   Prob(JB):                        0.590\n",
       "Kurtosis:                       2.643   Cond. No.                         1.00\n",
       "==============================================================================\n",
       "\n",
       "Warnings:\n",
       "[1] Standard Errors assume that the covariance matrix of the errors is correctly specified.\n",
       "\"\"\""
      ]
     },
     "execution_count": 240,
     "metadata": {},
     "output_type": "execute_result"
    }
   ],
   "source": [
    "model_1 = sm.OLS(data_resample_new['VXX_price'], data_resample_new['SPX'])\n",
    "results_1 = model_1.fit()\n",
    "results_1.summary()"
   ]
  },
  {
   "cell_type": "code",
   "execution_count": 266,
   "metadata": {},
   "outputs": [
    {
     "name": "stdout",
     "output_type": "stream",
     "text": [
      "The beta in the CAPM model is -0.8306631118951383\n"
     ]
    }
   ],
   "source": [
    "cov_mat = np.cov(data['VXX_Ret'], data['SPX_Ret']) / (np.std(data['VXX_Ret'] * np.std(data['SPX_Ret'])))\n",
    "beta = cov_mat[0][1]\n",
    "print(f\"The beta in the CAPM model is {beta}\")"
   ]
  },
  {
   "cell_type": "code",
   "execution_count": 272,
   "metadata": {},
   "outputs": [
    {
     "name": "stdout",
     "output_type": "stream",
     "text": [
      "The price of risk based on CAPM is -0.12882644820398215\n"
     ]
    }
   ],
   "source": [
    "price_capm = beta * np.mean(data['SPX_Ret'])*annualize_factor / (sigma_vxx*np.sqrt(annualize_factor))\n",
    "print(f\"The price of risk based on CAPM is {price_capm}\")"
   ]
  },
  {
   "cell_type": "code",
   "execution_count": null,
   "metadata": {},
   "outputs": [],
   "source": []
  }
 ],
 "metadata": {
  "kernelspec": {
   "display_name": "Python 3",
   "language": "python",
   "name": "python3"
  },
  "language_info": {
   "codemirror_mode": {
    "name": "ipython",
    "version": 3
   },
   "file_extension": ".py",
   "mimetype": "text/x-python",
   "name": "python",
   "nbconvert_exporter": "python",
   "pygments_lexer": "ipython3",
   "version": "3.6.5"
  },
  "toc": {
   "base_numbering": 1,
   "nav_menu": {},
   "number_sections": true,
   "sideBar": true,
   "skip_h1_title": false,
   "title_cell": "Table of Contents",
   "title_sidebar": "Contents",
   "toc_cell": false,
   "toc_position": {},
   "toc_section_display": true,
   "toc_window_display": false
  }
 },
 "nbformat": 4,
 "nbformat_minor": 2
}
