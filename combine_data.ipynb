{
 "cells": [
  {
   "cell_type": "code",
   "execution_count": 57,
   "metadata": {},
   "outputs": [],
   "source": [
    "import pandas as pd\n",
    "import numpy as np\n",
    "import gc\n",
    "import matplotlib.pyplot as plt\n",
    "from tqdm import tqdm_notebook as tqdm\n",
    "import re\n",
    "import pickle\n",
    "from collections import Counter\n",
    "import json\n",
    "import operator\n",
    "from functools import reduce\n",
    "import glob\n",
    "%matplotlib inline"
   ]
  },
  {
   "cell_type": "code",
   "execution_count": 2,
   "metadata": {
    "code_folding": []
   },
   "outputs": [],
   "source": [
    "#2015-01-02:2017-12-28 weights            2015-05-01：2017-05-01 time\n",
    "#first 18 includes DJI which should be excluded as it is not treated the same as the rest\n",
    "#strategy is buy component stock buy C + buy P\n",
    "#index: sell C + sell P\n",
    "#'DJI': 102456\n",
    "#ticker with incomplete data: 211899 210354"
   ]
  },
  {
   "cell_type": "code",
   "execution_count": 3,
   "metadata": {
    "code_folding": [
     0
    ]
   },
   "outputs": [],
   "source": [
    "ticker_to_secid = {\n",
    "    'AA': 210354,\n",
    "    'AAPL': 101594,\n",
    "    'AXP': 101375,\n",
    "    'BA': 102265,\n",
    "    'BAC': 101966,\n",
    "    'CAT': 102796,\n",
    "    'CSCO': 103042,\n",
    "    'CVX': 102968,\n",
    "    'DIS': 103879,\n",
    "    'DJI': 102456,\n",
    "    'DWDP': 211899,\n",
    "    'GE': 105169,\n",
    "    'GS': 105329,\n",
    "    'HD': 105759,\n",
    "    'HPQ': 105700,\n",
    "    'IBM': 106276,\n",
    "    'INTC': 106203,\n",
    "    'JNJ': 106566,\n",
    "    'JPM': 102936,\n",
    "    'KO': 103125,\n",
    "    'MCD': 107318,\n",
    "    'MMM': 107616,\n",
    "    'MRK': 107430,\n",
    "    'MSFT': 107525,\n",
    "    'NKE': 108161,\n",
    "    'PFE': 108948,\n",
    "    'PG': 109224,\n",
    "    'T': 109775,\n",
    "    'TRV': 109869,\n",
    "    'UNH': 111469,\n",
    "    'UTX': 111459,\n",
    "    'V': 135419,\n",
    "    'VZ': 111668,\n",
    "    'WBA': 111861,\n",
    "    'WMT': 111860,\n",
    "    'XOM': 104533\n",
    "}"
   ]
  },
  {
   "cell_type": "code",
   "execution_count": 19,
   "metadata": {},
   "outputs": [],
   "source": [
    "secid_to_ticker = {v:k for k,v in ticker_to_secid.items()}\n",
    "sec_id_list = list(ticker_to_secid.values())\n",
    "ticker_list = list(ticker_to_secid.keys())"
   ]
  },
  {
   "cell_type": "code",
   "execution_count": 22,
   "metadata": {},
   "outputs": [],
   "source": [
    "ticker_list_no_na = [secid_to_ticker[x] for x in sec_id_list_no_na]"
   ]
  },
  {
   "cell_type": "code",
   "execution_count": 48,
   "metadata": {},
   "outputs": [],
   "source": [
    "ticker_list_no_na;"
   ]
  },
  {
   "cell_type": "code",
   "execution_count": 6,
   "metadata": {
    "code_folding": []
   },
   "outputs": [],
   "source": [
    "sec_id_list_no_na = [\n",
    "    101594, 101375, 102265, 101966, 102796, 103042, 102968, 103879, 105169,\n",
    "    105329, 105759, 105700, 106276, 106203, 106566, 102936, 103125, 107318,\n",
    "    107616, 107430, 107525, 108161, 108948, 109224, 109775, 109869, 111469,\n",
    "    111459, 135419, 111668, 111861, 111860, 104533\n",
    "]"
   ]
  },
  {
   "cell_type": "code",
   "execution_count": 7,
   "metadata": {},
   "outputs": [
    {
     "data": {
      "text/plain": [
       "33"
      ]
     },
     "execution_count": 7,
     "metadata": {},
     "output_type": "execute_result"
    }
   ],
   "source": [
    "len(sec_id_list_no_na)"
   ]
  },
  {
   "cell_type": "code",
   "execution_count": null,
   "metadata": {},
   "outputs": [],
   "source": [
    "dji_df = pd.read_csv('dji_component.csv', index_col = 0)\n",
    "# 2015-01-02:2017-12-28"
   ]
  },
  {
   "cell_type": "code",
   "execution_count": 8,
   "metadata": {},
   "outputs": [],
   "source": [
    "option_dfs_17 = {}\n",
    "option_dfs_33 = {}"
   ]
  },
  {
   "cell_type": "code",
   "execution_count": null,
   "metadata": {},
   "outputs": [],
   "source": [
    "#this is dow jones index\n",
    "#sec_id_list[9]"
   ]
  },
  {
   "cell_type": "code",
   "execution_count": null,
   "metadata": {},
   "outputs": [],
   "source": []
  },
  {
   "cell_type": "code",
   "execution_count": 9,
   "metadata": {},
   "outputs": [
    {
     "data": {
      "application/vnd.jupyter.widget-view+json": {
       "model_id": "767ea1558e5c4f5ea0c749cda5ae2348",
       "version_major": 2,
       "version_minor": 0
      },
      "text/plain": [
       "HBox(children=(IntProgress(value=0, max=17), HTML(value='')))"
      ]
     },
     "metadata": {},
     "output_type": "display_data"
    },
    {
     "name": "stdout",
     "output_type": "stream",
     "text": [
      "\n"
     ]
    }
   ],
   "source": [
    "for sec_id in tqdm(sec_id_list_no_na[:17]):\n",
    "    option_dfs_17[sec_id]= pd.read_csv('./option_data/'+str(sec_id)+'.csv', index_col = 'date', parse_dates =['date', 'exdate'])"
   ]
  },
  {
   "cell_type": "code",
   "execution_count": 10,
   "metadata": {},
   "outputs": [
    {
     "name": "stdout",
     "output_type": "stream",
     "text": [
      "Wall time: 58.2 s\n"
     ]
    }
   ],
   "source": [
    "%%time\n",
    "f = open(\"option_dfs_17.pkl\",\"wb\")\n",
    "pickle.dump(option_dfs_17,f)\n",
    "f.close()"
   ]
  },
  {
   "cell_type": "code",
   "execution_count": 38,
   "metadata": {},
   "outputs": [],
   "source": [
    "del option_dfs_17\n",
    "gc.collect;"
   ]
  },
  {
   "cell_type": "code",
   "execution_count": 12,
   "metadata": {},
   "outputs": [
    {
     "data": {
      "application/vnd.jupyter.widget-view+json": {
       "model_id": "0c09eff1ceff49ceb733a72971998d26",
       "version_major": 2,
       "version_minor": 0
      },
      "text/plain": [
       "HBox(children=(IntProgress(value=0, max=16), HTML(value='')))"
      ]
     },
     "metadata": {},
     "output_type": "display_data"
    },
    {
     "name": "stdout",
     "output_type": "stream",
     "text": [
      "\n"
     ]
    }
   ],
   "source": [
    "for sec_id in tqdm(sec_id_list[17:33]):\n",
    "    option_dfs_33[sec_id]= pd.read_csv('./option_data/'+str(sec_id)+'.csv', index_col = 'date', parse_dates =['date', 'exdate'])\n",
    "\n",
    "f = open(\"option_dfs_33.pkl\",\"wb\")\n",
    "pickle.dump(option_dfs_33,f)\n",
    "f.close()"
   ]
  },
  {
   "cell_type": "code",
   "execution_count": 45,
   "metadata": {},
   "outputs": [],
   "source": [
    "del option_dfs_33\n",
    "gc.collect;"
   ]
  },
  {
   "cell_type": "code",
   "execution_count": 26,
   "metadata": {},
   "outputs": [
    {
     "name": "stdout",
     "output_type": "stream",
     "text": [
      "Wall time: 14.4 s\n"
     ]
    }
   ],
   "source": [
    "%%time\n",
    "#preprocess 17 first\n",
    "with open('option_dfs_17.pkl', 'rb') as handle:\n",
    "    option_dfs_17 = pickle.load(handle)"
   ]
  },
  {
   "cell_type": "code",
   "execution_count": 39,
   "metadata": {},
   "outputs": [
    {
     "name": "stdout",
     "output_type": "stream",
     "text": [
      "Wall time: 10.9 s\n"
     ]
    }
   ],
   "source": [
    "%%time\n",
    "#preprocess 33 later\n",
    "with open('option_dfs_33.pkl', 'rb') as handle:\n",
    "    option_dfs_33 = pickle.load(handle)"
   ]
  },
  {
   "cell_type": "code",
   "execution_count": 50,
   "metadata": {},
   "outputs": [],
   "source": [
    "option_dfs_hpq_wmt_xom_wba = {}\n",
    "option_dfs_hpq_wmt_xom_wba[ticker_to_secid['HPQ']] = pd.read_csv('./option_data/'+str(ticker_to_secid['HPQ'])+'.csv', index_col = 'date', parse_dates =['date', 'exdate'])\n",
    "option_dfs_hpq_wmt_xom_wba[ticker_to_secid['WMT']] = pd.read_csv('./option_data/'+str(ticker_to_secid['WMT'])+'.csv', index_col = 'date', parse_dates =['date', 'exdate'])\n",
    "option_dfs_hpq_wmt_xom_wba[ticker_to_secid['XOM']] = pd.read_csv('./option_data/'+str(ticker_to_secid['XOM'])+'.csv', index_col = 'date', parse_dates =['date', 'exdate'])\n",
    "option_dfs_hpq_wmt_xom_wba[ticker_to_secid['WBA']] = pd.read_csv('./option_data/'+str(ticker_to_secid['WBA'])+'.csv', index_col = 'date', parse_dates =['date', 'exdate'])\n",
    "\n"
   ]
  },
  {
   "cell_type": "code",
   "execution_count": null,
   "metadata": {},
   "outputs": [],
   "source": [
    "del option_dfs_hpq_wmt_xom_wba\n",
    "gc.collect()"
   ]
  },
  {
   "cell_type": "code",
   "execution_count": 53,
   "metadata": {},
   "outputs": [],
   "source": [
    "def debug():\n",
    "    #global sec_id_list_no_na, option_dfs_33\n",
    "    global option_dfs_\n",
    "    stock_df_all = pd.read_csv('all_stock.csv', index_col = 0, parse_dates = True) \n",
    "    stock_df_all = stock_df_all[pd.notnull(stock_df_all['DJI'])]\n",
    "    print(stock_df_all.columns)\n",
    "    for sec_id in tqdm([ticker_to_secid['WBA'],100000]): #change 0:1 to :17 whence finishing debug\n",
    "        \n",
    "        assert secid_to_ticker[sec_id] == 'WBA'\n",
    "        print(f'producing result dataframe for {secid_to_ticker[sec_id]}')\n",
    "        option_dfs_hpq_wmt_xom_wba[sec_id] = option_dfs_hpq_wmt_xom_wba[sec_id]['2015-05-01':'2017-05-01'] #get relevant datetime\n",
    "        #print('breakpoint_0 here')\n",
    "        option_df = option_dfs_hpq_wmt_xom_wba[sec_id].copy(deep = True)\n",
    "        #print('breakpoint_1 here')\n",
    "        stock_df = pd.DataFrame(stock_df_all[secid_to_ticker[sec_id]]['2015-05-01':'2017-05-01'])\n",
    "        #print('breakpoint_2 here')\n",
    "        set_diff = list(set(option_df.index.unique()).difference(stock_df.index.unique()))\n",
    "        \n",
    "        #print('breakpoint_3 here')\n",
    "        if len(option_df.index.unique()) > len(stock_df.index.unique()):\n",
    "            option_df = option_df.drop(set_diff)\n",
    "        elif len(option_df.index.unique()) < len(stock_df.index.unique()):\n",
    "            stock_df = stock_df.drop(set_diff)\n",
    "        \n",
    "        #print('stock_df length ', len(stock_df))\n",
    "        option_df['Adj_Close'] = np.zeros(len(option_df))\n",
    "        num_list = list(Counter(pd.to_datetime(option_df.index)).values())\n",
    "        \n",
    "        #print('length of num_list', len(num_list))\n",
    "        \n",
    "        #print('length of enumerate', len(stock_df[secid_to_ticker[sec_id]]))\n",
    "        big_list = [] #spot price list for the option_df\n",
    "        \n",
    "        for i, price in tqdm(enumerate(stock_df[secid_to_ticker[sec_id]].values)):\n",
    "            big_list.append(([price]*num_list[i]))\n",
    "        big_list = reduce(operator.concat, big_list)\n",
    "        \n",
    "        option_df['Adj_Close'] = big_list\n",
    "        \n",
    "        option_df['strike_price_adjusted'] = option_df['strike_price'] / 1000\n",
    "        option_df['atm_diff'] = np.abs(option_df['strike_price_adjusted'] - option_df['Adj_Close']) \n",
    "        option_df['date'] = option_df.index\n",
    "        #handling 1 month forward contract e.g for days in Sep, we buy contracts that ends in Oct\n",
    "        option_df['theoretic_end_month'] = option_df['date'].dt.month + 1\n",
    "        option_df['exdate_flag'] = option_df['theoretic_end_month'] == option_df['exdate'].dt.month\n",
    "        option_df_exdate_1_month = option_df[option_df['exdate_flag'] == True]\n",
    "   \n",
    "        del option_df\n",
    "        gc.collect();\n",
    "        #handling at the money put-call pair \n",
    "        option_df_exdate_1_month['atm_flag'] = np.full(len(option_df_exdate_1_month), np.inf)\n",
    "        min_list = []\n",
    "        \n",
    "        for date in tqdm(option_df_exdate_1_month['date']):\n",
    "\n",
    "            min_val = option_df_exdate_1_month.loc[pd.to_datetime(date)]['atm_diff'].min()\n",
    "            min_list.append(min_val)\n",
    "        \n",
    "        option_df_exdate_1_month['atm_flag'] = option_df_exdate_1_month['atm_diff'].isin(min_list).astype(int)\n",
    "        option_df_exdate_1_month_atm = option_df_exdate_1_month[option_df_exdate_1_month['atm_flag']==1]\n",
    "        \n",
    "        #print(option_df_exdate_1_month_atm.head())\n",
    "        \n",
    "        del option_df_exdate_1_month\n",
    "        gc.collect();\n",
    "        #aggregate by sum to that the vega and theta would directly be the vega and theta of the straddle\n",
    "        straddle_df = option_df_exdate_1_month_atm.groupby('date').agg('sum')\n",
    "        \n",
    "        #print(straddle_df.head(6))\n",
    "        \n",
    "        del option_df_exdate_1_month_atm\n",
    "        gc.collect();\n",
    "        \n",
    "        #compute average of implied volatility\n",
    "        straddle_df['impl_volatility'] = straddle_df['impl_volatility'].div(straddle_df['atm_flag'], axis = 0)\n",
    "        straddle_df['strike_price_adjusted'] = straddle_df['strike_price_adjusted'].div(straddle_df['atm_flag'], axis = 0)\n",
    "        straddle_df['Adj_Close'] = straddle_df['Adj_Close'].div(straddle_df['atm_flag'], axis = 0)\n",
    "        straddle_df['vega'] = straddle_df['vega'].div(straddle_df['atm_flag']/ 2.0, axis = 0)\n",
    "        straddle_df['theta'] = straddle_df['theta'].div(straddle_df['atm_flag']/ 2.0, axis = 0)\n",
    "        \n",
    "        straddle_df_output = straddle_df[['Adj_Close', 'vega', 'theta', 'strike_price_adjusted', 'impl_volatility']]\n",
    "        \n",
    "        del straddle_df\n",
    "        gc.collect();\n",
    "        \n",
    "        straddle_df_output.columns = straddle_df_output.columns.map(lambda x: str(x) + '_' + str(secid_to_ticker[sec_id]))\n",
    "        straddle_df_output.to_csv('./Outputs/'+str(secid_to_ticker[sec_id])+'.csv')\n",
    "        \n",
    "        del straddle_df_output\n",
    "        gc.collect();\n",
    "        \n",
    "    return None\n"
   ]
  },
  {
   "cell_type": "code",
   "execution_count": 54,
   "metadata": {
    "scrolled": true
   },
   "outputs": [
    {
     "name": "stdout",
     "output_type": "stream",
     "text": [
      "Index(['AA', 'AAPL', 'AXP', 'BA', 'BAC', 'CAT', 'CSCO', 'CVX', 'DIS', 'DJI',\n",
      "       'GE', 'GS', 'HD', 'HP', 'IBM', 'INTC', 'JNJ', 'JPM', 'KO', 'MCD', 'MMM',\n",
      "       'MRK', 'MSFT', 'NKE', 'PFE', 'PG', 'T', 'TRV', 'UNH', 'UTX', 'V', 'VZ',\n",
      "       'WBA', 'WMT', 'XOM'],\n",
      "      dtype='object')\n"
     ]
    },
    {
     "data": {
      "application/vnd.jupyter.widget-view+json": {
       "model_id": "27d1f90f71224e389a4677a853f5348b",
       "version_major": 2,
       "version_minor": 0
      },
      "text/plain": [
       "HBox(children=(IntProgress(value=0, max=2), HTML(value='')))"
      ]
     },
     "metadata": {},
     "output_type": "display_data"
    },
    {
     "name": "stdout",
     "output_type": "stream",
     "text": [
      "producing result dataframe for WBA\n"
     ]
    },
    {
     "data": {
      "application/vnd.jupyter.widget-view+json": {
       "model_id": "b95a7a67677442b4bd5825a71fbd825e",
       "version_major": 2,
       "version_minor": 0
      },
      "text/plain": [
       "HBox(children=(IntProgress(value=1, bar_style='info', max=1), HTML(value='')))"
      ]
     },
     "metadata": {},
     "output_type": "display_data"
    },
    {
     "data": {
      "application/vnd.jupyter.widget-view+json": {
       "model_id": "6584292d69034354890a6cf77033b8a1",
       "version_major": 2,
       "version_minor": 0
      },
      "text/plain": [
       "HBox(children=(IntProgress(value=0, max=159702), HTML(value='')))"
      ]
     },
     "metadata": {},
     "output_type": "display_data"
    },
    {
     "name": "stderr",
     "output_type": "stream",
     "text": [
      "C:\\ProgramData\\Anaconda3\\lib\\site-packages\\ipykernel_launcher.py:67: FutureWarning: 'date' is both an index level and a column label.\n",
      "Defaulting to column, but this will raise an ambiguity error in a future version\n"
     ]
    },
    {
     "ename": "KeyError",
     "evalue": "100000",
     "output_type": "error",
     "traceback": [
      "\u001b[1;31m---------------------------------------------------------------------------\u001b[0m",
      "\u001b[1;31mKeyError\u001b[0m                                  Traceback (most recent call last)",
      "\u001b[1;32m<ipython-input-54-562b7cea5782>\u001b[0m in \u001b[0;36m<module>\u001b[1;34m()\u001b[0m\n\u001b[1;32m----> 1\u001b[1;33m \u001b[0mdebug\u001b[0m\u001b[1;33m(\u001b[0m\u001b[1;33m)\u001b[0m\u001b[1;33m\u001b[0m\u001b[0m\n\u001b[0m",
      "\u001b[1;32m<ipython-input-53-0dafa9c81d92>\u001b[0m in \u001b[0;36mdebug\u001b[1;34m()\u001b[0m\n\u001b[0;32m      7\u001b[0m     \u001b[1;32mfor\u001b[0m \u001b[0msec_id\u001b[0m \u001b[1;32min\u001b[0m \u001b[0mtqdm\u001b[0m\u001b[1;33m(\u001b[0m\u001b[1;33m[\u001b[0m\u001b[0mticker_to_secid\u001b[0m\u001b[1;33m[\u001b[0m\u001b[1;34m'WBA'\u001b[0m\u001b[1;33m]\u001b[0m\u001b[1;33m,\u001b[0m\u001b[1;36m100000\u001b[0m\u001b[1;33m]\u001b[0m\u001b[1;33m)\u001b[0m\u001b[1;33m:\u001b[0m \u001b[1;31m#change 0:1 to :17 whence finishing debug\u001b[0m\u001b[1;33m\u001b[0m\u001b[0m\n\u001b[0;32m      8\u001b[0m \u001b[1;33m\u001b[0m\u001b[0m\n\u001b[1;32m----> 9\u001b[1;33m         \u001b[1;32massert\u001b[0m \u001b[0msecid_to_ticker\u001b[0m\u001b[1;33m[\u001b[0m\u001b[0msec_id\u001b[0m\u001b[1;33m]\u001b[0m \u001b[1;33m==\u001b[0m \u001b[1;34m'WBA'\u001b[0m\u001b[1;33m\u001b[0m\u001b[0m\n\u001b[0m\u001b[0;32m     10\u001b[0m         \u001b[0mprint\u001b[0m\u001b[1;33m(\u001b[0m\u001b[1;34mf'producing result dataframe for {secid_to_ticker[sec_id]}'\u001b[0m\u001b[1;33m)\u001b[0m\u001b[1;33m\u001b[0m\u001b[0m\n\u001b[0;32m     11\u001b[0m         \u001b[0moption_dfs_hpq_wmt_xom_wba\u001b[0m\u001b[1;33m[\u001b[0m\u001b[0msec_id\u001b[0m\u001b[1;33m]\u001b[0m \u001b[1;33m=\u001b[0m \u001b[0moption_dfs_hpq_wmt_xom_wba\u001b[0m\u001b[1;33m[\u001b[0m\u001b[0msec_id\u001b[0m\u001b[1;33m]\u001b[0m\u001b[1;33m[\u001b[0m\u001b[1;34m'2015-05-01'\u001b[0m\u001b[1;33m:\u001b[0m\u001b[1;34m'2017-05-01'\u001b[0m\u001b[1;33m]\u001b[0m \u001b[1;31m#get relevant datetime\u001b[0m\u001b[1;33m\u001b[0m\u001b[0m\n",
      "\u001b[1;31mKeyError\u001b[0m: 100000"
     ]
    }
   ],
   "source": [
    "debug()"
   ]
  },
  {
   "cell_type": "code",
   "execution_count": null,
   "metadata": {},
   "outputs": [],
   "source": []
  },
  {
   "cell_type": "code",
   "execution_count": 14,
   "metadata": {},
   "outputs": [],
   "source": [
    "option_df_dji = {}\n",
    "option_df_dji[102456] = pd.read_csv('./option_data/'+str(102456)+'.csv', index_col = 'date', parse_dates =['date', 'exdate'])"
   ]
  },
  {
   "cell_type": "code",
   "execution_count": 17,
   "metadata": {},
   "outputs": [],
   "source": [
    "#for dow jones\n",
    "\n",
    "def dji_debug():\n",
    "    global option_dfs_dji\n",
    "    stock_df_all = pd.read_csv('all_stock.csv', index_col = 0, parse_dates = True) \n",
    "    #stock_df_all = stock_df_all[pd.notnull(stock_df_all['DJI'])]\n",
    "    for sec_id in tqdm([ticker_to_secid['DJI'], 100000]): #100000 is made up stuff to keep the structure of a loop\n",
    "        \n",
    "        print(f'producing result dataframe for {secid_to_ticker[sec_id]}')\n",
    "        assert secid_to_ticker[sec_id] == 'DJI'\n",
    "        \n",
    "        option_df_dji[sec_id] = option_df_dji[sec_id]['2015-05-01':'2017-05-01'] #get relevant datetime\n",
    "        #print('breakpoint_0 here')\n",
    "        option_df = option_df_dji[sec_id].copy(deep = True)\n",
    "        #print('breakpoint_1 here')\n",
    "        stock_df = pd.DataFrame(stock_df_all[secid_to_ticker[sec_id]]['2015-05-01':'2017-05-01'])\n",
    "        #print('breakpoint_2 here')\n",
    "        set_diff = list(set(option_df.index.unique()).difference(stock_df.index.unique()))\n",
    "        \n",
    "        #print('breakpoint_3 here')\n",
    "        if len(option_df.index.unique()) > len(stock_df.index.unique()):\n",
    "            option_df = option_df.drop(set_diff)\n",
    "        elif len(option_df.index.unique()) < len(stock_df.index.unique()):\n",
    "            stock_df = stock_df.drop(set_diff)\n",
    "        \n",
    "        #print('stock_df length ', len(stock_df))\n",
    "        option_df['Adj_Close'] = np.zeros(len(option_df))\n",
    "        num_list = list(Counter(pd.to_datetime(option_df.index)).values())\n",
    "        \n",
    "        #print('length of num_list', len(num_list))\n",
    "        \n",
    "        #print('length of enumerate', len(stock_df[secid_to_ticker[sec_id]]))\n",
    "        big_list = [] #spot price list for the option_df\n",
    "        \n",
    "        for i, price in tqdm(enumerate(stock_df[secid_to_ticker[sec_id]].values)):\n",
    "            big_list.append(([price]*num_list[i]))\n",
    "        big_list = reduce(operator.concat, big_list)\n",
    "        \n",
    "        option_df['Adj_Close'] = big_list\n",
    "        \n",
    "        option_df['strike_price_adjusted'] = option_df['strike_price'] / 10 #note that DJI multiplier is 10\n",
    "        option_df['atm_diff'] = np.abs(option_df['strike_price_adjusted'] - option_df['Adj_Close']) \n",
    "        option_df['date'] = option_df.index\n",
    "        #handling 1 month forward contract e.g for days in Sep, we buy contracts that ends in Oct\n",
    "        option_df['theoretic_end_month'] = option_df['date'].dt.month + 1\n",
    "        option_df['exdate_flag'] = option_df['theoretic_end_month'] == option_df['exdate'].dt.month\n",
    "        option_df_exdate_1_month = option_df[option_df['exdate_flag'] == True]\n",
    "   \n",
    "        del option_df\n",
    "        gc.collect();\n",
    "        #handling at the money put-call pair \n",
    "        option_df_exdate_1_month['atm_flag'] = np.full(len(option_df_exdate_1_month), np.inf)\n",
    "        min_list = []\n",
    "        \n",
    "        for date in tqdm(option_df_exdate_1_month['date']):\n",
    "\n",
    "            min_val = option_df_exdate_1_month.loc[pd.to_datetime(date)]['atm_diff'].min()\n",
    "            min_list.append(min_val)\n",
    "        \n",
    "        option_df_exdate_1_month['atm_flag'] = option_df_exdate_1_month['atm_diff'].isin(min_list).astype(int)\n",
    "        option_df_exdate_1_month_atm = option_df_exdate_1_month[option_df_exdate_1_month['atm_flag']==1]\n",
    "        \n",
    "        #print(option_df_exdate_1_month_atm.head())\n",
    "        \n",
    "        del option_df_exdate_1_month\n",
    "        gc.collect();\n",
    "        #aggregate by sum to that the vega and theta would directly be the vega and theta of the straddle\n",
    "        straddle_df = option_df_exdate_1_month_atm.groupby('date').agg('sum')\n",
    "        \n",
    "        #print(straddle_df.head(6))\n",
    "        \n",
    "        del option_df_exdate_1_month_atm\n",
    "        gc.collect();\n",
    "        \n",
    "        #compute average of implied volatility\n",
    "        straddle_df['impl_volatility'] = straddle_df['impl_volatility'].div(straddle_df['atm_flag'], axis = 0)\n",
    "        straddle_df['strike_price_adjusted'] = straddle_df['strike_price_adjusted'].div(straddle_df['atm_flag'], axis = 0)\n",
    "        straddle_df['Adj_Close'] = straddle_df['Adj_Close'].div(straddle_df['atm_flag'], axis = 0)\n",
    "        straddle_df['vega'] = straddle_df['vega'].div(straddle_df['atm_flag']/ 2.0, axis = 0)\n",
    "        straddle_df['theta'] = straddle_df['theta'].div(straddle_df['atm_flag']/ 2.0, axis = 0)\n",
    "        \n",
    "        straddle_df_output = straddle_df[['Adj_Close', 'vega', 'theta', 'strike_price_adjusted', 'impl_volatility']]\n",
    "        \n",
    "        del straddle_df\n",
    "        gc.collect();\n",
    "        \n",
    "        straddle_df_output.columns = straddle_df_output.columns.map(lambda x: str(x) + '_' + str(secid_to_ticker[sec_id]))\n",
    "        straddle_df_output.to_csv('./Outputs/'+str(secid_to_ticker[sec_id])+'.csv')\n",
    "        \n",
    "        del straddle_df_output\n",
    "        gc.collect();\n",
    "        \n",
    "    return None\n"
   ]
  },
  {
   "cell_type": "code",
   "execution_count": 18,
   "metadata": {
    "scrolled": true
   },
   "outputs": [
    {
     "data": {
      "application/vnd.jupyter.widget-view+json": {
       "model_id": "5b5a4c40859647daa51e58da06ef7caf",
       "version_major": 2,
       "version_minor": 0
      },
      "text/plain": [
       "HBox(children=(IntProgress(value=0, max=2), HTML(value='')))"
      ]
     },
     "metadata": {},
     "output_type": "display_data"
    },
    {
     "name": "stdout",
     "output_type": "stream",
     "text": [
      "producing result dataframe for DJI\n"
     ]
    },
    {
     "data": {
      "application/vnd.jupyter.widget-view+json": {
       "model_id": "3188281774694d40b9de76ebfd2194e2",
       "version_major": 2,
       "version_minor": 0
      },
      "text/plain": [
       "HBox(children=(IntProgress(value=1, bar_style='info', max=1), HTML(value='')))"
      ]
     },
     "metadata": {},
     "output_type": "display_data"
    },
    {
     "data": {
      "application/vnd.jupyter.widget-view+json": {
       "model_id": "bdd5097853934684b19f5a97257f5bac",
       "version_major": 2,
       "version_minor": 0
      },
      "text/plain": [
       "HBox(children=(IntProgress(value=0, max=76789), HTML(value='')))"
      ]
     },
     "metadata": {},
     "output_type": "display_data"
    },
    {
     "name": "stderr",
     "output_type": "stream",
     "text": [
      "C:\\ProgramData\\Anaconda3\\lib\\site-packages\\ipykernel_launcher.py:68: FutureWarning: 'date' is both an index level and a column label.\n",
      "Defaulting to column, but this will raise an ambiguity error in a future version\n"
     ]
    },
    {
     "ename": "KeyError",
     "evalue": "100000",
     "output_type": "error",
     "traceback": [
      "\u001b[1;31m---------------------------------------------------------------------------\u001b[0m",
      "\u001b[1;31mKeyError\u001b[0m                                  Traceback (most recent call last)",
      "\u001b[1;32m<ipython-input-18-a128eea6620a>\u001b[0m in \u001b[0;36m<module>\u001b[1;34m()\u001b[0m\n\u001b[1;32m----> 1\u001b[1;33m \u001b[0mdji_debug\u001b[0m\u001b[1;33m(\u001b[0m\u001b[1;33m)\u001b[0m\u001b[1;33m\u001b[0m\u001b[0m\n\u001b[0m",
      "\u001b[1;32m<ipython-input-17-a21561596ef9>\u001b[0m in \u001b[0;36mdji_debug\u001b[1;34m()\u001b[0m\n\u001b[0;32m      7\u001b[0m     \u001b[1;32mfor\u001b[0m \u001b[0msec_id\u001b[0m \u001b[1;32min\u001b[0m \u001b[0mtqdm\u001b[0m\u001b[1;33m(\u001b[0m\u001b[1;33m[\u001b[0m\u001b[0mticker_to_secid\u001b[0m\u001b[1;33m[\u001b[0m\u001b[1;34m'DJI'\u001b[0m\u001b[1;33m]\u001b[0m\u001b[1;33m,\u001b[0m \u001b[1;36m100000\u001b[0m\u001b[1;33m]\u001b[0m\u001b[1;33m)\u001b[0m\u001b[1;33m:\u001b[0m \u001b[1;31m#100000 is made up stuff to keep the structure of a loop\u001b[0m\u001b[1;33m\u001b[0m\u001b[0m\n\u001b[0;32m      8\u001b[0m \u001b[1;33m\u001b[0m\u001b[0m\n\u001b[1;32m----> 9\u001b[1;33m         \u001b[0mprint\u001b[0m\u001b[1;33m(\u001b[0m\u001b[1;34mf'producing result dataframe for {secid_to_ticker[sec_id]}'\u001b[0m\u001b[1;33m)\u001b[0m\u001b[1;33m\u001b[0m\u001b[0m\n\u001b[0m\u001b[0;32m     10\u001b[0m         \u001b[1;32massert\u001b[0m \u001b[0msecid_to_ticker\u001b[0m\u001b[1;33m[\u001b[0m\u001b[0msec_id\u001b[0m\u001b[1;33m]\u001b[0m \u001b[1;33m==\u001b[0m \u001b[1;34m'DJI'\u001b[0m\u001b[1;33m\u001b[0m\u001b[0m\n\u001b[0;32m     11\u001b[0m \u001b[1;33m\u001b[0m\u001b[0m\n",
      "\u001b[1;31mKeyError\u001b[0m: 100000"
     ]
    }
   ],
   "source": [
    "dji_debug()"
   ]
  },
  {
   "cell_type": "code",
   "execution_count": null,
   "metadata": {},
   "outputs": [],
   "source": []
  },
  {
   "cell_type": "code",
   "execution_count": 64,
   "metadata": {},
   "outputs": [],
   "source": [
    "path = r'./Outputs' # use your path\n",
    "all_files = glob.glob(path + \"/*.csv\")"
   ]
  },
  {
   "cell_type": "code",
   "execution_count": 68,
   "metadata": {},
   "outputs": [],
   "source": [
    "all_files.remove('./Outputs\\\\AAPL.csv')"
   ]
  },
  {
   "cell_type": "code",
   "execution_count": 83,
   "metadata": {},
   "outputs": [],
   "source": [
    "first_df = pd.read_csv('./Outputs\\\\AAPL.csv', index_col = 0, parse_dates = True)"
   ]
  },
  {
   "cell_type": "code",
   "execution_count": 81,
   "metadata": {},
   "outputs": [],
   "source": [
    "del first_df\n",
    "gc.collect();"
   ]
  },
  {
   "cell_type": "code",
   "execution_count": 84,
   "metadata": {},
   "outputs": [
    {
     "data": {
      "application/vnd.jupyter.widget-view+json": {
       "model_id": "240c7173ebde430fbb1133a547d6732d",
       "version_major": 2,
       "version_minor": 0
      },
      "text/plain": [
       "HBox(children=(IntProgress(value=0, max=32), HTML(value='')))"
      ]
     },
     "metadata": {},
     "output_type": "display_data"
    }
   ],
   "source": [
    "for filename in tqdm(all_files):\n",
    "    tmp_df = pd.read_csv(filename, index_col=0, parse_dates = True)\n",
    "    first_df = first_df.join(tmp_df)\n",
    "    #df1.join(df2)\n",
    "    del tmp_df\n",
    "    gc.collect();"
   ]
  },
  {
   "cell_type": "code",
   "execution_count": 85,
   "metadata": {},
   "outputs": [
    {
     "data": {
      "text/html": [
       "<div>\n",
       "<style scoped>\n",
       "    .dataframe tbody tr th:only-of-type {\n",
       "        vertical-align: middle;\n",
       "    }\n",
       "\n",
       "    .dataframe tbody tr th {\n",
       "        vertical-align: top;\n",
       "    }\n",
       "\n",
       "    .dataframe thead th {\n",
       "        text-align: right;\n",
       "    }\n",
       "</style>\n",
       "<table border=\"1\" class=\"dataframe\">\n",
       "  <thead>\n",
       "    <tr style=\"text-align: right;\">\n",
       "      <th></th>\n",
       "      <th>Adj_Close_AAPL</th>\n",
       "      <th>vega_AAPL</th>\n",
       "      <th>theta_AAPL</th>\n",
       "      <th>strike_price_adjusted_AAPL</th>\n",
       "      <th>impl_volatility_AAPL</th>\n",
       "      <th>Adj_Close_AXP</th>\n",
       "      <th>vega_AXP</th>\n",
       "      <th>theta_AXP</th>\n",
       "      <th>strike_price_adjusted_AXP</th>\n",
       "      <th>impl_volatility_AXP</th>\n",
       "      <th>...</th>\n",
       "      <th>Adj_Close_WMT</th>\n",
       "      <th>vega_WMT</th>\n",
       "      <th>theta_WMT</th>\n",
       "      <th>strike_price_adjusted_WMT</th>\n",
       "      <th>impl_volatility_WMT</th>\n",
       "      <th>Adj_Close_XOM</th>\n",
       "      <th>vega_XOM</th>\n",
       "      <th>theta_XOM</th>\n",
       "      <th>strike_price_adjusted_XOM</th>\n",
       "      <th>impl_volatility_XOM</th>\n",
       "    </tr>\n",
       "    <tr>\n",
       "      <th>date</th>\n",
       "      <th></th>\n",
       "      <th></th>\n",
       "      <th></th>\n",
       "      <th></th>\n",
       "      <th></th>\n",
       "      <th></th>\n",
       "      <th></th>\n",
       "      <th></th>\n",
       "      <th></th>\n",
       "      <th></th>\n",
       "      <th></th>\n",
       "      <th></th>\n",
       "      <th></th>\n",
       "      <th></th>\n",
       "      <th></th>\n",
       "      <th></th>\n",
       "      <th></th>\n",
       "      <th></th>\n",
       "      <th></th>\n",
       "      <th></th>\n",
       "      <th></th>\n",
       "    </tr>\n",
       "  </thead>\n",
       "  <tbody>\n",
       "    <tr>\n",
       "      <th>2015-05-01</th>\n",
       "      <td>120.220688</td>\n",
       "      <td>24.592235</td>\n",
       "      <td>-31.288457</td>\n",
       "      <td>120.0</td>\n",
       "      <td>0.266121</td>\n",
       "      <td>72.806160</td>\n",
       "      <td>11.209653</td>\n",
       "      <td>-9.831198</td>\n",
       "      <td>73.0</td>\n",
       "      <td>0.182940</td>\n",
       "      <td>...</td>\n",
       "      <td>70.807358</td>\n",
       "      <td>4.031378</td>\n",
       "      <td>-4.258377</td>\n",
       "      <td>71.0</td>\n",
       "      <td>0.111720</td>\n",
       "      <td>76.477814</td>\n",
       "      <td>2.420475</td>\n",
       "      <td>-2.910611</td>\n",
       "      <td>76.5</td>\n",
       "      <td>0.127041</td>\n",
       "    </tr>\n",
       "    <tr>\n",
       "      <th>2015-05-04</th>\n",
       "      <td>119.987633</td>\n",
       "      <td>23.288624</td>\n",
       "      <td>-30.393473</td>\n",
       "      <td>120.0</td>\n",
       "      <td>0.255084</td>\n",
       "      <td>73.368507</td>\n",
       "      <td>9.875354</td>\n",
       "      <td>-9.429772</td>\n",
       "      <td>73.5</td>\n",
       "      <td>0.180267</td>\n",
       "      <td>...</td>\n",
       "      <td>71.329834</td>\n",
       "      <td>3.352818</td>\n",
       "      <td>-3.713743</td>\n",
       "      <td>71.5</td>\n",
       "      <td>0.107899</td>\n",
       "      <td>76.701599</td>\n",
       "      <td>2.064004</td>\n",
       "      <td>-2.738732</td>\n",
       "      <td>76.5</td>\n",
       "      <td>0.129785</td>\n",
       "    </tr>\n",
       "    <tr>\n",
       "      <th>2015-05-05</th>\n",
       "      <td>117.283951</td>\n",
       "      <td>20.631163</td>\n",
       "      <td>-32.479980</td>\n",
       "      <td>117.0</td>\n",
       "      <td>0.270121</td>\n",
       "      <td>72.956108</td>\n",
       "      <td>11.103545</td>\n",
       "      <td>-12.736984</td>\n",
       "      <td>73.0</td>\n",
       "      <td>0.211315</td>\n",
       "      <td>...</td>\n",
       "      <td>70.383942</td>\n",
       "      <td>6.442647</td>\n",
       "      <td>-16.742333</td>\n",
       "      <td>70.0</td>\n",
       "      <td>0.263768</td>\n",
       "      <td>76.271233</td>\n",
       "      <td>4.786442</td>\n",
       "      <td>-14.671919</td>\n",
       "      <td>76.5</td>\n",
       "      <td>0.257931</td>\n",
       "    </tr>\n",
       "    <tr>\n",
       "      <th>2015-05-06</th>\n",
       "      <td>116.547424</td>\n",
       "      <td>22.435245</td>\n",
       "      <td>-35.689655</td>\n",
       "      <td>117.0</td>\n",
       "      <td>0.285550</td>\n",
       "      <td>72.965508</td>\n",
       "      <td>11.273447</td>\n",
       "      <td>-13.992166</td>\n",
       "      <td>73.0</td>\n",
       "      <td>0.222117</td>\n",
       "      <td>...</td>\n",
       "      <td>70.393013</td>\n",
       "      <td>5.288666</td>\n",
       "      <td>-5.917536</td>\n",
       "      <td>70.0</td>\n",
       "      <td>0.186177</td>\n",
       "      <td>75.909729</td>\n",
       "      <td>6.226282</td>\n",
       "      <td>-20.782588</td>\n",
       "      <td>76.5</td>\n",
       "      <td>0.342186</td>\n",
       "    </tr>\n",
       "    <tr>\n",
       "      <th>2015-05-07</th>\n",
       "      <td>117.268303</td>\n",
       "      <td>22.650308</td>\n",
       "      <td>-29.379110</td>\n",
       "      <td>117.0</td>\n",
       "      <td>0.267944</td>\n",
       "      <td>73.509102</td>\n",
       "      <td>9.340515</td>\n",
       "      <td>-7.915075</td>\n",
       "      <td>73.5</td>\n",
       "      <td>0.168798</td>\n",
       "      <td>...</td>\n",
       "      <td>70.737488</td>\n",
       "      <td>5.861515</td>\n",
       "      <td>-5.920061</td>\n",
       "      <td>70.5</td>\n",
       "      <td>0.179644</td>\n",
       "      <td>75.401871</td>\n",
       "      <td>5.181361</td>\n",
       "      <td>-12.996575</td>\n",
       "      <td>75.0</td>\n",
       "      <td>0.315902</td>\n",
       "    </tr>\n",
       "  </tbody>\n",
       "</table>\n",
       "<p>5 rows × 165 columns</p>\n",
       "</div>"
      ],
      "text/plain": [
       "            Adj_Close_AAPL  vega_AAPL  theta_AAPL  strike_price_adjusted_AAPL  \\\n",
       "date                                                                            \n",
       "2015-05-01      120.220688  24.592235  -31.288457                       120.0   \n",
       "2015-05-04      119.987633  23.288624  -30.393473                       120.0   \n",
       "2015-05-05      117.283951  20.631163  -32.479980                       117.0   \n",
       "2015-05-06      116.547424  22.435245  -35.689655                       117.0   \n",
       "2015-05-07      117.268303  22.650308  -29.379110                       117.0   \n",
       "\n",
       "            impl_volatility_AAPL  Adj_Close_AXP   vega_AXP  theta_AXP  \\\n",
       "date                                                                    \n",
       "2015-05-01              0.266121      72.806160  11.209653  -9.831198   \n",
       "2015-05-04              0.255084      73.368507   9.875354  -9.429772   \n",
       "2015-05-05              0.270121      72.956108  11.103545 -12.736984   \n",
       "2015-05-06              0.285550      72.965508  11.273447 -13.992166   \n",
       "2015-05-07              0.267944      73.509102   9.340515  -7.915075   \n",
       "\n",
       "            strike_price_adjusted_AXP  impl_volatility_AXP  \\\n",
       "date                                                         \n",
       "2015-05-01                       73.0             0.182940   \n",
       "2015-05-04                       73.5             0.180267   \n",
       "2015-05-05                       73.0             0.211315   \n",
       "2015-05-06                       73.0             0.222117   \n",
       "2015-05-07                       73.5             0.168798   \n",
       "\n",
       "                   ...           Adj_Close_WMT  vega_WMT  theta_WMT  \\\n",
       "date               ...                                                \n",
       "2015-05-01         ...               70.807358  4.031378  -4.258377   \n",
       "2015-05-04         ...               71.329834  3.352818  -3.713743   \n",
       "2015-05-05         ...               70.383942  6.442647 -16.742333   \n",
       "2015-05-06         ...               70.393013  5.288666  -5.917536   \n",
       "2015-05-07         ...               70.737488  5.861515  -5.920061   \n",
       "\n",
       "            strike_price_adjusted_WMT  impl_volatility_WMT  Adj_Close_XOM  \\\n",
       "date                                                                        \n",
       "2015-05-01                       71.0             0.111720      76.477814   \n",
       "2015-05-04                       71.5             0.107899      76.701599   \n",
       "2015-05-05                       70.0             0.263768      76.271233   \n",
       "2015-05-06                       70.0             0.186177      75.909729   \n",
       "2015-05-07                       70.5             0.179644      75.401871   \n",
       "\n",
       "            vega_XOM  theta_XOM  strike_price_adjusted_XOM  \\\n",
       "date                                                         \n",
       "2015-05-01  2.420475  -2.910611                       76.5   \n",
       "2015-05-04  2.064004  -2.738732                       76.5   \n",
       "2015-05-05  4.786442 -14.671919                       76.5   \n",
       "2015-05-06  6.226282 -20.782588                       76.5   \n",
       "2015-05-07  5.181361 -12.996575                       75.0   \n",
       "\n",
       "            impl_volatility_XOM  \n",
       "date                             \n",
       "2015-05-01             0.127041  \n",
       "2015-05-04             0.129785  \n",
       "2015-05-05             0.257931  \n",
       "2015-05-06             0.342186  \n",
       "2015-05-07             0.315902  \n",
       "\n",
       "[5 rows x 165 columns]"
      ]
     },
     "execution_count": 85,
     "metadata": {},
     "output_type": "execute_result"
    }
   ],
   "source": [
    "first_df.head()"
   ]
  },
  {
   "cell_type": "code",
   "execution_count": 86,
   "metadata": {},
   "outputs": [],
   "source": [
    "first_df.to_csv('combined_data.csv')"
   ]
  },
  {
   "cell_type": "code",
   "execution_count": null,
   "metadata": {},
   "outputs": [],
   "source": []
  },
  {
   "cell_type": "code",
   "execution_count": null,
   "metadata": {},
   "outputs": [],
   "source": []
  },
  {
   "cell_type": "code",
   "execution_count": null,
   "metadata": {},
   "outputs": [],
   "source": []
  },
  {
   "cell_type": "code",
   "execution_count": null,
   "metadata": {},
   "outputs": [],
   "source": [
    "\n"
   ]
  },
  {
   "cell_type": "code",
   "execution_count": null,
   "metadata": {},
   "outputs": [],
   "source": []
  },
  {
   "cell_type": "code",
   "execution_count": null,
   "metadata": {},
   "outputs": [],
   "source": []
  },
  {
   "cell_type": "code",
   "execution_count": null,
   "metadata": {},
   "outputs": [],
   "source": []
  },
  {
   "cell_type": "code",
   "execution_count": null,
   "metadata": {},
   "outputs": [],
   "source": []
  },
  {
   "cell_type": "code",
   "execution_count": null,
   "metadata": {},
   "outputs": [],
   "source": []
  },
  {
   "cell_type": "code",
   "execution_count": null,
   "metadata": {},
   "outputs": [],
   "source": []
  },
  {
   "cell_type": "code",
   "execution_count": null,
   "metadata": {},
   "outputs": [],
   "source": []
  },
  {
   "cell_type": "code",
   "execution_count": null,
   "metadata": {},
   "outputs": [],
   "source": []
  },
  {
   "cell_type": "code",
   "execution_count": null,
   "metadata": {},
   "outputs": [],
   "source": []
  },
  {
   "cell_type": "code",
   "execution_count": null,
   "metadata": {},
   "outputs": [],
   "source": []
  },
  {
   "cell_type": "code",
   "execution_count": null,
   "metadata": {},
   "outputs": [],
   "source": []
  },
  {
   "cell_type": "code",
   "execution_count": null,
   "metadata": {},
   "outputs": [],
   "source": []
  },
  {
   "cell_type": "code",
   "execution_count": null,
   "metadata": {},
   "outputs": [],
   "source": []
  },
  {
   "cell_type": "code",
   "execution_count": null,
   "metadata": {},
   "outputs": [],
   "source": []
  },
  {
   "cell_type": "code",
   "execution_count": null,
   "metadata": {},
   "outputs": [],
   "source": []
  },
  {
   "cell_type": "code",
   "execution_count": null,
   "metadata": {},
   "outputs": [],
   "source": []
  },
  {
   "cell_type": "code",
   "execution_count": null,
   "metadata": {},
   "outputs": [],
   "source": []
  },
  {
   "cell_type": "code",
   "execution_count": null,
   "metadata": {},
   "outputs": [],
   "source": []
  },
  {
   "cell_type": "code",
   "execution_count": null,
   "metadata": {},
   "outputs": [],
   "source": []
  },
  {
   "cell_type": "code",
   "execution_count": null,
   "metadata": {},
   "outputs": [],
   "source": []
  },
  {
   "cell_type": "code",
   "execution_count": null,
   "metadata": {},
   "outputs": [],
   "source": []
  },
  {
   "cell_type": "code",
   "execution_count": null,
   "metadata": {},
   "outputs": [],
   "source": []
  },
  {
   "cell_type": "code",
   "execution_count": null,
   "metadata": {},
   "outputs": [],
   "source": []
  },
  {
   "cell_type": "code",
   "execution_count": null,
   "metadata": {},
   "outputs": [],
   "source": []
  },
  {
   "cell_type": "code",
   "execution_count": null,
   "metadata": {},
   "outputs": [],
   "source": []
  },
  {
   "cell_type": "code",
   "execution_count": null,
   "metadata": {},
   "outputs": [],
   "source": []
  },
  {
   "cell_type": "code",
   "execution_count": null,
   "metadata": {},
   "outputs": [],
   "source": []
  },
  {
   "cell_type": "code",
   "execution_count": null,
   "metadata": {},
   "outputs": [],
   "source": []
  },
  {
   "cell_type": "code",
   "execution_count": null,
   "metadata": {},
   "outputs": [],
   "source": []
  },
  {
   "cell_type": "code",
   "execution_count": null,
   "metadata": {},
   "outputs": [],
   "source": []
  },
  {
   "cell_type": "code",
   "execution_count": null,
   "metadata": {},
   "outputs": [],
   "source": []
  },
  {
   "cell_type": "code",
   "execution_count": null,
   "metadata": {},
   "outputs": [],
   "source": []
  },
  {
   "cell_type": "code",
   "execution_count": null,
   "metadata": {},
   "outputs": [],
   "source": []
  },
  {
   "cell_type": "code",
   "execution_count": null,
   "metadata": {},
   "outputs": [],
   "source": [
    "shabi_df =pd.DataFrame(np.array([[1, 2, 3,4, 5], [4, 5, 6,7,8], [7, 8, 9, 10, 11], [10, 11, 12,13, 14], [14,15,16,17, 18]]),\n",
    "...                    columns=['vega1', 'weight1', 'vega2', 'weight2', 'index_vega'])\n",
    "shabi_df.head()"
   ]
  },
  {
   "cell_type": "code",
   "execution_count": null,
   "metadata": {},
   "outputs": [],
   "source": [
    "shabi_df['vega_components'] = shabi_df['vega1'] * shabi_df['weight1'] + shabi_df['vega2'] * shabi_df['weight2']"
   ]
  },
  {
   "cell_type": "code",
   "execution_count": null,
   "metadata": {},
   "outputs": [],
   "source": [
    "shabi_df['multiplier'] = shabi_df['index_vega'] / shabi_df['vega_components']"
   ]
  },
  {
   "cell_type": "code",
   "execution_count": null,
   "metadata": {},
   "outputs": [],
   "source": [
    "shabi_df.head()"
   ]
  },
  {
   "cell_type": "code",
   "execution_count": null,
   "metadata": {},
   "outputs": [],
   "source": [
    "#vega neutral\n",
    "\n",
    "sum = 0.0\n",
    "\n",
    "for i in range(0, 4, 2):\n",
    "    tmp = shabi_df.iloc[:,i] * shabi_df.iloc[:, i+1]\n",
    "    sum += tmp\n",
    "    \n",
    "sum"
   ]
  },
  {
   "cell_type": "code",
   "execution_count": null,
   "metadata": {},
   "outputs": [],
   "source": []
  },
  {
   "cell_type": "code",
   "execution_count": null,
   "metadata": {},
   "outputs": [],
   "source": []
  },
  {
   "cell_type": "code",
   "execution_count": null,
   "metadata": {},
   "outputs": [],
   "source": []
  },
  {
   "cell_type": "code",
   "execution_count": null,
   "metadata": {},
   "outputs": [],
   "source": []
  },
  {
   "cell_type": "code",
   "execution_count": null,
   "metadata": {},
   "outputs": [],
   "source": []
  },
  {
   "cell_type": "code",
   "execution_count": null,
   "metadata": {},
   "outputs": [],
   "source": []
  },
  {
   "cell_type": "code",
   "execution_count": null,
   "metadata": {},
   "outputs": [],
   "source": []
  }
 ],
 "metadata": {
  "kernelspec": {
   "display_name": "Python 3",
   "language": "python",
   "name": "python3"
  },
  "language_info": {
   "codemirror_mode": {
    "name": "ipython",
    "version": 3
   },
   "file_extension": ".py",
   "mimetype": "text/x-python",
   "name": "python",
   "nbconvert_exporter": "python",
   "pygments_lexer": "ipython3",
   "version": "3.6.5"
  },
  "toc": {
   "base_numbering": 1,
   "nav_menu": {},
   "number_sections": true,
   "sideBar": true,
   "skip_h1_title": false,
   "title_cell": "Table of Contents",
   "title_sidebar": "Contents",
   "toc_cell": false,
   "toc_position": {},
   "toc_section_display": true,
   "toc_window_display": false
  }
 },
 "nbformat": 4,
 "nbformat_minor": 2
}
