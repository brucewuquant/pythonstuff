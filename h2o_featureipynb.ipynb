{
  "nbformat": 4,
  "nbformat_minor": 0,
  "metadata": {
    "colab": {
      "name": "h2o_featureipynb",
      "version": "0.3.2",
      "provenance": [],
      "include_colab_link": true
    },
    "kernelspec": {
      "name": "python3",
      "display_name": "Python 3"
    }
  },
  "cells": [
    {
      "cell_type": "markdown",
      "metadata": {
        "id": "view-in-github",
        "colab_type": "text"
      },
      "source": [
        "<a href=\"https://colab.research.google.com/github/brucewuquant/pythonstuff/blob/master/h2o_featureipynb.ipynb\" target=\"_parent\"><img src=\"https://colab.research.google.com/assets/colab-badge.svg\" alt=\"Open In Colab\"/></a>"
      ]
    },
    {
      "metadata": {
        "id": "S9huSTTd4JKM",
        "colab_type": "code",
        "colab": {
          "base_uri": "https://localhost:8080/",
          "height": 352
        },
        "outputId": "0221eb4f-cc86-4296-8e0c-f985e051cd64"
      },
      "cell_type": "code",
      "source": [
        "!pip install h2o"
      ],
      "execution_count": 2,
      "outputs": [
        {
          "output_type": "stream",
          "text": [
            "Collecting h2o\n",
            "\u001b[?25l  Downloading https://files.pythonhosted.org/packages/0b/24/2447f7d9cfa7ab87aced7557ad62851647adcee1779a5a9a65f1dd9ea34b/h2o-3.24.0.1.tar.gz (121.0MB)\n",
            "\u001b[K    100% |████████████████████████████████| 121.0MB 130kB/s \n",
            "\u001b[?25hRequirement already satisfied: requests in /usr/local/lib/python3.6/dist-packages (from h2o) (2.18.4)\n",
            "Requirement already satisfied: tabulate in /usr/local/lib/python3.6/dist-packages (from h2o) (0.8.3)\n",
            "Requirement already satisfied: future in /usr/local/lib/python3.6/dist-packages (from h2o) (0.16.0)\n",
            "Collecting colorama>=0.3.8 (from h2o)\n",
            "  Downloading https://files.pythonhosted.org/packages/4f/a6/728666f39bfff1719fc94c481890b2106837da9318031f71a8424b662e12/colorama-0.4.1-py2.py3-none-any.whl\n",
            "Requirement already satisfied: idna<2.7,>=2.5 in /usr/local/lib/python3.6/dist-packages (from requests->h2o) (2.6)\n",
            "Requirement already satisfied: urllib3<1.23,>=1.21.1 in /usr/local/lib/python3.6/dist-packages (from requests->h2o) (1.22)\n",
            "Requirement already satisfied: chardet<3.1.0,>=3.0.2 in /usr/local/lib/python3.6/dist-packages (from requests->h2o) (3.0.4)\n",
            "Requirement already satisfied: certifi>=2017.4.17 in /usr/local/lib/python3.6/dist-packages (from requests->h2o) (2019.3.9)\n",
            "Building wheels for collected packages: h2o\n",
            "  Building wheel for h2o (setup.py) ... \u001b[?25ldone\n",
            "\u001b[?25h  Stored in directory: /root/.cache/pip/wheels/ca/0a/e6/f0538dc7e67f9c76b5c93dcc3529c1a00adeed4dacd31d551a\n",
            "Successfully built h2o\n",
            "Installing collected packages: colorama, h2o\n",
            "Successfully installed colorama-0.4.1 h2o-3.24.0.1\n"
          ],
          "name": "stdout"
        }
      ]
    },
    {
      "metadata": {
        "id": "kqGN6Ye9NRhh",
        "colab_type": "code",
        "colab": {}
      },
      "cell_type": "code",
      "source": [
        ""
      ],
      "execution_count": 0,
      "outputs": []
    },
    {
      "metadata": {
        "id": "4HuPaVU14VdN",
        "colab_type": "code",
        "colab": {
          "base_uri": "https://localhost:8080/",
          "height": 1852
        },
        "outputId": "f8287445-1066-47e3-c157-c219c790fd91"
      },
      "cell_type": "code",
      "source": [
        "import h2o\n",
        "from h2o.estimators.gbm import H2OGradientBoostingEstimator\n",
        "h2o.init()\n",
        "h2o.cluster().show_status()\n"
      ],
      "execution_count": 9,
      "outputs": [
        {
          "output_type": "stream",
          "text": [
            "Checking whether there is an H2O instance running at http://localhost:54321 . connected.\n"
          ],
          "name": "stdout"
        },
        {
          "output_type": "display_data",
          "data": {
            "text/html": [
              "<div style=\"overflow:auto\"><table style=\"width:50%\"><tr><td>H2O cluster uptime:</td>\n",
              "<td>30 mins 45 secs</td></tr>\n",
              "<tr><td>H2O cluster timezone:</td>\n",
              "<td>Etc/UTC</td></tr>\n",
              "<tr><td>H2O data parsing timezone:</td>\n",
              "<td>UTC</td></tr>\n",
              "<tr><td>H2O cluster version:</td>\n",
              "<td>3.24.0.1</td></tr>\n",
              "<tr><td>H2O cluster version age:</td>\n",
              "<td>4 days </td></tr>\n",
              "<tr><td>H2O cluster name:</td>\n",
              "<td>H2O_from_python_unknownUser_sgxk1x</td></tr>\n",
              "<tr><td>H2O cluster total nodes:</td>\n",
              "<td>1</td></tr>\n",
              "<tr><td>H2O cluster free memory:</td>\n",
              "<td>3 Gb</td></tr>\n",
              "<tr><td>H2O cluster total cores:</td>\n",
              "<td>2</td></tr>\n",
              "<tr><td>H2O cluster allowed cores:</td>\n",
              "<td>2</td></tr>\n",
              "<tr><td>H2O cluster status:</td>\n",
              "<td>locked, healthy</td></tr>\n",
              "<tr><td>H2O connection url:</td>\n",
              "<td>http://localhost:54321</td></tr>\n",
              "<tr><td>H2O connection proxy:</td>\n",
              "<td>None</td></tr>\n",
              "<tr><td>H2O internal security:</td>\n",
              "<td>False</td></tr>\n",
              "<tr><td>H2O API Extensions:</td>\n",
              "<td>Amazon S3, XGBoost, Algos, AutoML, Core V3, Core V4</td></tr>\n",
              "<tr><td>Python version:</td>\n",
              "<td>3.6.7 final</td></tr></table></div>"
            ],
            "text/plain": [
              "--------------------------  ---------------------------------------------------\n",
              "H2O cluster uptime:         30 mins 45 secs\n",
              "H2O cluster timezone:       Etc/UTC\n",
              "H2O data parsing timezone:  UTC\n",
              "H2O cluster version:        3.24.0.1\n",
              "H2O cluster version age:    4 days\n",
              "H2O cluster name:           H2O_from_python_unknownUser_sgxk1x\n",
              "H2O cluster total nodes:    1\n",
              "H2O cluster free memory:    3 Gb\n",
              "H2O cluster total cores:    2\n",
              "H2O cluster allowed cores:  2\n",
              "H2O cluster status:         locked, healthy\n",
              "H2O connection url:         http://localhost:54321\n",
              "H2O connection proxy:\n",
              "H2O internal security:      False\n",
              "H2O API Extensions:         Amazon S3, XGBoost, Algos, AutoML, Core V3, Core V4\n",
              "Python version:             3.6.7 final\n",
              "--------------------------  ---------------------------------------------------"
            ]
          },
          "metadata": {
            "tags": []
          }
        },
        {
          "output_type": "display_data",
          "data": {
            "text/html": [
              "<div style=\"overflow:auto\"><table style=\"width:50%\"><tr><td>H2O cluster uptime:</td>\n",
              "<td>30 mins 45 secs</td></tr>\n",
              "<tr><td>H2O cluster timezone:</td>\n",
              "<td>Etc/UTC</td></tr>\n",
              "<tr><td>H2O data parsing timezone:</td>\n",
              "<td>UTC</td></tr>\n",
              "<tr><td>H2O cluster version:</td>\n",
              "<td>3.24.0.1</td></tr>\n",
              "<tr><td>H2O cluster version age:</td>\n",
              "<td>4 days </td></tr>\n",
              "<tr><td>H2O cluster name:</td>\n",
              "<td>H2O_from_python_unknownUser_sgxk1x</td></tr>\n",
              "<tr><td>H2O cluster total nodes:</td>\n",
              "<td>1</td></tr>\n",
              "<tr><td>H2O cluster free memory:</td>\n",
              "<td>3 Gb</td></tr>\n",
              "<tr><td>H2O cluster total cores:</td>\n",
              "<td>2</td></tr>\n",
              "<tr><td>H2O cluster allowed cores:</td>\n",
              "<td>2</td></tr>\n",
              "<tr><td>H2O cluster status:</td>\n",
              "<td>locked, healthy</td></tr>\n",
              "<tr><td>H2O connection url:</td>\n",
              "<td>http://localhost:54321</td></tr>\n",
              "<tr><td>H2O connection proxy:</td>\n",
              "<td>None</td></tr>\n",
              "<tr><td>H2O internal security:</td>\n",
              "<td>False</td></tr>\n",
              "<tr><td>H2O API Extensions:</td>\n",
              "<td>Amazon S3, XGBoost, Algos, AutoML, Core V3, Core V4</td></tr>\n",
              "<tr><td>Python version:</td>\n",
              "<td>3.6.7 final</td></tr></table></div>"
            ],
            "text/plain": [
              "--------------------------  ---------------------------------------------------\n",
              "H2O cluster uptime:         30 mins 45 secs\n",
              "H2O cluster timezone:       Etc/UTC\n",
              "H2O data parsing timezone:  UTC\n",
              "H2O cluster version:        3.24.0.1\n",
              "H2O cluster version age:    4 days\n",
              "H2O cluster name:           H2O_from_python_unknownUser_sgxk1x\n",
              "H2O cluster total nodes:    1\n",
              "H2O cluster free memory:    3 Gb\n",
              "H2O cluster total cores:    2\n",
              "H2O cluster allowed cores:  2\n",
              "H2O cluster status:         locked, healthy\n",
              "H2O connection url:         http://localhost:54321\n",
              "H2O connection proxy:\n",
              "H2O internal security:      False\n",
              "H2O API Extensions:         Amazon S3, XGBoost, Algos, AutoML, Core V3, Core V4\n",
              "Python version:             3.6.7 final\n",
              "--------------------------  ---------------------------------------------------"
            ]
          },
          "metadata": {
            "tags": []
          }
        }
      ]
    },
    {
      "metadata": {
        "id": "tlYdHT5a72am",
        "colab_type": "code",
        "colab": {
          "base_uri": "https://localhost:8080/",
          "height": 54
        },
        "outputId": "6161060d-6bf4-4809-dd02-cb9a88cbd3aa"
      },
      "cell_type": "code",
      "source": [
        "from google.colab import drive\n",
        "drive.mount('/content/drive')"
      ],
      "execution_count": 10,
      "outputs": [
        {
          "output_type": "stream",
          "text": [
            "Drive already mounted at /content/drive; to attempt to forcibly remount, call drive.mount(\"/content/drive\", force_remount=True).\n"
          ],
          "name": "stdout"
        }
      ]
    },
    {
      "metadata": {
        "id": "yQDN-WhXAA9z",
        "colab_type": "code",
        "colab": {}
      },
      "cell_type": "code",
      "source": [
        "import os"
      ],
      "execution_count": 0,
      "outputs": []
    },
    {
      "metadata": {
        "id": "AciPAoyZ72fd",
        "colab_type": "code",
        "colab": {}
      },
      "cell_type": "code",
      "source": [
        "os.chdir(\"drive/My Drive/Colab Notebooks/Data/FeatureEngineering\")"
      ],
      "execution_count": 0,
      "outputs": []
    },
    {
      "metadata": {
        "id": "4ccETP8S72jF",
        "colab_type": "code",
        "colab": {
          "base_uri": "https://localhost:8080/",
          "height": 139
        },
        "outputId": "37899747-6512-4e48-d0f5-94f7d0132aa1"
      },
      "cell_type": "code",
      "source": [
        "!ls"
      ],
      "execution_count": 17,
      "outputs": [
        {
          "output_type": "stream",
          "text": [
            "application_test.csv\t\t    installments_payments.csv\n",
            "application_train.csv\t\t    Loan-Payment-Predict.ipynb\n",
            "bureau_balance.csv\t\t    ml_sample.csv\n",
            "bureau.csv\t\t\t    POS_CASH_balance.csv\n",
            "credit_card_balance.csv\t\t    previous_application.csv\n",
            "HomeCredit_columns_description.csv  sample_submission.csv\n",
            "home-credit-default-risk.zip\n"
          ],
          "name": "stdout"
        }
      ]
    },
    {
      "metadata": {
        "id": "0_DpnnkO4l2-",
        "colab_type": "code",
        "colab": {}
      },
      "cell_type": "code",
      "source": [
        "import pandas as pd\n",
        "import numpy as np\n",
        "from h2o.frame import H2OFrame\n",
        "from h2o.estimators.random_forest import H2ORandomForestEstimator\n",
        "import seaborn as sns\n",
        "import matplotlib.pyplot as plt\n",
        "from sklearn.metrics import auc, roc_curve, classification_report"
      ],
      "execution_count": 0,
      "outputs": []
    },
    {
      "metadata": {
        "id": "6GmMQ2XU4sAY",
        "colab_type": "code",
        "colab": {}
      },
      "cell_type": "code",
      "source": [
        "from h2o.grid.grid_search import H2OGridSearch"
      ],
      "execution_count": 0,
      "outputs": []
    },
    {
      "metadata": {
        "id": "p2YjkJTq7Vgo",
        "colab_type": "code",
        "colab": {}
      },
      "cell_type": "code",
      "source": [
        "data = pd.read_csv('ml_sample.csv')"
      ],
      "execution_count": 0,
      "outputs": []
    },
    {
      "metadata": {
        "id": "FkQktNewCoOj",
        "colab_type": "code",
        "colab": {}
      },
      "cell_type": "code",
      "source": [
        "data = data.dropna()"
      ],
      "execution_count": 0,
      "outputs": []
    },
    {
      "metadata": {
        "id": "Yc3vzlmsCoRb",
        "colab_type": "code",
        "colab": {
          "base_uri": "https://localhost:8080/",
          "height": 423
        },
        "outputId": "42014829-a502-448f-b7be-8f334c2ceebe"
      },
      "cell_type": "code",
      "source": [
        "data.head()"
      ],
      "execution_count": 21,
      "outputs": [
        {
          "output_type": "execute_result",
          "data": {
            "text/html": [
              "<div>\n",
              "<style scoped>\n",
              "    .dataframe tbody tr th:only-of-type {\n",
              "        vertical-align: middle;\n",
              "    }\n",
              "\n",
              "    .dataframe tbody tr th {\n",
              "        vertical-align: top;\n",
              "    }\n",
              "\n",
              "    .dataframe thead th {\n",
              "        text-align: right;\n",
              "    }\n",
              "</style>\n",
              "<table border=\"1\" class=\"dataframe\">\n",
              "  <thead>\n",
              "    <tr style=\"text-align: right;\">\n",
              "      <th></th>\n",
              "      <th>0</th>\n",
              "      <th>Label</th>\n",
              "      <th>Close</th>\n",
              "      <th>Volume</th>\n",
              "      <th>RVol</th>\n",
              "      <th>JumpRatio</th>\n",
              "      <th>Close_1</th>\n",
              "      <th>Close_2</th>\n",
              "      <th>Close_3</th>\n",
              "      <th>Close_4</th>\n",
              "      <th>...</th>\n",
              "      <th>DVolume_3</th>\n",
              "      <th>DMEAN_6</th>\n",
              "      <th>DMEAN137_6</th>\n",
              "      <th>DMEAN_12</th>\n",
              "      <th>DMEAN137_12</th>\n",
              "      <th>DMEAN_24</th>\n",
              "      <th>DMEAN137_24</th>\n",
              "      <th>RVol_1</th>\n",
              "      <th>RVol_2</th>\n",
              "      <th>RVol_3</th>\n",
              "    </tr>\n",
              "  </thead>\n",
              "  <tbody>\n",
              "    <tr>\n",
              "      <th>160</th>\n",
              "      <td>2016-01-05 21:10:00</td>\n",
              "      <td>0.0</td>\n",
              "      <td>1990.25</td>\n",
              "      <td>4418.0</td>\n",
              "      <td>0.199579</td>\n",
              "      <td>0.139945</td>\n",
              "      <td>-0.001881</td>\n",
              "      <td>-0.002508</td>\n",
              "      <td>-0.000251</td>\n",
              "      <td>0.000880</td>\n",
              "      <td>...</td>\n",
              "      <td>-496.0</td>\n",
              "      <td>2039.333333</td>\n",
              "      <td>159.666667</td>\n",
              "      <td>1940.750000</td>\n",
              "      <td>-750.333333</td>\n",
              "      <td>4503.916667</td>\n",
              "      <td>-401.833333</td>\n",
              "      <td>0.003786</td>\n",
              "      <td>0.001723</td>\n",
              "      <td>0.000471</td>\n",
              "    </tr>\n",
              "    <tr>\n",
              "      <th>161</th>\n",
              "      <td>2016-01-05 21:20:00</td>\n",
              "      <td>0.0</td>\n",
              "      <td>1990.75</td>\n",
              "      <td>3865.0</td>\n",
              "      <td>0.200179</td>\n",
              "      <td>0.137098</td>\n",
              "      <td>0.000880</td>\n",
              "      <td>-0.000251</td>\n",
              "      <td>0.000880</td>\n",
              "      <td>0.000251</td>\n",
              "      <td>...</td>\n",
              "      <td>392.0</td>\n",
              "      <td>-695.666667</td>\n",
              "      <td>370.500000</td>\n",
              "      <td>-761.250000</td>\n",
              "      <td>-447.833333</td>\n",
              "      <td>1541.875000</td>\n",
              "      <td>-204.291667</td>\n",
              "      <td>0.001723</td>\n",
              "      <td>0.000471</td>\n",
              "      <td>0.000599</td>\n",
              "    </tr>\n",
              "    <tr>\n",
              "      <th>162</th>\n",
              "      <td>2016-01-05 21:30:00</td>\n",
              "      <td>0.0</td>\n",
              "      <td>1993.00</td>\n",
              "      <td>6061.0</td>\n",
              "      <td>0.200845</td>\n",
              "      <td>0.135940</td>\n",
              "      <td>0.002263</td>\n",
              "      <td>0.000880</td>\n",
              "      <td>0.000251</td>\n",
              "      <td>0.001130</td>\n",
              "      <td>...</td>\n",
              "      <td>1788.0</td>\n",
              "      <td>-1573.166667</td>\n",
              "      <td>396.833333</td>\n",
              "      <td>-1115.833333</td>\n",
              "      <td>-384.416667</td>\n",
              "      <td>876.208333</td>\n",
              "      <td>-152.083333</td>\n",
              "      <td>0.000471</td>\n",
              "      <td>0.000599</td>\n",
              "      <td>0.000666</td>\n",
              "    </tr>\n",
              "    <tr>\n",
              "      <th>163</th>\n",
              "      <td>2016-01-05 21:40:00</td>\n",
              "      <td>0.0</td>\n",
              "      <td>1993.50</td>\n",
              "      <td>5181.0</td>\n",
              "      <td>0.201862</td>\n",
              "      <td>0.133654</td>\n",
              "      <td>0.001633</td>\n",
              "      <td>0.000251</td>\n",
              "      <td>0.001130</td>\n",
              "      <td>0.000251</td>\n",
              "      <td>...</td>\n",
              "      <td>-1590.0</td>\n",
              "      <td>-1500.333333</td>\n",
              "      <td>-181.000000</td>\n",
              "      <td>-991.750000</td>\n",
              "      <td>-516.166667</td>\n",
              "      <td>927.041667</td>\n",
              "      <td>-760.458333</td>\n",
              "      <td>0.000599</td>\n",
              "      <td>0.000666</td>\n",
              "      <td>0.001017</td>\n",
              "    </tr>\n",
              "    <tr>\n",
              "      <th>164</th>\n",
              "      <td>2016-01-05 21:50:00</td>\n",
              "      <td>0.0</td>\n",
              "      <td>1992.00</td>\n",
              "      <td>3281.0</td>\n",
              "      <td>0.202520</td>\n",
              "      <td>0.129614</td>\n",
              "      <td>0.000628</td>\n",
              "      <td>0.001130</td>\n",
              "      <td>0.000251</td>\n",
              "      <td>-0.000752</td>\n",
              "      <td>...</td>\n",
              "      <td>-91.0</td>\n",
              "      <td>-188.166667</td>\n",
              "      <td>-363.000000</td>\n",
              "      <td>-1031.583333</td>\n",
              "      <td>-493.166667</td>\n",
              "      <td>623.208333</td>\n",
              "      <td>-925.041667</td>\n",
              "      <td>0.000666</td>\n",
              "      <td>0.001017</td>\n",
              "      <td>0.000658</td>\n",
              "    </tr>\n",
              "  </tbody>\n",
              "</table>\n",
              "<p>5 rows × 53 columns</p>\n",
              "</div>"
            ],
            "text/plain": [
              "                       0  Label    Close  Volume      RVol  JumpRatio  \\\n",
              "160  2016-01-05 21:10:00    0.0  1990.25  4418.0  0.199579   0.139945   \n",
              "161  2016-01-05 21:20:00    0.0  1990.75  3865.0  0.200179   0.137098   \n",
              "162  2016-01-05 21:30:00    0.0  1993.00  6061.0  0.200845   0.135940   \n",
              "163  2016-01-05 21:40:00    0.0  1993.50  5181.0  0.201862   0.133654   \n",
              "164  2016-01-05 21:50:00    0.0  1992.00  3281.0  0.202520   0.129614   \n",
              "\n",
              "      Close_1   Close_2   Close_3   Close_4    ...     DVolume_3      DMEAN_6  \\\n",
              "160 -0.001881 -0.002508 -0.000251  0.000880    ...        -496.0  2039.333333   \n",
              "161  0.000880 -0.000251  0.000880  0.000251    ...         392.0  -695.666667   \n",
              "162  0.002263  0.000880  0.000251  0.001130    ...        1788.0 -1573.166667   \n",
              "163  0.001633  0.000251  0.001130  0.000251    ...       -1590.0 -1500.333333   \n",
              "164  0.000628  0.001130  0.000251 -0.000752    ...         -91.0  -188.166667   \n",
              "\n",
              "     DMEAN137_6     DMEAN_12  DMEAN137_12     DMEAN_24  DMEAN137_24    RVol_1  \\\n",
              "160  159.666667  1940.750000  -750.333333  4503.916667  -401.833333  0.003786   \n",
              "161  370.500000  -761.250000  -447.833333  1541.875000  -204.291667  0.001723   \n",
              "162  396.833333 -1115.833333  -384.416667   876.208333  -152.083333  0.000471   \n",
              "163 -181.000000  -991.750000  -516.166667   927.041667  -760.458333  0.000599   \n",
              "164 -363.000000 -1031.583333  -493.166667   623.208333  -925.041667  0.000666   \n",
              "\n",
              "       RVol_2    RVol_3  \n",
              "160  0.001723  0.000471  \n",
              "161  0.000471  0.000599  \n",
              "162  0.000599  0.000666  \n",
              "163  0.000666  0.001017  \n",
              "164  0.001017  0.000658  \n",
              "\n",
              "[5 rows x 53 columns]"
            ]
          },
          "metadata": {
            "tags": []
          },
          "execution_count": 21
        }
      ]
    },
    {
      "metadata": {
        "id": "m880V4clCoTy",
        "colab_type": "code",
        "colab": {
          "base_uri": "https://localhost:8080/",
          "height": 423
        },
        "outputId": "b93dbde3-d2ba-46a2-fb69-398b9ba09c37"
      },
      "cell_type": "code",
      "source": [
        "data['Label'] = data['Label'].astype(int)\n",
        "data.rename(columns = {\"0\":'time'},inplace=  True)\n",
        "data.head()"
      ],
      "execution_count": 68,
      "outputs": [
        {
          "output_type": "execute_result",
          "data": {
            "text/html": [
              "<div>\n",
              "<style scoped>\n",
              "    .dataframe tbody tr th:only-of-type {\n",
              "        vertical-align: middle;\n",
              "    }\n",
              "\n",
              "    .dataframe tbody tr th {\n",
              "        vertical-align: top;\n",
              "    }\n",
              "\n",
              "    .dataframe thead th {\n",
              "        text-align: right;\n",
              "    }\n",
              "</style>\n",
              "<table border=\"1\" class=\"dataframe\">\n",
              "  <thead>\n",
              "    <tr style=\"text-align: right;\">\n",
              "      <th></th>\n",
              "      <th>time</th>\n",
              "      <th>Label</th>\n",
              "      <th>Close</th>\n",
              "      <th>Volume</th>\n",
              "      <th>RVol</th>\n",
              "      <th>JumpRatio</th>\n",
              "      <th>Close_1</th>\n",
              "      <th>Close_2</th>\n",
              "      <th>Close_3</th>\n",
              "      <th>Close_4</th>\n",
              "      <th>...</th>\n",
              "      <th>DVolume_3</th>\n",
              "      <th>DMEAN_6</th>\n",
              "      <th>DMEAN137_6</th>\n",
              "      <th>DMEAN_12</th>\n",
              "      <th>DMEAN137_12</th>\n",
              "      <th>DMEAN_24</th>\n",
              "      <th>DMEAN137_24</th>\n",
              "      <th>RVol_1</th>\n",
              "      <th>RVol_2</th>\n",
              "      <th>RVol_3</th>\n",
              "    </tr>\n",
              "  </thead>\n",
              "  <tbody>\n",
              "    <tr>\n",
              "      <th>160</th>\n",
              "      <td>2016-01-05 21:10:00</td>\n",
              "      <td>0</td>\n",
              "      <td>1990.25</td>\n",
              "      <td>4418.0</td>\n",
              "      <td>0.199579</td>\n",
              "      <td>0.139945</td>\n",
              "      <td>-0.001881</td>\n",
              "      <td>-0.002508</td>\n",
              "      <td>-0.000251</td>\n",
              "      <td>0.000880</td>\n",
              "      <td>...</td>\n",
              "      <td>-496.0</td>\n",
              "      <td>2039.333333</td>\n",
              "      <td>159.666667</td>\n",
              "      <td>1940.750000</td>\n",
              "      <td>-750.333333</td>\n",
              "      <td>4503.916667</td>\n",
              "      <td>-401.833333</td>\n",
              "      <td>0.003786</td>\n",
              "      <td>0.001723</td>\n",
              "      <td>0.000471</td>\n",
              "    </tr>\n",
              "    <tr>\n",
              "      <th>161</th>\n",
              "      <td>2016-01-05 21:20:00</td>\n",
              "      <td>0</td>\n",
              "      <td>1990.75</td>\n",
              "      <td>3865.0</td>\n",
              "      <td>0.200179</td>\n",
              "      <td>0.137098</td>\n",
              "      <td>0.000880</td>\n",
              "      <td>-0.000251</td>\n",
              "      <td>0.000880</td>\n",
              "      <td>0.000251</td>\n",
              "      <td>...</td>\n",
              "      <td>392.0</td>\n",
              "      <td>-695.666667</td>\n",
              "      <td>370.500000</td>\n",
              "      <td>-761.250000</td>\n",
              "      <td>-447.833333</td>\n",
              "      <td>1541.875000</td>\n",
              "      <td>-204.291667</td>\n",
              "      <td>0.001723</td>\n",
              "      <td>0.000471</td>\n",
              "      <td>0.000599</td>\n",
              "    </tr>\n",
              "    <tr>\n",
              "      <th>162</th>\n",
              "      <td>2016-01-05 21:30:00</td>\n",
              "      <td>0</td>\n",
              "      <td>1993.00</td>\n",
              "      <td>6061.0</td>\n",
              "      <td>0.200845</td>\n",
              "      <td>0.135940</td>\n",
              "      <td>0.002263</td>\n",
              "      <td>0.000880</td>\n",
              "      <td>0.000251</td>\n",
              "      <td>0.001130</td>\n",
              "      <td>...</td>\n",
              "      <td>1788.0</td>\n",
              "      <td>-1573.166667</td>\n",
              "      <td>396.833333</td>\n",
              "      <td>-1115.833333</td>\n",
              "      <td>-384.416667</td>\n",
              "      <td>876.208333</td>\n",
              "      <td>-152.083333</td>\n",
              "      <td>0.000471</td>\n",
              "      <td>0.000599</td>\n",
              "      <td>0.000666</td>\n",
              "    </tr>\n",
              "    <tr>\n",
              "      <th>163</th>\n",
              "      <td>2016-01-05 21:40:00</td>\n",
              "      <td>0</td>\n",
              "      <td>1993.50</td>\n",
              "      <td>5181.0</td>\n",
              "      <td>0.201862</td>\n",
              "      <td>0.133654</td>\n",
              "      <td>0.001633</td>\n",
              "      <td>0.000251</td>\n",
              "      <td>0.001130</td>\n",
              "      <td>0.000251</td>\n",
              "      <td>...</td>\n",
              "      <td>-1590.0</td>\n",
              "      <td>-1500.333333</td>\n",
              "      <td>-181.000000</td>\n",
              "      <td>-991.750000</td>\n",
              "      <td>-516.166667</td>\n",
              "      <td>927.041667</td>\n",
              "      <td>-760.458333</td>\n",
              "      <td>0.000599</td>\n",
              "      <td>0.000666</td>\n",
              "      <td>0.001017</td>\n",
              "    </tr>\n",
              "    <tr>\n",
              "      <th>164</th>\n",
              "      <td>2016-01-05 21:50:00</td>\n",
              "      <td>0</td>\n",
              "      <td>1992.00</td>\n",
              "      <td>3281.0</td>\n",
              "      <td>0.202520</td>\n",
              "      <td>0.129614</td>\n",
              "      <td>0.000628</td>\n",
              "      <td>0.001130</td>\n",
              "      <td>0.000251</td>\n",
              "      <td>-0.000752</td>\n",
              "      <td>...</td>\n",
              "      <td>-91.0</td>\n",
              "      <td>-188.166667</td>\n",
              "      <td>-363.000000</td>\n",
              "      <td>-1031.583333</td>\n",
              "      <td>-493.166667</td>\n",
              "      <td>623.208333</td>\n",
              "      <td>-925.041667</td>\n",
              "      <td>0.000666</td>\n",
              "      <td>0.001017</td>\n",
              "      <td>0.000658</td>\n",
              "    </tr>\n",
              "  </tbody>\n",
              "</table>\n",
              "<p>5 rows × 53 columns</p>\n",
              "</div>"
            ],
            "text/plain": [
              "                    time  Label    Close  Volume      RVol  JumpRatio  \\\n",
              "160  2016-01-05 21:10:00      0  1990.25  4418.0  0.199579   0.139945   \n",
              "161  2016-01-05 21:20:00      0  1990.75  3865.0  0.200179   0.137098   \n",
              "162  2016-01-05 21:30:00      0  1993.00  6061.0  0.200845   0.135940   \n",
              "163  2016-01-05 21:40:00      0  1993.50  5181.0  0.201862   0.133654   \n",
              "164  2016-01-05 21:50:00      0  1992.00  3281.0  0.202520   0.129614   \n",
              "\n",
              "      Close_1   Close_2   Close_3   Close_4    ...     DVolume_3      DMEAN_6  \\\n",
              "160 -0.001881 -0.002508 -0.000251  0.000880    ...        -496.0  2039.333333   \n",
              "161  0.000880 -0.000251  0.000880  0.000251    ...         392.0  -695.666667   \n",
              "162  0.002263  0.000880  0.000251  0.001130    ...        1788.0 -1573.166667   \n",
              "163  0.001633  0.000251  0.001130  0.000251    ...       -1590.0 -1500.333333   \n",
              "164  0.000628  0.001130  0.000251 -0.000752    ...         -91.0  -188.166667   \n",
              "\n",
              "     DMEAN137_6     DMEAN_12  DMEAN137_12     DMEAN_24  DMEAN137_24    RVol_1  \\\n",
              "160  159.666667  1940.750000  -750.333333  4503.916667  -401.833333  0.003786   \n",
              "161  370.500000  -761.250000  -447.833333  1541.875000  -204.291667  0.001723   \n",
              "162  396.833333 -1115.833333  -384.416667   876.208333  -152.083333  0.000471   \n",
              "163 -181.000000  -991.750000  -516.166667   927.041667  -760.458333  0.000599   \n",
              "164 -363.000000 -1031.583333  -493.166667   623.208333  -925.041667  0.000666   \n",
              "\n",
              "       RVol_2    RVol_3  \n",
              "160  0.001723  0.000471  \n",
              "161  0.000471  0.000599  \n",
              "162  0.000599  0.000666  \n",
              "163  0.000666  0.001017  \n",
              "164  0.001017  0.000658  \n",
              "\n",
              "[5 rows x 53 columns]"
            ]
          },
          "metadata": {
            "tags": []
          },
          "execution_count": 68
        }
      ]
    },
    {
      "metadata": {
        "id": "y33UTYNwEc2g",
        "colab_type": "code",
        "colab": {
          "base_uri": "https://localhost:8080/",
          "height": 471
        },
        "outputId": "24cb6fc3-dd8d-4ae3-80b8-038fab0685a0"
      },
      "cell_type": "code",
      "source": [
        "data.set_index('time', inplace = True)\n",
        "data.head()"
      ],
      "execution_count": 70,
      "outputs": [
        {
          "output_type": "execute_result",
          "data": {
            "text/html": [
              "<div>\n",
              "<style scoped>\n",
              "    .dataframe tbody tr th:only-of-type {\n",
              "        vertical-align: middle;\n",
              "    }\n",
              "\n",
              "    .dataframe tbody tr th {\n",
              "        vertical-align: top;\n",
              "    }\n",
              "\n",
              "    .dataframe thead th {\n",
              "        text-align: right;\n",
              "    }\n",
              "</style>\n",
              "<table border=\"1\" class=\"dataframe\">\n",
              "  <thead>\n",
              "    <tr style=\"text-align: right;\">\n",
              "      <th></th>\n",
              "      <th>Label</th>\n",
              "      <th>Close</th>\n",
              "      <th>Volume</th>\n",
              "      <th>RVol</th>\n",
              "      <th>JumpRatio</th>\n",
              "      <th>Close_1</th>\n",
              "      <th>Close_2</th>\n",
              "      <th>Close_3</th>\n",
              "      <th>Close_4</th>\n",
              "      <th>Close-MA_6</th>\n",
              "      <th>...</th>\n",
              "      <th>DVolume_3</th>\n",
              "      <th>DMEAN_6</th>\n",
              "      <th>DMEAN137_6</th>\n",
              "      <th>DMEAN_12</th>\n",
              "      <th>DMEAN137_12</th>\n",
              "      <th>DMEAN_24</th>\n",
              "      <th>DMEAN137_24</th>\n",
              "      <th>RVol_1</th>\n",
              "      <th>RVol_2</th>\n",
              "      <th>RVol_3</th>\n",
              "    </tr>\n",
              "    <tr>\n",
              "      <th>time</th>\n",
              "      <th></th>\n",
              "      <th></th>\n",
              "      <th></th>\n",
              "      <th></th>\n",
              "      <th></th>\n",
              "      <th></th>\n",
              "      <th></th>\n",
              "      <th></th>\n",
              "      <th></th>\n",
              "      <th></th>\n",
              "      <th></th>\n",
              "      <th></th>\n",
              "      <th></th>\n",
              "      <th></th>\n",
              "      <th></th>\n",
              "      <th></th>\n",
              "      <th></th>\n",
              "      <th></th>\n",
              "      <th></th>\n",
              "      <th></th>\n",
              "      <th></th>\n",
              "    </tr>\n",
              "  </thead>\n",
              "  <tbody>\n",
              "    <tr>\n",
              "      <th>2016-01-05 21:10:00</th>\n",
              "      <td>0</td>\n",
              "      <td>1990.25</td>\n",
              "      <td>4418.0</td>\n",
              "      <td>0.199579</td>\n",
              "      <td>0.139945</td>\n",
              "      <td>-0.001881</td>\n",
              "      <td>-0.002508</td>\n",
              "      <td>-0.000251</td>\n",
              "      <td>0.000880</td>\n",
              "      <td>-2.208333</td>\n",
              "      <td>...</td>\n",
              "      <td>-496.0</td>\n",
              "      <td>2039.333333</td>\n",
              "      <td>159.666667</td>\n",
              "      <td>1940.750000</td>\n",
              "      <td>-750.333333</td>\n",
              "      <td>4503.916667</td>\n",
              "      <td>-401.833333</td>\n",
              "      <td>0.003786</td>\n",
              "      <td>0.001723</td>\n",
              "      <td>0.000471</td>\n",
              "    </tr>\n",
              "    <tr>\n",
              "      <th>2016-01-05 21:20:00</th>\n",
              "      <td>0</td>\n",
              "      <td>1990.75</td>\n",
              "      <td>3865.0</td>\n",
              "      <td>0.200179</td>\n",
              "      <td>0.137098</td>\n",
              "      <td>0.000880</td>\n",
              "      <td>-0.000251</td>\n",
              "      <td>0.000880</td>\n",
              "      <td>0.000251</td>\n",
              "      <td>-0.666667</td>\n",
              "      <td>...</td>\n",
              "      <td>392.0</td>\n",
              "      <td>-695.666667</td>\n",
              "      <td>370.500000</td>\n",
              "      <td>-761.250000</td>\n",
              "      <td>-447.833333</td>\n",
              "      <td>1541.875000</td>\n",
              "      <td>-204.291667</td>\n",
              "      <td>0.001723</td>\n",
              "      <td>0.000471</td>\n",
              "      <td>0.000599</td>\n",
              "    </tr>\n",
              "    <tr>\n",
              "      <th>2016-01-05 21:30:00</th>\n",
              "      <td>0</td>\n",
              "      <td>1993.00</td>\n",
              "      <td>6061.0</td>\n",
              "      <td>0.200845</td>\n",
              "      <td>0.135940</td>\n",
              "      <td>0.002263</td>\n",
              "      <td>0.000880</td>\n",
              "      <td>0.000251</td>\n",
              "      <td>0.001130</td>\n",
              "      <td>2.083333</td>\n",
              "      <td>...</td>\n",
              "      <td>1788.0</td>\n",
              "      <td>-1573.166667</td>\n",
              "      <td>396.833333</td>\n",
              "      <td>-1115.833333</td>\n",
              "      <td>-384.416667</td>\n",
              "      <td>876.208333</td>\n",
              "      <td>-152.083333</td>\n",
              "      <td>0.000471</td>\n",
              "      <td>0.000599</td>\n",
              "      <td>0.000666</td>\n",
              "    </tr>\n",
              "    <tr>\n",
              "      <th>2016-01-05 21:40:00</th>\n",
              "      <td>0</td>\n",
              "      <td>1993.50</td>\n",
              "      <td>5181.0</td>\n",
              "      <td>0.201862</td>\n",
              "      <td>0.133654</td>\n",
              "      <td>0.001633</td>\n",
              "      <td>0.000251</td>\n",
              "      <td>0.001130</td>\n",
              "      <td>0.000251</td>\n",
              "      <td>2.666667</td>\n",
              "      <td>...</td>\n",
              "      <td>-1590.0</td>\n",
              "      <td>-1500.333333</td>\n",
              "      <td>-181.000000</td>\n",
              "      <td>-991.750000</td>\n",
              "      <td>-516.166667</td>\n",
              "      <td>927.041667</td>\n",
              "      <td>-760.458333</td>\n",
              "      <td>0.000599</td>\n",
              "      <td>0.000666</td>\n",
              "      <td>0.001017</td>\n",
              "    </tr>\n",
              "    <tr>\n",
              "      <th>2016-01-05 21:50:00</th>\n",
              "      <td>0</td>\n",
              "      <td>1992.00</td>\n",
              "      <td>3281.0</td>\n",
              "      <td>0.202520</td>\n",
              "      <td>0.129614</td>\n",
              "      <td>0.000628</td>\n",
              "      <td>0.001130</td>\n",
              "      <td>0.000251</td>\n",
              "      <td>-0.000752</td>\n",
              "      <td>0.666667</td>\n",
              "      <td>...</td>\n",
              "      <td>-91.0</td>\n",
              "      <td>-188.166667</td>\n",
              "      <td>-363.000000</td>\n",
              "      <td>-1031.583333</td>\n",
              "      <td>-493.166667</td>\n",
              "      <td>623.208333</td>\n",
              "      <td>-925.041667</td>\n",
              "      <td>0.000666</td>\n",
              "      <td>0.001017</td>\n",
              "      <td>0.000658</td>\n",
              "    </tr>\n",
              "  </tbody>\n",
              "</table>\n",
              "<p>5 rows × 52 columns</p>\n",
              "</div>"
            ],
            "text/plain": [
              "                     Label    Close  Volume      RVol  JumpRatio   Close_1  \\\n",
              "time                                                                         \n",
              "2016-01-05 21:10:00      0  1990.25  4418.0  0.199579   0.139945 -0.001881   \n",
              "2016-01-05 21:20:00      0  1990.75  3865.0  0.200179   0.137098  0.000880   \n",
              "2016-01-05 21:30:00      0  1993.00  6061.0  0.200845   0.135940  0.002263   \n",
              "2016-01-05 21:40:00      0  1993.50  5181.0  0.201862   0.133654  0.001633   \n",
              "2016-01-05 21:50:00      0  1992.00  3281.0  0.202520   0.129614  0.000628   \n",
              "\n",
              "                      Close_2   Close_3   Close_4  Close-MA_6    ...     \\\n",
              "time                                                             ...      \n",
              "2016-01-05 21:10:00 -0.002508 -0.000251  0.000880   -2.208333    ...      \n",
              "2016-01-05 21:20:00 -0.000251  0.000880  0.000251   -0.666667    ...      \n",
              "2016-01-05 21:30:00  0.000880  0.000251  0.001130    2.083333    ...      \n",
              "2016-01-05 21:40:00  0.000251  0.001130  0.000251    2.666667    ...      \n",
              "2016-01-05 21:50:00  0.001130  0.000251 -0.000752    0.666667    ...      \n",
              "\n",
              "                     DVolume_3      DMEAN_6  DMEAN137_6     DMEAN_12  \\\n",
              "time                                                                   \n",
              "2016-01-05 21:10:00     -496.0  2039.333333  159.666667  1940.750000   \n",
              "2016-01-05 21:20:00      392.0  -695.666667  370.500000  -761.250000   \n",
              "2016-01-05 21:30:00     1788.0 -1573.166667  396.833333 -1115.833333   \n",
              "2016-01-05 21:40:00    -1590.0 -1500.333333 -181.000000  -991.750000   \n",
              "2016-01-05 21:50:00      -91.0  -188.166667 -363.000000 -1031.583333   \n",
              "\n",
              "                     DMEAN137_12     DMEAN_24  DMEAN137_24    RVol_1  \\\n",
              "time                                                                   \n",
              "2016-01-05 21:10:00  -750.333333  4503.916667  -401.833333  0.003786   \n",
              "2016-01-05 21:20:00  -447.833333  1541.875000  -204.291667  0.001723   \n",
              "2016-01-05 21:30:00  -384.416667   876.208333  -152.083333  0.000471   \n",
              "2016-01-05 21:40:00  -516.166667   927.041667  -760.458333  0.000599   \n",
              "2016-01-05 21:50:00  -493.166667   623.208333  -925.041667  0.000666   \n",
              "\n",
              "                       RVol_2    RVol_3  \n",
              "time                                     \n",
              "2016-01-05 21:10:00  0.001723  0.000471  \n",
              "2016-01-05 21:20:00  0.000471  0.000599  \n",
              "2016-01-05 21:30:00  0.000599  0.000666  \n",
              "2016-01-05 21:40:00  0.000666  0.001017  \n",
              "2016-01-05 21:50:00  0.001017  0.000658  \n",
              "\n",
              "[5 rows x 52 columns]"
            ]
          },
          "metadata": {
            "tags": []
          },
          "execution_count": 70
        }
      ]
    },
    {
      "metadata": {
        "id": "XLLs6E0lCoWG",
        "colab_type": "code",
        "colab": {
          "base_uri": "https://localhost:8080/",
          "height": 54
        },
        "outputId": "6615e0cb-6199-4214-8788-531c978f57d3"
      },
      "cell_type": "code",
      "source": [
        "h2o_df = H2OFrame(data)"
      ],
      "execution_count": 71,
      "outputs": [
        {
          "output_type": "stream",
          "text": [
            "Parse progress: |█████████████████████████████████████████████████████████| 100%\n"
          ],
          "name": "stdout"
        }
      ]
    },
    {
      "metadata": {
        "id": "qt8WskBOFS0h",
        "colab_type": "code",
        "colab": {}
      },
      "cell_type": "code",
      "source": [
        "h2o_df['Label'] = h2o_df['Label'].asfactor()"
      ],
      "execution_count": 0,
      "outputs": []
    },
    {
      "metadata": {
        "id": "zEN-kRwwFS8p",
        "colab_type": "code",
        "colab": {}
      },
      "cell_type": "code",
      "source": [
        "strat_split = h2o_df['Label'].stratified_split(test_frac=0.3, seed=42)\n",
        "\n",
        "train = h2o_df[strat_split == 'train']\n",
        "test = h2o_df[strat_split == 'test']"
      ],
      "execution_count": 0,
      "outputs": []
    },
    {
      "metadata": {
        "id": "VgkMrH0sFTB2",
        "colab_type": "code",
        "colab": {}
      },
      "cell_type": "code",
      "source": [
        "target = 'Label'"
      ],
      "execution_count": 0,
      "outputs": []
    },
    {
      "metadata": {
        "id": "Ang3GdzgFTFD",
        "colab_type": "code",
        "colab": {}
      },
      "cell_type": "code",
      "source": [
        "columns_df = list(data.columns)\n",
        "feature = columns_df[1:]"
      ],
      "execution_count": 0,
      "outputs": []
    },
    {
      "metadata": {
        "id": "vykkoisxIcsy",
        "colab_type": "code",
        "colab": {
          "base_uri": "https://localhost:8080/",
          "height": 34
        },
        "outputId": "88fd7fe2-b903-469d-c682-99d57f3f281e"
      },
      "cell_type": "code",
      "source": [
        "len(feature)"
      ],
      "execution_count": 105,
      "outputs": [
        {
          "output_type": "execute_result",
          "data": {
            "text/plain": [
              "51"
            ]
          },
          "metadata": {
            "tags": []
          },
          "execution_count": 105
        }
      ]
    },
    {
      "metadata": {
        "id": "9nIoPP2VMUHA",
        "colab_type": "code",
        "colab": {}
      },
      "cell_type": "code",
      "source": [
        "from h2o.estimators.gbm import H2OGradientBoostingEstimator"
      ],
      "execution_count": 0,
      "outputs": []
    },
    {
      "metadata": {
        "id": "HkhVYNYxOIce",
        "colab_type": "code",
        "colab": {}
      },
      "cell_type": "code",
      "source": [
        "gbm_params2 = {'learn_rate': [i * 0.01 for i in range(1, 11)],\n",
        "                'max_depth': list(range(2, 11)),\n",
        "                'sample_rate': [i * 0.1 for i in range(5, 11)],\n",
        "                'col_sample_rate': [i * 0.1 for i in range(1, 11)]}"
      ],
      "execution_count": 0,
      "outputs": []
    },
    {
      "metadata": {
        "id": "Dd6rAsMxOIfe",
        "colab_type": "code",
        "colab": {}
      },
      "cell_type": "code",
      "source": [
        "# Search criteria\n",
        "search_criteria = {'strategy': 'RandomDiscrete', 'max_models': 36, 'seed': 42}\n"
      ],
      "execution_count": 0,
      "outputs": []
    },
    {
      "metadata": {
        "id": "rPJbv8wBOIiq",
        "colab_type": "code",
        "colab": {}
      },
      "cell_type": "code",
      "source": [
        "gbm_grid2 = H2OGridSearch(model=H2OGradientBoostingEstimator(balance_classes = False),\n",
        "                          grid_id='gbm_grid2',\n",
        "                          hyper_params=gbm_params2,\n",
        "                          search_criteria=search_criteria)"
      ],
      "execution_count": 0,
      "outputs": []
    },
    {
      "metadata": {
        "id": "ii8CZbkXONRc",
        "colab_type": "code",
        "colab": {
          "base_uri": "https://localhost:8080/",
          "height": 34
        },
        "outputId": "ee81cf3f-3773-4add-c0ab-e299ada5e700"
      },
      "cell_type": "code",
      "source": [
        "gbm_grid2.train(x = feature, y = target, training_frame=train, validation_frame=test,seed = 42)"
      ],
      "execution_count": 125,
      "outputs": [
        {
          "output_type": "stream",
          "text": [
            "gbm Grid Build progress: |████████████████████████████████████████████████| 100%\n"
          ],
          "name": "stdout"
        }
      ]
    },
    {
      "metadata": {
        "id": "5EQx9XuqOIlr",
        "colab_type": "code",
        "colab": {
          "base_uri": "https://localhost:8080/",
          "height": 1329
        },
        "outputId": "d29d556a-c842-4045-83cb-9ffd01bb204a"
      },
      "cell_type": "code",
      "source": [
        "gbm_gridperf2 = gbm_grid2.get_grid(sort_by='auc', decreasing=True)\n",
        "gbm_gridperf2\n"
      ],
      "execution_count": 126,
      "outputs": [
        {
          "output_type": "stream",
          "text": [
            "          col_sample_rate learn_rate max_depth         sample_rate  \\\n",
            "0                     0.2       0.06         5                 0.8   \n",
            "1                     0.4       0.04         6  0.6000000000000001   \n",
            "2                     0.8       0.01        10                 0.5   \n",
            "3     0.30000000000000004       0.02        10                 0.8   \n",
            "4                     1.0       0.02         7  0.7000000000000001   \n",
            "5                     1.0       0.04         9                 0.5   \n",
            "6     0.30000000000000004       0.07         9                 0.9   \n",
            "7                     0.9       0.02         7                 0.8   \n",
            "8      0.6000000000000001       0.02         9                 1.0   \n",
            "9      0.7000000000000001       0.07         5                 0.9   \n",
            "10                    0.5       0.07         4  0.7000000000000001   \n",
            "11                    0.8       0.02         6                 1.0   \n",
            "12                    0.5       0.08         5  0.6000000000000001   \n",
            "13     0.6000000000000001       0.01         7                 0.8   \n",
            "14                    1.0       0.02         4  0.6000000000000001   \n",
            "15                    0.2       0.09         6                 0.8   \n",
            "16                    0.5       0.01         5  0.6000000000000001   \n",
            "17                    0.1       0.07         6  0.7000000000000001   \n",
            "18     0.7000000000000001        0.1         4  0.6000000000000001   \n",
            "19                    0.9       0.02         9                 1.0   \n",
            "20                    0.2       0.06         3  0.6000000000000001   \n",
            "21     0.7000000000000001       0.09         2                 1.0   \n",
            "22                    0.9        0.1         5                 0.9   \n",
            "23                    0.9       0.08         2                 0.8   \n",
            "24                    0.5       0.08        10                 1.0   \n",
            "25                    0.9       0.09         3  0.6000000000000001   \n",
            "26                    0.1       0.02         4                 0.8   \n",
            "27                    0.5       0.06         2                 0.8   \n",
            "28     0.7000000000000001       0.07         7                 0.9   \n",
            "29                    0.5       0.04         2                 1.0   \n",
            "30                    1.0       0.08         5  0.6000000000000001   \n",
            "31                    0.1       0.06         2                 0.8   \n",
            "32                    1.0       0.09         5  0.7000000000000001   \n",
            "33                    1.0       0.07         7                 0.5   \n",
            "34                    0.8        0.1         8                 0.8   \n",
            "35                    1.0        0.1         8  0.6000000000000001   \n",
            "\n",
            "             model_ids                 auc  \n",
            "0   gbm_grid2_model_28  0.9669866533833041  \n",
            "1   gbm_grid2_model_21  0.9649651311732056  \n",
            "2   gbm_grid2_model_24   0.964746192893401  \n",
            "3   gbm_grid2_model_12  0.9645550864209245  \n",
            "4    gbm_grid2_model_7   0.964463842370764  \n",
            "5   gbm_grid2_model_14  0.9643329063681073  \n",
            "6    gbm_grid2_model_9  0.9638719420592375  \n",
            "7   gbm_grid2_model_33  0.9625114252731787  \n",
            "8   gbm_grid2_model_20   0.962003336654174  \n",
            "9   gbm_grid2_model_34  0.9614749276531145  \n",
            "10   gbm_grid2_model_5  0.9612302923921122  \n",
            "11   gbm_grid2_model_2  0.9611562060186283  \n",
            "12  gbm_grid2_model_22  0.9608398564131758  \n",
            "13   gbm_grid2_model_6   0.960713743536221  \n",
            "14  gbm_grid2_model_19  0.9606371269984344  \n",
            "15   gbm_grid2_model_8  0.9603561996932175  \n",
            "16  gbm_grid2_model_17  0.9594275503265492  \n",
            "17  gbm_grid2_model_36  0.9580293973464902  \n",
            "18  gbm_grid2_model_10  0.9578325189366984  \n",
            "19  gbm_grid2_model_26  0.9575158530607081  \n",
            "20   gbm_grid2_model_3   0.955969843604219  \n",
            "21  gbm_grid2_model_13  0.9551192339927574  \n",
            "22  gbm_grid2_model_30   0.954443838259247  \n",
            "23  gbm_grid2_model_23  0.9539982130714614  \n",
            "24  gbm_grid2_model_31  0.9539752043898351  \n",
            "25  gbm_grid2_model_18  0.9536136280974746  \n",
            "26   gbm_grid2_model_4  0.9535675316665876  \n",
            "27  gbm_grid2_model_11  0.9518269367617059  \n",
            "28  gbm_grid2_model_25  0.9514859180543036  \n",
            "29   gbm_grid2_model_1  0.9509333934247356  \n",
            "30  gbm_grid2_model_16  0.9503156379967423  \n",
            "31  gbm_grid2_model_27  0.9482564005250091  \n",
            "32  gbm_grid2_model_15  0.9428822524787703  \n",
            "33  gbm_grid2_model_32  0.9316524344924648  \n",
            "34  gbm_grid2_model_35  0.9278443000142321  \n",
            "35  gbm_grid2_model_29  0.8915986685010359  \n"
          ],
          "name": "stdout"
        },
        {
          "output_type": "execute_result",
          "data": {
            "text/plain": [
              ""
            ]
          },
          "metadata": {
            "tags": []
          },
          "execution_count": 126
        }
      ]
    },
    {
      "metadata": {
        "id": "dWoBannfOIqc",
        "colab_type": "code",
        "colab": {}
      },
      "cell_type": "code",
      "source": [
        "best_gbm2 = gbm_gridperf2.models[0]"
      ],
      "execution_count": 0,
      "outputs": []
    },
    {
      "metadata": {
        "id": "k_i25krsOvNH",
        "colab_type": "code",
        "colab": {
          "base_uri": "https://localhost:8080/",
          "height": 34
        },
        "outputId": "6c0f336a-81ef-4d20-e8bc-9a857c9f5a0a"
      },
      "cell_type": "code",
      "source": [
        "best_gbm_perf2 = best_gbm2.model_performance(test)\n",
        "\n",
        "best_gbm_perf2.auc()"
      ],
      "execution_count": 128,
      "outputs": [
        {
          "output_type": "execute_result",
          "data": {
            "text/plain": [
              "0.9669866533833041"
            ]
          },
          "metadata": {
            "tags": []
          },
          "execution_count": 128
        }
      ]
    },
    {
      "metadata": {
        "id": "6g1r2XZgOItc",
        "colab_type": "code",
        "colab": {
          "base_uri": "https://localhost:8080/",
          "height": 4047
        },
        "outputId": "02984cf1-e4f4-4996-83ca-8e8dc6e4e042"
      },
      "cell_type": "code",
      "source": [
        "model_eval(model = best_gbm2, name = 'best_gbm_grid')"
      ],
      "execution_count": 141,
      "outputs": [
        {
          "output_type": "stream",
          "text": [
            "gbm prediction progress: |████████████████████████████████████████████████| 100%\n",
            "gbm prediction progress: |████████████████████████████████████████████████| 100%\n",
            "              precision    recall  f1-score   support\n",
            "\n",
            "           0       0.99      1.00      1.00     32100\n",
            "           1       0.41      0.15      0.22       197\n",
            "\n",
            "   micro avg       0.99      0.99      0.99     32297\n",
            "   macro avg       0.70      0.57      0.61     32297\n",
            "weighted avg       0.99      0.99      0.99     32297\n",
            "\n",
            "Model Details\n",
            "=============\n",
            "H2OGradientBoostingEstimator :  Gradient Boosting Machine\n",
            "Model Key:  gbm_grid2_model_28\n",
            "\n",
            "\n",
            "ModelMetricsBinomial: gbm\n",
            "** Reported on train data. **\n",
            "\n",
            "MSE: 0.0039333574843929695\n",
            "RMSE: 0.06271648494927765\n",
            "LogLoss: 0.017194906447032983\n",
            "Mean Per-Class Error: 0.08125444193125175\n",
            "AUC: 0.9737607772040233\n",
            "pr_auc: 0.5369389315894352\n",
            "Gini: 0.9475215544080466\n",
            "Confusion Matrix (Act/Pred) for max f1 @ threshold = 0.12960711448182535: \n"
          ],
          "name": "stdout"
        },
        {
          "output_type": "display_data",
          "data": {
            "text/html": [
              "<div style=\"overflow:auto\"><table style=\"width:50%\"><tr><td><b></b></td>\n",
              "<td><b>0</b></td>\n",
              "<td><b>1</b></td>\n",
              "<td><b>Error</b></td>\n",
              "<td><b>Rate</b></td></tr>\n",
              "<tr><td>0</td>\n",
              "<td>74647.0</td>\n",
              "<td>253.0</td>\n",
              "<td>0.0034</td>\n",
              "<td> (253.0/74900.0)</td></tr>\n",
              "<tr><td>1</td>\n",
              "<td>188.0</td>\n",
              "<td>273.0</td>\n",
              "<td>0.4078</td>\n",
              "<td> (188.0/461.0)</td></tr>\n",
              "<tr><td>Total</td>\n",
              "<td>74835.0</td>\n",
              "<td>526.0</td>\n",
              "<td>0.0059</td>\n",
              "<td> (441.0/75361.0)</td></tr></table></div>"
            ],
            "text/plain": [
              "       0      1    Error    Rate\n",
              "-----  -----  ---  -------  ---------------\n",
              "0      74647  253  0.0034   (253.0/74900.0)\n",
              "1      188    273  0.4078   (188.0/461.0)\n",
              "Total  74835  526  0.0059   (441.0/75361.0)"
            ]
          },
          "metadata": {
            "tags": []
          }
        },
        {
          "output_type": "stream",
          "text": [
            "Maximum Metrics: Maximum metrics at their respective thresholds\n",
            "\n"
          ],
          "name": "stdout"
        },
        {
          "output_type": "display_data",
          "data": {
            "text/html": [
              "<div style=\"overflow:auto\"><table style=\"width:50%\"><tr><td><b>metric</b></td>\n",
              "<td><b>threshold</b></td>\n",
              "<td><b>value</b></td>\n",
              "<td><b>idx</b></td></tr>\n",
              "<tr><td>max f1</td>\n",
              "<td>0.1296071</td>\n",
              "<td>0.5531915</td>\n",
              "<td>203.0</td></tr>\n",
              "<tr><td>max f2</td>\n",
              "<td>0.0752271</td>\n",
              "<td>0.6021341</td>\n",
              "<td>239.0</td></tr>\n",
              "<tr><td>max f0point5</td>\n",
              "<td>0.4038606</td>\n",
              "<td>0.6105347</td>\n",
              "<td>106.0</td></tr>\n",
              "<tr><td>max accuracy</td>\n",
              "<td>0.4076631</td>\n",
              "<td>0.9953159</td>\n",
              "<td>105.0</td></tr>\n",
              "<tr><td>max precision</td>\n",
              "<td>0.9968647</td>\n",
              "<td>1.0</td>\n",
              "<td>0.0</td></tr>\n",
              "<tr><td>max recall</td>\n",
              "<td>0.0011011</td>\n",
              "<td>1.0</td>\n",
              "<td>398.0</td></tr>\n",
              "<tr><td>max specificity</td>\n",
              "<td>0.9968647</td>\n",
              "<td>1.0</td>\n",
              "<td>0.0</td></tr>\n",
              "<tr><td>max absolute_mcc</td>\n",
              "<td>0.1152507</td>\n",
              "<td>0.5524743</td>\n",
              "<td>211.0</td></tr>\n",
              "<tr><td>max min_per_class_accuracy</td>\n",
              "<td>0.0080986</td>\n",
              "<td>0.9139386</td>\n",
              "<td>351.0</td></tr>\n",
              "<tr><td>max mean_per_class_accuracy</td>\n",
              "<td>0.0091941</td>\n",
              "<td>0.9187456</td>\n",
              "<td>346.0</td></tr></table></div>"
            ],
            "text/plain": [
              "metric                       threshold    value     idx\n",
              "---------------------------  -----------  --------  -----\n",
              "max f1                       0.129607     0.553191  203\n",
              "max f2                       0.0752271    0.602134  239\n",
              "max f0point5                 0.403861     0.610535  106\n",
              "max accuracy                 0.407663     0.995316  105\n",
              "max precision                0.996865     1         0\n",
              "max recall                   0.0011011    1         398\n",
              "max specificity              0.996865     1         0\n",
              "max absolute_mcc             0.115251     0.552474  211\n",
              "max min_per_class_accuracy   0.00809864   0.913939  351\n",
              "max mean_per_class_accuracy  0.00919413   0.918746  346"
            ]
          },
          "metadata": {
            "tags": []
          }
        },
        {
          "output_type": "stream",
          "text": [
            "Gains/Lift Table: Avg response rate:  0.61 %, avg score:  0.62 %\n",
            "\n"
          ],
          "name": "stdout"
        },
        {
          "output_type": "display_data",
          "data": {
            "text/html": [
              "<div style=\"overflow:auto\"><table style=\"width:50%\"><tr><td><b></b></td>\n",
              "<td><b>group</b></td>\n",
              "<td><b>cumulative_data_fraction</b></td>\n",
              "<td><b>lower_threshold</b></td>\n",
              "<td><b>lift</b></td>\n",
              "<td><b>cumulative_lift</b></td>\n",
              "<td><b>response_rate</b></td>\n",
              "<td><b>score</b></td>\n",
              "<td><b>cumulative_response_rate</b></td>\n",
              "<td><b>cumulative_score</b></td>\n",
              "<td><b>capture_rate</b></td>\n",
              "<td><b>cumulative_capture_rate</b></td>\n",
              "<td><b>gain</b></td>\n",
              "<td><b>cumulative_gain</b></td></tr>\n",
              "<tr><td></td>\n",
              "<td>1</td>\n",
              "<td>0.0100052</td>\n",
              "<td>0.0779962</td>\n",
              "<td>67.6439524</td>\n",
              "<td>67.6439524</td>\n",
              "<td>0.4137931</td>\n",
              "<td>0.3130958</td>\n",
              "<td>0.4137931</td>\n",
              "<td>0.3130958</td>\n",
              "<td>0.6767896</td>\n",
              "<td>0.6767896</td>\n",
              "<td>6664.3952427</td>\n",
              "<td>6664.3952427</td></tr>\n",
              "<tr><td></td>\n",
              "<td>2</td>\n",
              "<td>0.0200104</td>\n",
              "<td>0.0338980</td>\n",
              "<td>11.4907996</td>\n",
              "<td>39.5673760</td>\n",
              "<td>0.0702918</td>\n",
              "<td>0.0497390</td>\n",
              "<td>0.2420424</td>\n",
              "<td>0.1814174</td>\n",
              "<td>0.1149675</td>\n",
              "<td>0.7917570</td>\n",
              "<td>1049.0799611</td>\n",
              "<td>3856.7376019</td></tr>\n",
              "<tr><td></td>\n",
              "<td>3</td>\n",
              "<td>0.0300023</td>\n",
              "<td>0.0226737</td>\n",
              "<td>3.6906229</td>\n",
              "<td>27.6190367</td>\n",
              "<td>0.0225764</td>\n",
              "<td>0.0273266</td>\n",
              "<td>0.1689518</td>\n",
              "<td>0.1300992</td>\n",
              "<td>0.0368764</td>\n",
              "<td>0.8286334</td>\n",
              "<td>269.0622902</td>\n",
              "<td>2661.9036746</td></tr>\n",
              "<tr><td></td>\n",
              "<td>4</td>\n",
              "<td>0.0400074</td>\n",
              "<td>0.0173166</td>\n",
              "<td>3.0353056</td>\n",
              "<td>21.4710655</td>\n",
              "<td>0.0185676</td>\n",
              "<td>0.0197187</td>\n",
              "<td>0.1313433</td>\n",
              "<td>0.1024949</td>\n",
              "<td>0.0303688</td>\n",
              "<td>0.8590022</td>\n",
              "<td>203.5305558</td>\n",
              "<td>2047.1065497</td></tr>\n",
              "<tr><td></td>\n",
              "<td>5</td>\n",
              "<td>0.0500126</td>\n",
              "<td>0.0141074</td>\n",
              "<td>1.3008452</td>\n",
              "<td>17.4359511</td>\n",
              "<td>0.0079576</td>\n",
              "<td>0.0156264</td>\n",
              "<td>0.1066596</td>\n",
              "<td>0.0851166</td>\n",
              "<td>0.0130152</td>\n",
              "<td>0.8720174</td>\n",
              "<td>30.0845239</td>\n",
              "<td>1643.5951123</td></tr>\n",
              "<tr><td></td>\n",
              "<td>6</td>\n",
              "<td>0.1000119</td>\n",
              "<td>0.0072111</td>\n",
              "<td>0.9978440</td>\n",
              "<td>9.2179881</td>\n",
              "<td>0.0061040</td>\n",
              "<td>0.0100043</td>\n",
              "<td>0.0563885</td>\n",
              "<td>0.0475654</td>\n",
              "<td>0.0498915</td>\n",
              "<td>0.9219089</td>\n",
              "<td>-0.2155957</td>\n",
              "<td>821.7988077</td></tr>\n",
              "<tr><td></td>\n",
              "<td>7</td>\n",
              "<td>0.1500113</td>\n",
              "<td>0.0042928</td>\n",
              "<td>0.5639988</td>\n",
              "<td>6.3335802</td>\n",
              "<td>0.0034501</td>\n",
              "<td>0.0055334</td>\n",
              "<td>0.0387439</td>\n",
              "<td>0.0335560</td>\n",
              "<td>0.0281996</td>\n",
              "<td>0.9501085</td>\n",
              "<td>-43.6001193</td>\n",
              "<td>533.3580154</td></tr>\n",
              "<tr><td></td>\n",
              "<td>8</td>\n",
              "<td>0.2000106</td>\n",
              "<td>0.0027992</td>\n",
              "<td>0.3470762</td>\n",
              "<td>4.8370535</td>\n",
              "<td>0.0021231</td>\n",
              "<td>0.0034564</td>\n",
              "<td>0.0295893</td>\n",
              "<td>0.0260316</td>\n",
              "<td>0.0173536</td>\n",
              "<td>0.9674620</td>\n",
              "<td>-65.2923811</td>\n",
              "<td>383.7053455</td></tr>\n",
              "<tr><td></td>\n",
              "<td>9</td>\n",
              "<td>0.3000093</td>\n",
              "<td>0.0016410</td>\n",
              "<td>0.1084613</td>\n",
              "<td>3.2609258</td>\n",
              "<td>0.0006635</td>\n",
              "<td>0.0021382</td>\n",
              "<td>0.0199478</td>\n",
              "<td>0.0180675</td>\n",
              "<td>0.0108460</td>\n",
              "<td>0.9783080</td>\n",
              "<td>-89.1538691</td>\n",
              "<td>226.0925788</td></tr>\n",
              "<tr><td></td>\n",
              "<td>10</td>\n",
              "<td>0.4147901</td>\n",
              "<td>0.0012566</td>\n",
              "<td>0.0944930</td>\n",
              "<td>2.3847095</td>\n",
              "<td>0.0005780</td>\n",
              "<td>0.0013927</td>\n",
              "<td>0.0145878</td>\n",
              "<td>0.0134532</td>\n",
              "<td>0.0108460</td>\n",
              "<td>0.9891540</td>\n",
              "<td>-90.5507003</td>\n",
              "<td>138.4709542</td></tr>\n",
              "<tr><td></td>\n",
              "<td>11</td>\n",
              "<td>0.5002322</td>\n",
              "<td>0.0011662</td>\n",
              "<td>0.0507759</td>\n",
              "<td>1.9860624</td>\n",
              "<td>0.0003106</td>\n",
              "<td>0.0012044</td>\n",
              "<td>0.0121492</td>\n",
              "<td>0.0113611</td>\n",
              "<td>0.0043384</td>\n",
              "<td>0.9934924</td>\n",
              "<td>-94.9224139</td>\n",
              "<td>98.6062426</td></tr>\n",
              "<tr><td></td>\n",
              "<td>12</td>\n",
              "<td>0.9828957</td>\n",
              "<td>0.0011014</td>\n",
              "<td>0.0134827</td>\n",
              "<td>1.0174020</td>\n",
              "<td>0.0000825</td>\n",
              "<td>0.0011098</td>\n",
              "<td>0.0062237</td>\n",
              "<td>0.0063271</td>\n",
              "<td>0.0065076</td>\n",
              "<td>1.0</td>\n",
              "<td>-98.6517330</td>\n",
              "<td>1.7401987</td></tr>\n",
              "<tr><td></td>\n",
              "<td>13</td>\n",
              "<td>1.0</td>\n",
              "<td>0.0006208</td>\n",
              "<td>0.0</td>\n",
              "<td>1.0</td>\n",
              "<td>0.0</td>\n",
              "<td>0.0010297</td>\n",
              "<td>0.0061172</td>\n",
              "<td>0.0062365</td>\n",
              "<td>0.0</td>\n",
              "<td>1.0</td>\n",
              "<td>-100.0</td>\n",
              "<td>0.0</td></tr></table></div>"
            ],
            "text/plain": [
              "    group    cumulative_data_fraction    lower_threshold    lift       cumulative_lift    response_rate    score       cumulative_response_rate    cumulative_score    capture_rate    cumulative_capture_rate    gain       cumulative_gain\n",
              "--  -------  --------------------------  -----------------  ---------  -----------------  ---------------  ----------  --------------------------  ------------------  --------------  -------------------------  ---------  -----------------\n",
              "    1        0.0100052                   0.0779962          67.644     67.644             0.413793         0.313096    0.413793                    0.313096            0.67679         0.67679                    6664.4     6664.4\n",
              "    2        0.0200104                   0.033898           11.4908    39.5674            0.0702918        0.049739    0.242042                    0.181417            0.114967        0.791757                   1049.08    3856.74\n",
              "    3        0.0300023                   0.0226737          3.69062    27.619             0.0225764        0.0273266   0.168952                    0.130099            0.0368764       0.828633                   269.062    2661.9\n",
              "    4        0.0400074                   0.0173166          3.03531    21.4711            0.0185676        0.0197187   0.131343                    0.102495            0.0303688       0.859002                   203.531    2047.11\n",
              "    5        0.0500126                   0.0141074          1.30085    17.436             0.00795756       0.0156264   0.10666                     0.0851166           0.0130152       0.872017                   30.0845    1643.6\n",
              "    6        0.100012                    0.00721112         0.997844   9.21799            0.00610403       0.0100043   0.0563885                   0.0475654           0.0498915       0.921909                   -0.215596  821.799\n",
              "    7        0.150011                    0.00429283         0.563999   6.33358            0.00345011       0.00553343  0.0387439                   0.033556            0.0281996       0.950108                   -43.6001   533.358\n",
              "    8        0.200011                    0.00279921         0.347076   4.83705            0.00212314       0.00345641  0.0295893                   0.0260316           0.0173536       0.967462                   -65.2924   383.705\n",
              "    9        0.300009                    0.00164097         0.108461   3.26093            0.000663482      0.00213817  0.0199478                   0.0180675           0.010846        0.978308                   -89.1539   226.093\n",
              "    10       0.41479                     0.00125659         0.094493   2.38471            0.000578035      0.00139268  0.0145878                   0.0134532           0.010846        0.989154                   -90.5507   138.471\n",
              "    11       0.500232                    0.00116617         0.0507759  1.98606            0.000310607      0.00120441  0.0121492                   0.0113611           0.00433839      0.993492                   -94.9224   98.6062\n",
              "    12       0.982896                    0.00110142         0.0134827  1.0174             8.24765e-05      0.00110982  0.00622367                  0.00632706          0.00650759      1                          -98.6517   1.7402\n",
              "    13       1                           0.000620802        0          1                  0                0.0010297   0.00611722                  0.00623646          0               1                          -100       0"
            ]
          },
          "metadata": {
            "tags": []
          }
        },
        {
          "output_type": "stream",
          "text": [
            "\n",
            "\n",
            "ModelMetricsBinomial: gbm\n",
            "** Reported on validation data. **\n",
            "\n",
            "MSE: 0.005635262645386312\n",
            "RMSE: 0.07506838645785796\n",
            "LogLoss: 0.024411965046071904\n",
            "Mean Per-Class Error: 0.08949720891250368\n",
            "AUC: 0.9669866533833041\n",
            "pr_auc: 0.23499561632714772\n",
            "Gini: 0.9339733067666083\n",
            "Confusion Matrix (Act/Pred) for max f1 @ threshold = 0.07078956610935981: \n"
          ],
          "name": "stdout"
        },
        {
          "output_type": "display_data",
          "data": {
            "text/html": [
              "<div style=\"overflow:auto\"><table style=\"width:50%\"><tr><td><b></b></td>\n",
              "<td><b>0</b></td>\n",
              "<td><b>1</b></td>\n",
              "<td><b>Error</b></td>\n",
              "<td><b>Rate</b></td></tr>\n",
              "<tr><td>0</td>\n",
              "<td>31802.0</td>\n",
              "<td>298.0</td>\n",
              "<td>0.0093</td>\n",
              "<td> (298.0/32100.0)</td></tr>\n",
              "<tr><td>1</td>\n",
              "<td>113.0</td>\n",
              "<td>84.0</td>\n",
              "<td>0.5736</td>\n",
              "<td> (113.0/197.0)</td></tr>\n",
              "<tr><td>Total</td>\n",
              "<td>31915.0</td>\n",
              "<td>382.0</td>\n",
              "<td>0.0127</td>\n",
              "<td> (411.0/32297.0)</td></tr></table></div>"
            ],
            "text/plain": [
              "       0      1    Error    Rate\n",
              "-----  -----  ---  -------  ---------------\n",
              "0      31802  298  0.0093   (298.0/32100.0)\n",
              "1      113    84   0.5736   (113.0/197.0)\n",
              "Total  31915  382  0.0127   (411.0/32297.0)"
            ]
          },
          "metadata": {
            "tags": []
          }
        },
        {
          "output_type": "stream",
          "text": [
            "Maximum Metrics: Maximum metrics at their respective thresholds\n",
            "\n"
          ],
          "name": "stdout"
        },
        {
          "output_type": "display_data",
          "data": {
            "text/html": [
              "<div style=\"overflow:auto\"><table style=\"width:50%\"><tr><td><b>metric</b></td>\n",
              "<td><b>threshold</b></td>\n",
              "<td><b>value</b></td>\n",
              "<td><b>idx</b></td></tr>\n",
              "<tr><td>max f1</td>\n",
              "<td>0.0707896</td>\n",
              "<td>0.2901554</td>\n",
              "<td>208.0</td></tr>\n",
              "<tr><td>max f2</td>\n",
              "<td>0.0232081</td>\n",
              "<td>0.3927752</td>\n",
              "<td>280.0</td></tr>\n",
              "<tr><td>max f0point5</td>\n",
              "<td>0.2265159</td>\n",
              "<td>0.3188602</td>\n",
              "<td>111.0</td></tr>\n",
              "<tr><td>max accuracy</td>\n",
              "<td>0.9851451</td>\n",
              "<td>0.9940861</td>\n",
              "<td>4.0</td></tr>\n",
              "<tr><td>max precision</td>\n",
              "<td>0.9985605</td>\n",
              "<td>1.0</td>\n",
              "<td>0.0</td></tr>\n",
              "<tr><td>max recall</td>\n",
              "<td>0.0012254</td>\n",
              "<td>1.0</td>\n",
              "<td>395.0</td></tr>\n",
              "<tr><td>max specificity</td>\n",
              "<td>0.9985605</td>\n",
              "<td>1.0</td>\n",
              "<td>0.0</td></tr>\n",
              "<tr><td>max absolute_mcc</td>\n",
              "<td>0.0232081</td>\n",
              "<td>0.3077666</td>\n",
              "<td>280.0</td></tr>\n",
              "<tr><td>max min_per_class_accuracy</td>\n",
              "<td>0.0072403</td>\n",
              "<td>0.8988785</td>\n",
              "<td>341.0</td></tr>\n",
              "<tr><td>max mean_per_class_accuracy</td>\n",
              "<td>0.0041072</td>\n",
              "<td>0.9105028</td>\n",
              "<td>363.0</td></tr></table></div>"
            ],
            "text/plain": [
              "metric                       threshold    value     idx\n",
              "---------------------------  -----------  --------  -----\n",
              "max f1                       0.0707896    0.290155  208\n",
              "max f2                       0.0232081    0.392775  280\n",
              "max f0point5                 0.226516     0.31886   111\n",
              "max accuracy                 0.985145     0.994086  4\n",
              "max precision                0.998561     1         0\n",
              "max recall                   0.0012254    1         395\n",
              "max specificity              0.998561     1         0\n",
              "max absolute_mcc             0.0232081    0.307767  280\n",
              "max min_per_class_accuracy   0.00724034   0.898879  341\n",
              "max mean_per_class_accuracy  0.00410724   0.910503  363"
            ]
          },
          "metadata": {
            "tags": []
          }
        },
        {
          "output_type": "stream",
          "text": [
            "Gains/Lift Table: Avg response rate:  0.61 %, avg score:  0.63 %\n",
            "\n"
          ],
          "name": "stdout"
        },
        {
          "output_type": "display_data",
          "data": {
            "text/html": [
              "<div style=\"overflow:auto\"><table style=\"width:50%\"><tr><td><b></b></td>\n",
              "<td><b>group</b></td>\n",
              "<td><b>cumulative_data_fraction</b></td>\n",
              "<td><b>lower_threshold</b></td>\n",
              "<td><b>lift</b></td>\n",
              "<td><b>cumulative_lift</b></td>\n",
              "<td><b>response_rate</b></td>\n",
              "<td><b>score</b></td>\n",
              "<td><b>cumulative_response_rate</b></td>\n",
              "<td><b>cumulative_score</b></td>\n",
              "<td><b>capture_rate</b></td>\n",
              "<td><b>cumulative_capture_rate</b></td>\n",
              "<td><b>gain</b></td>\n",
              "<td><b>cumulative_gain</b></td></tr>\n",
              "<tr><td></td>\n",
              "<td>1</td>\n",
              "<td>0.0100009</td>\n",
              "<td>0.0848158</td>\n",
              "<td>36.5448288</td>\n",
              "<td>36.5448288</td>\n",
              "<td>0.2229102</td>\n",
              "<td>0.3154117</td>\n",
              "<td>0.2229102</td>\n",
              "<td>0.3154117</td>\n",
              "<td>0.3654822</td>\n",
              "<td>0.3654822</td>\n",
              "<td>3554.4828778</td>\n",
              "<td>3554.4828778</td></tr>\n",
              "<tr><td></td>\n",
              "<td>2</td>\n",
              "<td>0.0200019</td>\n",
              "<td>0.0353088</td>\n",
              "<td>18.7799815</td>\n",
              "<td>27.6624051</td>\n",
              "<td>0.1145511</td>\n",
              "<td>0.0538052</td>\n",
              "<td>0.1687307</td>\n",
              "<td>0.1846085</td>\n",
              "<td>0.1878173</td>\n",
              "<td>0.5532995</td>\n",
              "<td>1777.9981456</td>\n",
              "<td>2666.2405117</td></tr>\n",
              "<tr><td></td>\n",
              "<td>3</td>\n",
              "<td>0.0300028</td>\n",
              "<td>0.0226229</td>\n",
              "<td>14.7194449</td>\n",
              "<td>23.3480851</td>\n",
              "<td>0.0897833</td>\n",
              "<td>0.0280093</td>\n",
              "<td>0.1424149</td>\n",
              "<td>0.1324087</td>\n",
              "<td>0.1472081</td>\n",
              "<td>0.7005076</td>\n",
              "<td>1371.9444925</td>\n",
              "<td>2234.8085053</td></tr>\n",
              "<tr><td></td>\n",
              "<td>4</td>\n",
              "<td>0.0400037</td>\n",
              "<td>0.0176342</td>\n",
              "<td>3.5529695</td>\n",
              "<td>18.3993062</td>\n",
              "<td>0.0216718</td>\n",
              "<td>0.0199464</td>\n",
              "<td>0.1122291</td>\n",
              "<td>0.1042931</td>\n",
              "<td>0.0355330</td>\n",
              "<td>0.7360406</td>\n",
              "<td>255.2969465</td>\n",
              "<td>1739.9306156</td></tr>\n",
              "<tr><td></td>\n",
              "<td>5</td>\n",
              "<td>0.0500046</td>\n",
              "<td>0.0143571</td>\n",
              "<td>6.5983719</td>\n",
              "<td>16.0391193</td>\n",
              "<td>0.0402477</td>\n",
              "<td>0.0159162</td>\n",
              "<td>0.0978328</td>\n",
              "<td>0.0866177</td>\n",
              "<td>0.0659898</td>\n",
              "<td>0.8020305</td>\n",
              "<td>559.8371863</td>\n",
              "<td>1503.9119297</td></tr>\n",
              "<tr><td></td>\n",
              "<td>6</td>\n",
              "<td>0.1000093</td>\n",
              "<td>0.0075645</td>\n",
              "<td>1.8272414</td>\n",
              "<td>8.9331804</td>\n",
              "<td>0.0111455</td>\n",
              "<td>0.0102914</td>\n",
              "<td>0.0544892</td>\n",
              "<td>0.0484546</td>\n",
              "<td>0.0913706</td>\n",
              "<td>0.8934010</td>\n",
              "<td>82.7241439</td>\n",
              "<td>793.3180368</td></tr>\n",
              "<tr><td></td>\n",
              "<td>7</td>\n",
              "<td>0.1500139</td>\n",
              "<td>0.0044185</td>\n",
              "<td>1.4211878</td>\n",
              "<td>6.4291828</td>\n",
              "<td>0.0086687</td>\n",
              "<td>0.0058150</td>\n",
              "<td>0.0392157</td>\n",
              "<td>0.0342414</td>\n",
              "<td>0.0710660</td>\n",
              "<td>0.9644670</td>\n",
              "<td>42.1187786</td>\n",
              "<td>542.9182841</td></tr>\n",
              "<tr><td></td>\n",
              "<td>8</td>\n",
              "<td>0.2000186</td>\n",
              "<td>0.0028246</td>\n",
              "<td>0.5075671</td>\n",
              "<td>4.9487789</td>\n",
              "<td>0.0030960</td>\n",
              "<td>0.0035301</td>\n",
              "<td>0.0301858</td>\n",
              "<td>0.0265636</td>\n",
              "<td>0.0253807</td>\n",
              "<td>0.9898477</td>\n",
              "<td>-49.2432934</td>\n",
              "<td>394.8778897</td></tr>\n",
              "<tr><td></td>\n",
              "<td>9</td>\n",
              "<td>0.2999969</td>\n",
              "<td>0.0016345</td>\n",
              "<td>0.0</td>\n",
              "<td>3.2995264</td>\n",
              "<td>0.0</td>\n",
              "<td>0.0021359</td>\n",
              "<td>0.0201259</td>\n",
              "<td>0.0184227</td>\n",
              "<td>0.0</td>\n",
              "<td>0.9898477</td>\n",
              "<td>-100.0</td>\n",
              "<td>229.9526440</td></tr>\n",
              "<tr><td></td>\n",
              "<td>10</td>\n",
              "<td>0.4120507</td>\n",
              "<td>0.0012566</td>\n",
              "<td>0.0453010</td>\n",
              "<td>2.4145669</td>\n",
              "<td>0.0002763</td>\n",
              "<td>0.0013915</td>\n",
              "<td>0.0147280</td>\n",
              "<td>0.0137912</td>\n",
              "<td>0.0050761</td>\n",
              "<td>0.9949239</td>\n",
              "<td>-95.4699043</td>\n",
              "<td>141.4566865</td></tr>\n",
              "<tr><td></td>\n",
              "<td>11</td>\n",
              "<td>0.5451900</td>\n",
              "<td>0.0011573</td>\n",
              "<td>0.0381265</td>\n",
              "<td>1.8342231</td>\n",
              "<td>0.0002326</td>\n",
              "<td>0.0011876</td>\n",
              "<td>0.0111881</td>\n",
              "<td>0.0107133</td>\n",
              "<td>0.0050761</td>\n",
              "<td>1.0</td>\n",
              "<td>-96.1873451</td>\n",
              "<td>83.4223080</td></tr>\n",
              "<tr><td></td>\n",
              "<td>12</td>\n",
              "<td>0.9845806</td>\n",
              "<td>0.0011014</td>\n",
              "<td>0.0</td>\n",
              "<td>1.0156609</td>\n",
              "<td>0.0</td>\n",
              "<td>0.0011048</td>\n",
              "<td>0.0061952</td>\n",
              "<td>0.0064253</td>\n",
              "<td>0.0</td>\n",
              "<td>1.0</td>\n",
              "<td>-100.0</td>\n",
              "<td>1.5660870</td></tr>\n",
              "<tr><td></td>\n",
              "<td>13</td>\n",
              "<td>1.0</td>\n",
              "<td>0.0006886</td>\n",
              "<td>0.0</td>\n",
              "<td>1.0</td>\n",
              "<td>0.0</td>\n",
              "<td>0.0010311</td>\n",
              "<td>0.0060996</td>\n",
              "<td>0.0063421</td>\n",
              "<td>0.0</td>\n",
              "<td>1.0</td>\n",
              "<td>-100.0</td>\n",
              "<td>0.0</td></tr></table></div>"
            ],
            "text/plain": [
              "    group    cumulative_data_fraction    lower_threshold    lift       cumulative_lift    response_rate    score       cumulative_response_rate    cumulative_score    capture_rate    cumulative_capture_rate    gain      cumulative_gain\n",
              "--  -------  --------------------------  -----------------  ---------  -----------------  ---------------  ----------  --------------------------  ------------------  --------------  -------------------------  --------  -----------------\n",
              "    1        0.0100009                   0.0848158          36.5448    36.5448            0.22291          0.315412    0.22291                     0.315412            0.365482        0.365482                   3554.48   3554.48\n",
              "    2        0.0200019                   0.0353088          18.78      27.6624            0.114551         0.0538052   0.168731                    0.184608            0.187817        0.553299                   1778      2666.24\n",
              "    3        0.0300028                   0.0226229          14.7194    23.3481            0.0897833        0.0280093   0.142415                    0.132409            0.147208        0.700508                   1371.94   2234.81\n",
              "    4        0.0400037                   0.0176342          3.55297    18.3993            0.0216718        0.0199464   0.112229                    0.104293            0.035533        0.736041                   255.297   1739.93\n",
              "    5        0.0500046                   0.0143571          6.59837    16.0391            0.0402477        0.0159162   0.0978328                   0.0866177           0.0659898       0.80203                    559.837   1503.91\n",
              "    6        0.100009                    0.00756454         1.82724    8.93318            0.0111455        0.0102914   0.0544892                   0.0484546           0.0913706       0.893401                   82.7241   793.318\n",
              "    7        0.150014                    0.00441848         1.42119    6.42918            0.00866873       0.00581496  0.0392157                   0.0342414           0.071066        0.964467                   42.1188   542.918\n",
              "    8        0.200019                    0.00282463         0.507567   4.94878            0.00309598       0.00353014  0.0301858                   0.0265636           0.0253807       0.989848                   -49.2433  394.878\n",
              "    9        0.299997                    0.00163454         0          3.29953            0                0.00213591  0.0201259                   0.0184227           0               0.989848                   -100      229.953\n",
              "    10       0.412051                    0.00125659         0.045301   2.41457            0.000276319      0.00139146  0.014728                    0.0137912           0.00507614      0.994924                   -95.4699  141.457\n",
              "    11       0.54519                     0.00115731         0.0381265  1.83422            0.000232558      0.00118757  0.0111881                   0.0107133           0.00507614      1                          -96.1873  83.4223\n",
              "    12       0.984581                    0.00110142         0          1.01566            0                0.00110483  0.00619516                  0.00642531          0               1                          -100      1.56609\n",
              "    13       1                           0.000688645        0          1                  0                0.00103111  0.00609964                  0.00634213          0               1                          -100      0"
            ]
          },
          "metadata": {
            "tags": []
          }
        },
        {
          "output_type": "stream",
          "text": [
            "\n",
            "Scoring History: \n"
          ],
          "name": "stdout"
        },
        {
          "output_type": "display_data",
          "data": {
            "text/html": [
              "<div style=\"overflow:auto\"><table style=\"width:50%\"><tr><td><b></b></td>\n",
              "<td><b>timestamp</b></td>\n",
              "<td><b>duration</b></td>\n",
              "<td><b>number_of_trees</b></td>\n",
              "<td><b>training_rmse</b></td>\n",
              "<td><b>training_logloss</b></td>\n",
              "<td><b>training_auc</b></td>\n",
              "<td><b>training_pr_auc</b></td>\n",
              "<td><b>training_lift</b></td>\n",
              "<td><b>training_classification_error</b></td>\n",
              "<td><b>validation_rmse</b></td>\n",
              "<td><b>validation_logloss</b></td>\n",
              "<td><b>validation_auc</b></td>\n",
              "<td><b>validation_pr_auc</b></td>\n",
              "<td><b>validation_lift</b></td>\n",
              "<td><b>validation_classification_error</b></td></tr>\n",
              "<tr><td></td>\n",
              "<td>2019-04-05 06:45:49</td>\n",
              "<td> 4 min 45.827 sec</td>\n",
              "<td>0.0</td>\n",
              "<td>0.0779731</td>\n",
              "<td>0.0372758</td>\n",
              "<td>0.5</td>\n",
              "<td>0.0</td>\n",
              "<td>1.0</td>\n",
              "<td>0.9938828</td>\n",
              "<td>0.0778616</td>\n",
              "<td>0.0371863</td>\n",
              "<td>0.5</td>\n",
              "<td>0.0</td>\n",
              "<td>1.0</td>\n",
              "<td>0.9939004</td></tr>\n",
              "<tr><td></td>\n",
              "<td>2019-04-05 06:45:49</td>\n",
              "<td> 4 min 46.036 sec</td>\n",
              "<td>1.0</td>\n",
              "<td>0.0746873</td>\n",
              "<td>0.0313966</td>\n",
              "<td>0.8741807</td>\n",
              "<td>0.1914907</td>\n",
              "<td>33.3660959</td>\n",
              "<td>0.0086119</td>\n",
              "<td>0.0764335</td>\n",
              "<td>0.0327650</td>\n",
              "<td>0.8394602</td>\n",
              "<td>0.1319773</td>\n",
              "<td>27.2443652</td>\n",
              "<td>0.0103415</td></tr>\n",
              "<tr><td></td>\n",
              "<td>2019-04-05 06:45:49</td>\n",
              "<td> 4 min 46.214 sec</td>\n",
              "<td>2.0</td>\n",
              "<td>0.0741555</td>\n",
              "<td>0.0301603</td>\n",
              "<td>0.9280806</td>\n",
              "<td>0.2358300</td>\n",
              "<td>33.0817033</td>\n",
              "<td>0.0094611</td>\n",
              "<td>0.0761753</td>\n",
              "<td>0.0320377</td>\n",
              "<td>0.9260442</td>\n",
              "<td>0.1453757</td>\n",
              "<td>29.9418979</td>\n",
              "<td>0.0074310</td></tr>\n",
              "<tr><td></td>\n",
              "<td>2019-04-05 06:45:50</td>\n",
              "<td> 4 min 46.381 sec</td>\n",
              "<td>3.0</td>\n",
              "<td>0.0736501</td>\n",
              "<td>0.0290649</td>\n",
              "<td>0.9394967</td>\n",
              "<td>0.2650596</td>\n",
              "<td>42.4297211</td>\n",
              "<td>0.0098990</td>\n",
              "<td>0.0760190</td>\n",
              "<td>0.0312602</td>\n",
              "<td>0.9399487</td>\n",
              "<td>0.1540958</td>\n",
              "<td>28.4237557</td>\n",
              "<td>0.0086695</td></tr>\n",
              "<tr><td></td>\n",
              "<td>2019-04-05 06:45:50</td>\n",
              "<td> 4 min 46.557 sec</td>\n",
              "<td>4.0</td>\n",
              "<td>0.0731900</td>\n",
              "<td>0.0281902</td>\n",
              "<td>0.9442126</td>\n",
              "<td>0.2807848</td>\n",
              "<td>45.3127758</td>\n",
              "<td>0.0103502</td>\n",
              "<td>0.0759098</td>\n",
              "<td>0.0307666</td>\n",
              "<td>0.9445770</td>\n",
              "<td>0.1621027</td>\n",
              "<td>29.4388898</td>\n",
              "<td>0.0088243</td></tr>\n",
              "<tr><td></td>\n",
              "<td>2019-04-05 06:45:50</td>\n",
              "<td> 4 min 46.741 sec</td>\n",
              "<td>5.0</td>\n",
              "<td>0.0728335</td>\n",
              "<td>0.0275436</td>\n",
              "<td>0.9453016</td>\n",
              "<td>0.2894354</td>\n",
              "<td>45.0362385</td>\n",
              "<td>0.0099786</td>\n",
              "<td>0.0759404</td>\n",
              "<td>0.0303255</td>\n",
              "<td>0.9459090</td>\n",
              "<td>0.1667602</td>\n",
              "<td>29.9464569</td>\n",
              "<td>0.0082051</td></tr>\n",
              "<tr><td></td>\n",
              "<td>2019-04-05 06:45:50</td>\n",
              "<td> 4 min 46.935 sec</td>\n",
              "<td>6.0</td>\n",
              "<td>0.0724901</td>\n",
              "<td>0.0269533</td>\n",
              "<td>0.9477942</td>\n",
              "<td>0.2999108</td>\n",
              "<td>46.3968135</td>\n",
              "<td>0.0094744</td>\n",
              "<td>0.0758897</td>\n",
              "<td>0.0298389</td>\n",
              "<td>0.9502215</td>\n",
              "<td>0.1714020</td>\n",
              "<td>29.9464569</td>\n",
              "<td>0.0079574</td></tr>\n",
              "<tr><td></td>\n",
              "<td>2019-04-05 06:45:50</td>\n",
              "<td> 4 min 47.138 sec</td>\n",
              "<td>7.0</td>\n",
              "<td>0.0720021</td>\n",
              "<td>0.0260891</td>\n",
              "<td>0.9535647</td>\n",
              "<td>0.3175962</td>\n",
              "<td>47.0472361</td>\n",
              "<td>0.0084659</td>\n",
              "<td>0.0757365</td>\n",
              "<td>0.0292399</td>\n",
              "<td>0.9527417</td>\n",
              "<td>0.1806233</td>\n",
              "<td>31.7799453</td>\n",
              "<td>0.0081741</td></tr>\n",
              "<tr><td></td>\n",
              "<td>2019-04-05 06:45:51</td>\n",
              "<td> 4 min 47.352 sec</td>\n",
              "<td>8.0</td>\n",
              "<td>0.0715549</td>\n",
              "<td>0.0254411</td>\n",
              "<td>0.9558087</td>\n",
              "<td>0.3290689</td>\n",
              "<td>47.9144663</td>\n",
              "<td>0.0109738</td>\n",
              "<td>0.0757106</td>\n",
              "<td>0.0287936</td>\n",
              "<td>0.9571158</td>\n",
              "<td>0.1894661</td>\n",
              "<td>31.3720311</td>\n",
              "<td>0.0081122</td></tr>\n",
              "<tr><td></td>\n",
              "<td>2019-04-05 06:45:51</td>\n",
              "<td> 4 min 47.572 sec</td>\n",
              "<td>9.0</td>\n",
              "<td>0.0710604</td>\n",
              "<td>0.0247291</td>\n",
              "<td>0.9582049</td>\n",
              "<td>0.3501360</td>\n",
              "<td>50.7329643</td>\n",
              "<td>0.0085721</td>\n",
              "<td>0.0757679</td>\n",
              "<td>0.0284900</td>\n",
              "<td>0.9587998</td>\n",
              "<td>0.1911968</td>\n",
              "<td>32.4842922</td>\n",
              "<td>0.0082361</td></tr>\n",
              "<tr><td></td>\n",
              "<td>2019-04-05 06:45:51</td>\n",
              "<td> 4 min 47.797 sec</td>\n",
              "<td>10.0</td>\n",
              "<td>0.0708049</td>\n",
              "<td>0.0243037</td>\n",
              "<td>0.9585507</td>\n",
              "<td>0.3573672</td>\n",
              "<td>51.8170020</td>\n",
              "<td>0.0096734</td>\n",
              "<td>0.0757874</td>\n",
              "<td>0.0282014</td>\n",
              "<td>0.9593617</td>\n",
              "<td>0.1917729</td>\n",
              "<td>32.9918593</td>\n",
              "<td>0.0098461</td></tr>\n",
              "<tr><td></td>\n",
              "<td>2019-04-05 06:45:51</td>\n",
              "<td> 4 min 48.065 sec</td>\n",
              "<td>11.0</td>\n",
              "<td>0.0703640</td>\n",
              "<td>0.0237270</td>\n",
              "<td>0.9596729</td>\n",
              "<td>0.3671843</td>\n",
              "<td>51.8170020</td>\n",
              "<td>0.0107748</td>\n",
              "<td>0.0757850</td>\n",
              "<td>0.0278689</td>\n",
              "<td>0.9604827</td>\n",
              "<td>0.1956667</td>\n",
              "<td>31.9767252</td>\n",
              "<td>0.0129733</td></tr>\n",
              "<tr><td></td>\n",
              "<td>2019-04-05 06:45:52</td>\n",
              "<td> 4 min 48.299 sec</td>\n",
              "<td>12.0</td>\n",
              "<td>0.0701223</td>\n",
              "<td>0.0233350</td>\n",
              "<td>0.9603095</td>\n",
              "<td>0.3752855</td>\n",
              "<td>52.6842322</td>\n",
              "<td>0.0082138</td>\n",
              "<td>0.0757900</td>\n",
              "<td>0.0275874</td>\n",
              "<td>0.9618735</td>\n",
              "<td>0.1956680</td>\n",
              "<td>32.4842922</td>\n",
              "<td>0.0125708</td></tr>\n",
              "<tr><td></td>\n",
              "<td>2019-04-05 06:45:52</td>\n",
              "<td> 4 min 48.537 sec</td>\n",
              "<td>13.0</td>\n",
              "<td>0.0697896</td>\n",
              "<td>0.0229399</td>\n",
              "<td>0.9606868</td>\n",
              "<td>0.3843183</td>\n",
              "<td>54.2018850</td>\n",
              "<td>0.0078821</td>\n",
              "<td>0.0756986</td>\n",
              "<td>0.0273217</td>\n",
              "<td>0.9625650</td>\n",
              "<td>0.1989655</td>\n",
              "<td>31.9767252</td>\n",
              "<td>0.0085766</td></tr>\n",
              "<tr><td></td>\n",
              "<td>2019-04-05 06:45:52</td>\n",
              "<td> 4 min 48.769 sec</td>\n",
              "<td>14.0</td>\n",
              "<td>0.0694966</td>\n",
              "<td>0.0226281</td>\n",
              "<td>0.9609691</td>\n",
              "<td>0.3909872</td>\n",
              "<td>55.4292166</td>\n",
              "<td>0.0095938</td>\n",
              "<td>0.0756613</td>\n",
              "<td>0.0271377</td>\n",
              "<td>0.9630522</td>\n",
              "<td>0.2001726</td>\n",
              "<td>31.4691581</td>\n",
              "<td>0.0085147</td></tr>\n",
              "<tr><td></td>\n",
              "<td>2019-04-05 06:45:52</td>\n",
              "<td> 4 min 49.012 sec</td>\n",
              "<td>15.0</td>\n",
              "<td>0.0691684</td>\n",
              "<td>0.0223014</td>\n",
              "<td>0.9614229</td>\n",
              "<td>0.3941200</td>\n",
              "<td>55.7195377</td>\n",
              "<td>0.0076167</td>\n",
              "<td>0.0755948</td>\n",
              "<td>0.0269666</td>\n",
              "<td>0.9632093</td>\n",
              "<td>0.2014530</td>\n",
              "<td>31.4691581</td>\n",
              "<td>0.0082980</td></tr>\n",
              "<tr><td></td>\n",
              "<td>2019-04-05 06:45:52</td>\n",
              "<td> 4 min 49.252 sec</td>\n",
              "<td>16.0</td>\n",
              "<td>0.0689799</td>\n",
              "<td>0.0220846</td>\n",
              "<td>0.9612002</td>\n",
              "<td>0.3947215</td>\n",
              "<td>56.3699604</td>\n",
              "<td>0.0075636</td>\n",
              "<td>0.0756028</td>\n",
              "<td>0.0268596</td>\n",
              "<td>0.9630105</td>\n",
              "<td>0.2014313</td>\n",
              "<td>31.4691581</td>\n",
              "<td>0.0083289</td></tr>\n",
              "<tr><td></td>\n",
              "<td>2019-04-05 06:45:53</td>\n",
              "<td> 4 min 49.499 sec</td>\n",
              "<td>17.0</td>\n",
              "<td>0.0687562</td>\n",
              "<td>0.0218317</td>\n",
              "<td>0.9613042</td>\n",
              "<td>0.3993438</td>\n",
              "<td>57.2371905</td>\n",
              "<td>0.0076697</td>\n",
              "<td>0.0756068</td>\n",
              "<td>0.0266780</td>\n",
              "<td>0.9635618</td>\n",
              "<td>0.2033637</td>\n",
              "<td>31.4691581</td>\n",
              "<td>0.0083599</td></tr>\n",
              "<tr><td></td>\n",
              "<td>2019-04-05 06:45:53</td>\n",
              "<td> 4 min 49.743 sec</td>\n",
              "<td>18.0</td>\n",
              "<td>0.0683966</td>\n",
              "<td>0.0214980</td>\n",
              "<td>0.9633535</td>\n",
              "<td>0.4144582</td>\n",
              "<td>58.1044207</td>\n",
              "<td>0.0077892</td>\n",
              "<td>0.0755420</td>\n",
              "<td>0.0265277</td>\n",
              "<td>0.9636811</td>\n",
              "<td>0.2002739</td>\n",
              "<td>31.4691581</td>\n",
              "<td>0.0079264</td></tr>\n",
              "<tr><td></td>\n",
              "<td>2019-04-05 06:45:56</td>\n",
              "<td> 4 min 52.283 sec</td>\n",
              "<td>50.0</td>\n",
              "<td>0.0627165</td>\n",
              "<td>0.0171949</td>\n",
              "<td>0.9737608</td>\n",
              "<td>0.5369389</td>\n",
              "<td>67.6439524</td>\n",
              "<td>0.0058518</td>\n",
              "<td>0.0750684</td>\n",
              "<td>0.0244120</td>\n",
              "<td>0.9669867</td>\n",
              "<td>0.2349956</td>\n",
              "<td>36.5448288</td>\n",
              "<td>0.0127256</td></tr></table></div>"
            ],
            "text/plain": [
              "    timestamp            duration          number_of_trees    training_rmse    training_logloss    training_auc    training_pr_auc    training_lift    training_classification_error    validation_rmse    validation_logloss    validation_auc    validation_pr_auc    validation_lift    validation_classification_error\n",
              "--  -------------------  ----------------  -----------------  ---------------  ------------------  --------------  -----------------  ---------------  -------------------------------  -----------------  --------------------  ----------------  -------------------  -----------------  ---------------------------------\n",
              "    2019-04-05 06:45:49  4 min 45.827 sec  0                  0.0779731        0.0372758           0.5             0                  1                0.993883                         0.0778616          0.0371863             0.5               0                    1                  0.9939\n",
              "    2019-04-05 06:45:49  4 min 46.036 sec  1                  0.0746873        0.0313966           0.874181        0.191491           33.3661          0.00861188                       0.0764335          0.032765              0.83946           0.131977             27.2444            0.0103415\n",
              "    2019-04-05 06:45:49  4 min 46.214 sec  2                  0.0741555        0.0301603           0.928081        0.23583            33.0817          0.00946113                       0.0761753          0.0320377             0.926044          0.145376             29.9419            0.00743103\n",
              "    2019-04-05 06:45:50  4 min 46.381 sec  3                  0.0736501        0.0290649           0.939497        0.26506            42.4297          0.00989902                       0.076019           0.0312602             0.939949          0.154096             28.4238            0.00866954\n",
              "    2019-04-05 06:45:50  4 min 46.557 sec  4                  0.07319          0.0281902           0.944213        0.280785           45.3128          0.0103502                        0.0759098          0.0307666             0.944577          0.162103             29.4389            0.00882435\n",
              "    2019-04-05 06:45:50  4 min 46.741 sec  5                  0.0728335        0.0275436           0.945302        0.289435           45.0362          0.00997864                       0.0759404          0.0303255             0.945909          0.16676              29.9465            0.0082051\n",
              "    2019-04-05 06:45:50  4 min 46.935 sec  6                  0.0724901        0.0269533           0.947794        0.299911           46.3968          0.0094744                        0.0758897          0.0298389             0.950221          0.171402             29.9465            0.0079574\n",
              "    2019-04-05 06:45:50  4 min 47.138 sec  7                  0.0720021        0.0260891           0.953565        0.317596           47.0472          0.00846592                       0.0757365          0.0292399             0.952742          0.180623             31.7799            0.00817413\n",
              "    2019-04-05 06:45:51  4 min 47.352 sec  8                  0.0715549        0.0254411           0.955809        0.329069           47.9145          0.0109738                        0.0757106          0.0287936             0.957116          0.189466             31.372             0.00811221\n",
              "    2019-04-05 06:45:51  4 min 47.572 sec  9                  0.0710604        0.0247291           0.958205        0.350136           50.733           0.00857207                       0.0757679          0.02849               0.9588            0.191197             32.4843            0.00823606\n",
              "    2019-04-05 06:45:51  4 min 47.797 sec  10                 0.0708049        0.0243037           0.958551        0.357367           51.817           0.00967344                       0.0757874          0.0282014             0.959362          0.191773             32.9919            0.00984612\n",
              "    2019-04-05 06:45:51  4 min 48.065 sec  11                 0.070364         0.023727            0.959673        0.367184           51.817           0.0107748                        0.075785           0.0278689             0.960483          0.195667             31.9767            0.0129733\n",
              "    2019-04-05 06:45:52  4 min 48.299 sec  12                 0.0701223        0.023335            0.960309        0.375285           52.6842          0.0082138                        0.07579            0.0275874             0.961874          0.195668             32.4843            0.0125708\n",
              "    2019-04-05 06:45:52  4 min 48.537 sec  13                 0.0697896        0.0229399           0.960687        0.384318           54.2019          0.00788206                       0.0756986          0.0273217             0.962565          0.198965             31.9767            0.00857665\n",
              "    2019-04-05 06:45:52  4 min 48.769 sec  14                 0.0694966        0.0226281           0.960969        0.390987           55.4292          0.00959382                       0.0756613          0.0271377             0.963052          0.200173             31.4692            0.00851472\n",
              "    2019-04-05 06:45:52  4 min 49.012 sec  15                 0.0691684        0.0223014           0.961423        0.39412            55.7195          0.00761667                       0.0755948          0.0269666             0.963209          0.201453             31.4692            0.00829798\n",
              "    2019-04-05 06:45:52  4 min 49.252 sec  16                 0.0689799        0.0220846           0.9612          0.394722           56.37            0.00756359                       0.0756028          0.0268596             0.963011          0.201431             31.4692            0.00832895\n",
              "    2019-04-05 06:45:53  4 min 49.499 sec  17                 0.0687562        0.0218317           0.961304        0.399344           57.2372          0.00766975                       0.0756068          0.026678              0.963562          0.203364             31.4692            0.00835991\n",
              "    2019-04-05 06:45:53  4 min 49.743 sec  18                 0.0683966        0.021498            0.963353        0.414458           58.1044          0.00778917                       0.075542           0.0265277             0.963681          0.200274             31.4692            0.00792643\n",
              "    2019-04-05 06:45:56  4 min 52.283 sec  50                 0.0627165        0.0171949           0.973761        0.536939           67.644           0.00585183                       0.0750684          0.024412              0.966987          0.234996             36.5448            0.0127256"
            ]
          },
          "metadata": {
            "tags": []
          }
        },
        {
          "output_type": "stream",
          "text": [
            "Variable Importances: \n"
          ],
          "name": "stdout"
        },
        {
          "output_type": "display_data",
          "data": {
            "text/html": [
              "<div style=\"overflow:auto\"><table style=\"width:50%\"><tr><td><b>variable</b></td>\n",
              "<td><b>relative_importance</b></td>\n",
              "<td><b>scaled_importance</b></td>\n",
              "<td><b>percentage</b></td></tr>\n",
              "<tr><td>RVol_3</td>\n",
              "<td>75.1394043</td>\n",
              "<td>1.0</td>\n",
              "<td>0.1230372</td></tr>\n",
              "<tr><td>Close_4</td>\n",
              "<td>40.8806114</td>\n",
              "<td>0.5440636</td>\n",
              "<td>0.0669401</td></tr>\n",
              "<tr><td>Volume-Mean_3</td>\n",
              "<td>29.9190044</td>\n",
              "<td>0.3981800</td>\n",
              "<td>0.0489910</td></tr>\n",
              "<tr><td>STD_24</td>\n",
              "<td>28.7392616</td>\n",
              "<td>0.3824792</td>\n",
              "<td>0.0470592</td></tr>\n",
              "<tr><td>Volume-Mean_6</td>\n",
              "<td>27.3433743</td>\n",
              "<td>0.3639019</td>\n",
              "<td>0.0447735</td></tr>\n",
              "<tr><td>---</td>\n",
              "<td>---</td>\n",
              "<td>---</td>\n",
              "<td>---</td></tr>\n",
              "<tr><td>MA_6</td>\n",
              "<td>2.6881752</td>\n",
              "<td>0.0357758</td>\n",
              "<td>0.0044018</td></tr>\n",
              "<tr><td>Volume_1</td>\n",
              "<td>2.6758747</td>\n",
              "<td>0.0356121</td>\n",
              "<td>0.0043816</td></tr>\n",
              "<tr><td>DMA_3</td>\n",
              "<td>1.0522574</td>\n",
              "<td>0.0140041</td>\n",
              "<td>0.0017230</td></tr>\n",
              "<tr><td>MA_48</td>\n",
              "<td>0.8914611</td>\n",
              "<td>0.0118641</td>\n",
              "<td>0.0014597</td></tr>\n",
              "<tr><td>DVolume_2</td>\n",
              "<td>0.6992614</td>\n",
              "<td>0.0093062</td>\n",
              "<td>0.0011450</td></tr></table></div>"
            ],
            "text/plain": [
              "variable       relative_importance    scaled_importance     percentage\n",
              "-------------  ---------------------  --------------------  ---------------------\n",
              "RVol_3         75.139404296875        1.0                   0.1230372436449941\n",
              "Close_4        40.880611419677734     0.5440635549645678    0.06694008017053717\n",
              "Volume-Mean_3  29.919004440307617     0.398179952586501     0.04899096384093752\n",
              "STD_24         28.739261627197266     0.3824792317177382    0.04705919042200551\n",
              "Volume-Mean_6  27.343374252319336     0.3639019301282447    0.044773490440072464\n",
              "---            ---                    ---                   ---\n",
              "MA_6           2.6881752014160156     0.03577583861052536   0.004401760571727195\n",
              "Volume_1       2.675874710083008      0.035612136336756875  0.004381619095184303\n",
              "DMA_3          1.0522574186325073     0.014004069216133912  0.0017230220761668296\n",
              "MA_48          0.8914611339569092     0.011864096372587086  0.001459725716021688\n",
              "DVolume_2      0.6992614269256592     0.009306188057638633  0.001145007727453819"
            ]
          },
          "metadata": {
            "tags": []
          }
        },
        {
          "output_type": "stream",
          "text": [
            "\n",
            "See the whole table with table.as_data_frame()\n"
          ],
          "name": "stdout"
        },
        {
          "output_type": "display_data",
          "data": {
            "image/png": "[encoded data removed]",
            "text/plain": [
              "<Figure size 576x432 with 1 Axes>"
            ]
          },
          "metadata": {
            "tags": []
          }
        }
      ]
    },
    {
      "metadata": {
        "id": "_DIJpkpGOIwH",
        "colab_type": "code",
        "colab": {}
      },
      "cell_type": "code",
      "source": [
        ""
      ],
      "execution_count": 0,
      "outputs": []
    },
    {
      "metadata": {
        "id": "VZudinkcFTJT",
        "colab_type": "code",
        "colab": {
          "base_uri": "https://localhost:8080/",
          "height": 54
        },
        "outputId": "e160fa57-fce0-4a07-dc67-d6d437f84ef8"
      },
      "cell_type": "code",
      "source": [
        "naive_model = H2OGradientBoostingEstimator(balance_classes=False, seed=42)\n",
        "naive_model.train(x=feature, y=target, training_frame=train, validation_frame=test)"
      ],
      "execution_count": 136,
      "outputs": [
        {
          "output_type": "stream",
          "text": [
            "gbm Model Build progress: |███████████████████████████████████████████████| 100%\n"
          ],
          "name": "stdout"
        }
      ]
    },
    {
      "metadata": {
        "id": "9CqW9dlCCmHI",
        "colab_type": "code",
        "colab": {
          "base_uri": "https://localhost:8080/",
          "height": 552
        },
        "outputId": "b178fb91-345a-4519-e81a-70a75dc796fc"
      },
      "cell_type": "code",
      "source": [
        "importance = naive_model.varimp(use_pandas = True)\n",
        "\n",
        "fig, ax = plt.subplots(figsize = (10,8))\n",
        "\n",
        "\n",
        "sns.barplot(x='scaled_importance', y='variable', data=importance)\n",
        "plt.savefig('importances.jpg')\n",
        "plt.show()"
      ],
      "execution_count": 137,
      "outputs": [
        {
          "output_type": "stream",
          "text": [
            "/usr/local/lib/python3.6/dist-packages/seaborn/categorical.py:1428: FutureWarning: remove_na is deprecated and is a private function. Do not use.\n",
            "  stat_data = remove_na(group_data)\n"
          ],
          "name": "stderr"
        },
        {
          "output_type": "display_data",
          "data": {
            "image/png": "[encoded data removed]",
            "text/plain": [
              "<Figure size 720x576 with 1 Axes>"
            ]
          },
          "metadata": {
            "tags": []
          }
        }
      ]
    },
    {
      "metadata": {
        "id": "y98IK7CrCmQP",
        "colab_type": "code",
        "colab": {}
      },
      "cell_type": "code",
      "source": [
        "def model_eval(model, name):\n",
        "    train_true = train.as_data_frame()['Label'].values\n",
        "    test_true = test.as_data_frame()['Label'].values\n",
        "    train_pred = model.predict(train).as_data_frame()['p1'].values\n",
        "    test_pred = model.predict(test).as_data_frame()['p1'].values\n",
        "\n",
        "    train_fpr, train_tpr, _ = roc_curve(train_true, train_pred)\n",
        "    test_fpr, test_tpr, _ = roc_curve(test_true, test_pred)\n",
        "    train_auc = np.round(auc(train_fpr, train_tpr), 5)\n",
        "    test_auc = np.round(auc(test_fpr, test_tpr), 5)\n",
        "\n",
        "    print(classification_report(y_true=test_true, y_pred=(test_pred > 0.5).astype(float)))\n",
        "\n",
        "    train_fpr = np.insert(train_fpr, 0, 0)\n",
        "    train_tpr = np.insert(train_tpr, 0, 0)\n",
        "    test_fpr = np.insert(test_fpr, 0, 0)\n",
        "    test_tpr = np.insert(test_tpr, 0, 0)\n",
        "\n",
        "    fig, ax = plt.subplots(figsize=(8, 6))\n",
        "    ax.plot(train_fpr, train_tpr, label='Train AUC: ' + str(train_auc))\n",
        "    ax.plot(test_fpr, test_tpr, label='Test AUC: ' + str(test_auc))\n",
        "    ax.plot(train_fpr, train_fpr, 'k--', label='Chance Curve')\n",
        "    ax.set_xlabel('False Positive Rate', fontsize=12)\n",
        "    ax.set_ylabel('True Positive Rate', fontsize=12)\n",
        "    ax.grid(True)\n",
        "    ax.legend(fontsize=12)\n",
        "    plt.savefig(name+''+'output.jpg' )\n",
        "    plt.show()\n"
      ],
      "execution_count": 0,
      "outputs": []
    },
    {
      "metadata": {
        "id": "YF_CqhH9Tl10",
        "colab_type": "code",
        "colab": {}
      },
      "cell_type": "code",
      "source": [
        ""
      ],
      "execution_count": 0,
      "outputs": []
    },
    {
      "metadata": {
        "id": "Ct_Di1k9TfWv",
        "colab_type": "code",
        "colab": {}
      },
      "cell_type": "code",
      "source": [
        ""
      ],
      "execution_count": 0,
      "outputs": []
    },
    {
      "metadata": {
        "id": "shVuCpbsCmba",
        "colab_type": "code",
        "colab": {
          "base_uri": "https://localhost:8080/",
          "height": 602
        },
        "outputId": "975b717e-d2d2-4ff5-c011-c6e960a344ce"
      },
      "cell_type": "code",
      "source": [
        "model_eval(model = naive_model, name  ='naive_model')"
      ],
      "execution_count": 148,
      "outputs": [
        {
          "output_type": "stream",
          "text": [
            "gbm prediction progress: |████████████████████████████████████████████████| 100%\n",
            "gbm prediction progress: |████████████████████████████████████████████████| 100%\n",
            "              precision    recall  f1-score   support\n",
            "\n",
            "           0       0.99      1.00      1.00     32100\n",
            "           1       0.33      0.15      0.21       197\n",
            "\n",
            "   micro avg       0.99      0.99      0.99     32297\n",
            "   macro avg       0.66      0.58      0.60     32297\n",
            "weighted avg       0.99      0.99      0.99     32297\n",
            "\n"
          ],
          "name": "stdout"
        },
        {
          "output_type": "display_data",
          "data": {
            "image/png": "[encoded data removed]",
            "text/plain": [
              "<Figure size 576x432 with 1 Axes>"
            ]
          },
          "metadata": {
            "tags": []
          }
        }
      ]
    },
    {
      "metadata": {
        "id": "6jiFv_nkCmeV",
        "colab_type": "code",
        "colab": {}
      },
      "cell_type": "code",
      "source": [
        ""
      ],
      "execution_count": 0,
      "outputs": []
    },
    {
      "metadata": {
        "id": "RdY03DaLCmg2",
        "colab_type": "code",
        "colab": {}
      },
      "cell_type": "code",
      "source": [
        ""
      ],
      "execution_count": 0,
      "outputs": []
    },
    {
      "metadata": {
        "id": "H7_zFoCoDmHS",
        "colab_type": "code",
        "colab": {}
      },
      "cell_type": "code",
      "source": [
        ""
      ],
      "execution_count": 0,
      "outputs": []
    },
    {
      "metadata": {
        "id": "_jhLfg517Vtp",
        "colab_type": "code",
        "colab": {}
      },
      "cell_type": "code",
      "source": [
        ""
      ],
      "execution_count": 0,
      "outputs": []
    },
    {
      "metadata": {
        "id": "H-1LvuQ67Vzp",
        "colab_type": "code",
        "colab": {}
      },
      "cell_type": "code",
      "source": [
        ""
      ],
      "execution_count": 0,
      "outputs": []
    },
    {
      "metadata": {
        "id": "x-iRP6_g7V2t",
        "colab_type": "code",
        "colab": {}
      },
      "cell_type": "code",
      "source": [
        ""
      ],
      "execution_count": 0,
      "outputs": []
    },
    {
      "metadata": {
        "id": "y8PDbjMK7V5h",
        "colab_type": "code",
        "colab": {}
      },
      "cell_type": "code",
      "source": [
        ""
      ],
      "execution_count": 0,
      "outputs": []
    },
    {
      "metadata": {
        "id": "XFlFtbhY7V8u",
        "colab_type": "code",
        "colab": {}
      },
      "cell_type": "code",
      "source": [
        ""
      ],
      "execution_count": 0,
      "outputs": []
    },
    {
      "metadata": {
        "id": "HE4fRYp67WAQ",
        "colab_type": "code",
        "colab": {}
      },
      "cell_type": "code",
      "source": [
        ""
      ],
      "execution_count": 0,
      "outputs": []
    },
    {
      "metadata": {
        "id": "XpmrZ0mm7WEH",
        "colab_type": "code",
        "colab": {}
      },
      "cell_type": "code",
      "source": [
        ""
      ],
      "execution_count": 0,
      "outputs": []
    },
    {
      "metadata": {
        "id": "D2eiziLe5ov2",
        "colab_type": "code",
        "colab": {}
      },
      "cell_type": "code",
      "source": [
        ""
      ],
      "execution_count": 0,
      "outputs": []
    },
    {
      "metadata": {
        "id": "1ukoO9uF5o1f",
        "colab_type": "code",
        "colab": {}
      },
      "cell_type": "code",
      "source": [
        ""
      ],
      "execution_count": 0,
      "outputs": []
    },
    {
      "metadata": {
        "id": "IKHKVw1b5o4X",
        "colab_type": "code",
        "colab": {}
      },
      "cell_type": "code",
      "source": [
        ""
      ],
      "execution_count": 0,
      "outputs": []
    },
    {
      "metadata": {
        "id": "xHS8ltIL5o8G",
        "colab_type": "code",
        "colab": {}
      },
      "cell_type": "code",
      "source": [
        ""
      ],
      "execution_count": 0,
      "outputs": []
    },
    {
      "metadata": {
        "id": "upSthwcx5o-5",
        "colab_type": "code",
        "colab": {}
      },
      "cell_type": "code",
      "source": [
        ""
      ],
      "execution_count": 0,
      "outputs": []
    },
    {
      "metadata": {
        "id": "wTbVoYhP5pCQ",
        "colab_type": "code",
        "colab": {}
      },
      "cell_type": "code",
      "source": [
        ""
      ],
      "execution_count": 0,
      "outputs": []
    },
    {
      "metadata": {
        "id": "r4kSQUPt5pFG",
        "colab_type": "code",
        "colab": {}
      },
      "cell_type": "code",
      "source": [
        ""
      ],
      "execution_count": 0,
      "outputs": []
    },
    {
      "metadata": {
        "id": "OULoiYzv5pIR",
        "colab_type": "code",
        "colab": {}
      },
      "cell_type": "code",
      "source": [
        ""
      ],
      "execution_count": 0,
      "outputs": []
    },
    {
      "metadata": {
        "id": "VuqOWKGK5pLE",
        "colab_type": "code",
        "colab": {}
      },
      "cell_type": "code",
      "source": [
        ""
      ],
      "execution_count": 0,
      "outputs": []
    },
    {
      "metadata": {
        "id": "Uc-UvkeR5osi",
        "colab_type": "code",
        "colab": {}
      },
      "cell_type": "code",
      "source": [
        ""
      ],
      "execution_count": 0,
      "outputs": []
    }
  ]
}