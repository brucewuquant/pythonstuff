{
  "nbformat": 4,
  "nbformat_minor": 0,
  "metadata": {
    "colab": {
      "name": "Pre_Final.ipynb",
      "version": "0.3.2",
      "provenance": [],
      "collapsed_sections": []
    },
    "kernelspec": {
      "name": "python3",
      "display_name": "Python 3"
    },
    "accelerator": "TPU"
  },
  "cells": [
    {
      "metadata": {
        "id": "JRgkfqJWDTr4",
        "colab_type": "code",
        "outputId": "5a510e33-9bb3-4f04-e287-2a8e65d9d49c",
        "colab": {
          "base_uri": "https://localhost:8080/",
          "height": 921
        }
      },
      "cell_type": "code",
      "source": [
        "!pip install h2o\n",
        "!pip install pandarallel --user\n",
        "from pandarallel import pandarallel\n",
        "pandarallel.initialize(progress_bar = True)"
      ],
      "execution_count": 0,
      "outputs": [
        {
          "output_type": "stream",
          "text": [
            "Requirement already satisfied: h2o in /usr/local/lib/python3.6/dist-packages (3.24.0.2)\n",
            "Requirement already satisfied: tabulate in /usr/local/lib/python3.6/dist-packages (from h2o) (0.8.3)\n",
            "Requirement already satisfied: requests in /usr/local/lib/python3.6/dist-packages (from h2o) (2.21.0)\n",
            "Requirement already satisfied: future in /usr/local/lib/python3.6/dist-packages (from h2o) (0.16.0)\n",
            "Requirement already satisfied: colorama>=0.3.8 in /usr/local/lib/python3.6/dist-packages (from h2o) (0.4.1)\n",
            "Requirement already satisfied: certifi>=2017.4.17 in /usr/local/lib/python3.6/dist-packages (from requests->h2o) (2019.3.9)\n",
            "Requirement already satisfied: chardet<3.1.0,>=3.0.2 in /usr/local/lib/python3.6/dist-packages (from requests->h2o) (3.0.4)\n",
            "Requirement already satisfied: idna<2.9,>=2.5 in /usr/local/lib/python3.6/dist-packages (from requests->h2o) (2.8)\n",
            "Requirement already satisfied: urllib3<1.25,>=1.21.1 in /usr/local/lib/python3.6/dist-packages (from requests->h2o) (1.24.2)\n",
            "Collecting pandarallel\n",
            "  Downloading https://files.pythonhosted.org/packages/a4/04/e90965979c4fb2cda792f5174e062df47ac6d49d7e28c72274d33430e551/pandarallel-1.1.0.tar.gz\n",
            "Requirement already satisfied: pandas in /usr/local/lib/python3.6/dist-packages (from pandarallel) (0.24.2)\n",
            "Collecting pyarrow>=0.12.1 (from pandarallel)\n",
            "\u001b[?25l  Downloading https://files.pythonhosted.org/packages/ad/25/094b122d828d24b58202712a74e661e36cd551ca62d331e388ff68bae91d/pyarrow-0.13.0-cp36-cp36m-manylinux1_x86_64.whl (48.5MB)\n",
            "    100% |████████████████████████████████| 48.5MB 247kB/s \n",
            "\u001b[?25hCollecting tqdm>=4.31.1 (from pandarallel)\n",
            "\u001b[?25l  Downloading https://files.pythonhosted.org/packages/6c/4b/c38b5144cf167c4f52288517436ccafefe9dc01b8d1c190e18a6b154cd4a/tqdm-4.31.1-py2.py3-none-any.whl (48kB)\n",
            "    100% |████████████████████████████████| 51kB 7.9MB/s \n",
            "\u001b[?25hRequirement already satisfied: numpy>=1.12.0 in /usr/local/lib/python3.6/dist-packages (from pandas->pandarallel) (1.16.3)\n",
            "Requirement already satisfied: python-dateutil>=2.5.0 in /usr/local/lib/python3.6/dist-packages (from pandas->pandarallel) (2.5.3)\n",
            "Requirement already satisfied: pytz>=2011k in /usr/local/lib/python3.6/dist-packages (from pandas->pandarallel) (2018.9)\n",
            "Requirement already satisfied: six>=1.0.0 in /usr/local/lib/python3.6/dist-packages (from pyarrow>=0.12.1->pandarallel) (1.12.0)\n",
            "Building wheels for collected packages: pandarallel\n",
            "  Building wheel for pandarallel (setup.py) ... \u001b[?25ldone\n",
            "\u001b[?25h  Stored in directory: /root/.cache/pip/wheels/dd/ce/56/a7e16ba4f1e9e295042ed67d625c118953182a278c5fa5f51b\n",
            "Successfully built pandarallel\n",
            "Installing collected packages: pyarrow, tqdm, pandarallel\n",
            "  The script plasma_store is installed in '/root/.local/bin' which is not on PATH.\n",
            "  Consider adding this directory to PATH or, if you prefer to suppress this warning, use --no-warn-script-location.\n",
            "  The script tqdm is installed in '/root/.local/bin' which is not on PATH.\n",
            "  Consider adding this directory to PATH or, if you prefer to suppress this warning, use --no-warn-script-location.\n",
            "Successfully installed pandarallel-1.1.0 pyarrow-0.13.0 tqdm-4.31.1\n"
          ],
          "name": "stdout"
        },
        {
          "output_type": "error",
          "ename": "ModuleNotFoundError",
          "evalue": "ignored",
          "traceback": [
            "\u001b[0;31m---------------------------------------------------------------------------\u001b[0m",
            "\u001b[0;31mModuleNotFoundError\u001b[0m                       Traceback (most recent call last)",
            "\u001b[0;32m<ipython-input-96-66e0d4677ca4>\u001b[0m in \u001b[0;36m<module>\u001b[0;34m()\u001b[0m\n\u001b[1;32m      1\u001b[0m \u001b[0mget_ipython\u001b[0m\u001b[0;34m(\u001b[0m\u001b[0;34m)\u001b[0m\u001b[0;34m.\u001b[0m\u001b[0msystem\u001b[0m\u001b[0;34m(\u001b[0m\u001b[0;34m'pip install h2o'\u001b[0m\u001b[0;34m)\u001b[0m\u001b[0;34m\u001b[0m\u001b[0;34m\u001b[0m\u001b[0m\n\u001b[1;32m      2\u001b[0m \u001b[0mget_ipython\u001b[0m\u001b[0;34m(\u001b[0m\u001b[0;34m)\u001b[0m\u001b[0;34m.\u001b[0m\u001b[0msystem\u001b[0m\u001b[0;34m(\u001b[0m\u001b[0;34m'pip install pandarallel --user'\u001b[0m\u001b[0;34m)\u001b[0m\u001b[0;34m\u001b[0m\u001b[0;34m\u001b[0m\u001b[0m\n\u001b[0;32m----> 3\u001b[0;31m \u001b[0;32mfrom\u001b[0m \u001b[0mpandarallel\u001b[0m \u001b[0;32mimport\u001b[0m \u001b[0mpandarallel\u001b[0m\u001b[0;34m\u001b[0m\u001b[0;34m\u001b[0m\u001b[0m\n\u001b[0m\u001b[1;32m      4\u001b[0m \u001b[0mpandarallel\u001b[0m\u001b[0;34m.\u001b[0m\u001b[0minitialize\u001b[0m\u001b[0;34m(\u001b[0m\u001b[0mprogress_bar\u001b[0m \u001b[0;34m=\u001b[0m \u001b[0;32mTrue\u001b[0m\u001b[0;34m)\u001b[0m\u001b[0;34m\u001b[0m\u001b[0;34m\u001b[0m\u001b[0m\n",
            "\u001b[0;31mModuleNotFoundError\u001b[0m: No module named 'pandarallel'",
            "",
            "\u001b[0;31m---------------------------------------------------------------------------\u001b[0;32m\nNOTE: If your import is failing due to a missing package, you can\nmanually install dependencies using either !pip or !apt.\n\nTo view examples of installing some common dependencies, click the\n\"Open Examples\" button below.\n\u001b[0;31m---------------------------------------------------------------------------\u001b[0m\n"
          ]
        }
      ]
    },
    {
      "metadata": {
        "id": "imW2uNwHVTYi",
        "colab_type": "code",
        "outputId": "4e93a19e-75c2-478d-d370-4faae8b2f9f0",
        "colab": {
          "base_uri": "https://localhost:8080/",
          "height": 221
        }
      },
      "cell_type": "code",
      "source": [
        "#google drive os\n",
        "import os\n",
        "from google.colab import drive\n",
        "drive.mount('/content/drive')\n",
        "os.chdir(\"drive/My Drive/Colab Notebooks/Data/FeatureEngineering\")"
      ],
      "execution_count": 0,
      "outputs": [
        {
          "output_type": "stream",
          "text": [
            "Drive already mounted at /content/drive; to attempt to forcibly remount, call drive.mount(\"/content/drive\", force_remount=True).\n"
          ],
          "name": "stdout"
        },
        {
          "output_type": "error",
          "ename": "FileNotFoundError",
          "evalue": "ignored",
          "traceback": [
            "\u001b[0;31m---------------------------------------------------------------------------\u001b[0m",
            "\u001b[0;31mFileNotFoundError\u001b[0m                         Traceback (most recent call last)",
            "\u001b[0;32m<ipython-input-101-fe14cd988bd0>\u001b[0m in \u001b[0;36m<module>\u001b[0;34m()\u001b[0m\n\u001b[1;32m      2\u001b[0m \u001b[0;32mfrom\u001b[0m \u001b[0mgoogle\u001b[0m\u001b[0;34m.\u001b[0m\u001b[0mcolab\u001b[0m \u001b[0;32mimport\u001b[0m \u001b[0mdrive\u001b[0m\u001b[0;34m\u001b[0m\u001b[0;34m\u001b[0m\u001b[0m\n\u001b[1;32m      3\u001b[0m \u001b[0mdrive\u001b[0m\u001b[0;34m.\u001b[0m\u001b[0mmount\u001b[0m\u001b[0;34m(\u001b[0m\u001b[0;34m'/content/drive'\u001b[0m\u001b[0;34m)\u001b[0m\u001b[0;34m\u001b[0m\u001b[0;34m\u001b[0m\u001b[0m\n\u001b[0;32m----> 4\u001b[0;31m \u001b[0mos\u001b[0m\u001b[0;34m.\u001b[0m\u001b[0mchdir\u001b[0m\u001b[0;34m(\u001b[0m\u001b[0;34m\"drive/My Drive/Colab Notebooks/Data/FeatureEngineering\"\u001b[0m\u001b[0;34m)\u001b[0m\u001b[0;34m\u001b[0m\u001b[0;34m\u001b[0m\u001b[0m\n\u001b[0m",
            "\u001b[0;31mFileNotFoundError\u001b[0m: [Errno 2] No such file or directory: 'drive/My Drive/Colab Notebooks/Data/FeatureEngineering'"
          ]
        }
      ]
    },
    {
      "metadata": {
        "id": "p7LReH8YukqR",
        "colab_type": "code",
        "colab": {}
      },
      "cell_type": "code",
      "source": [
        ""
      ],
      "execution_count": 0,
      "outputs": []
    },
    {
      "metadata": {
        "id": "F6wFuAxJVW2g",
        "colab_type": "code",
        "colab": {}
      },
      "cell_type": "code",
      "source": [
        "import numpy as np\n",
        "import pandas as pd\n",
        "import matplotlib.pyplot as plt\n",
        "from sklearn.metrics import make_scorer\n",
        "from sklearn.model_selection import cross_val_score\n",
        "from sklearn.model_selection import TimeSeriesSplit\n",
        "from sklearn.metrics import confusion_matrix\n",
        "from termcolor import colored\n",
        "\n",
        "from sklearn.ensemble import RandomForestClassifier\n",
        "from sklearn.linear_model import LogisticRegression\n",
        "from sklearn.model_selection import train_test_split\n",
        "from imblearn.over_sampling import SMOTE\n",
        "from sklearn import metrics\n",
        "import xgboost as xgb\n",
        "\n",
        "\n",
        "from sklearn.compose import ColumnTransformer\n",
        "from sklearn.pipeline import Pipeline\n",
        "from sklearn.impute import SimpleImputer\n",
        "from sklearn.preprocessing import StandardScaler, OneHotEncoder"
      ],
      "execution_count": 0,
      "outputs": []
    },
    {
      "metadata": {
        "id": "JEIxKaosErI3",
        "colab_type": "code",
        "colab": {}
      },
      "cell_type": "code",
      "source": [
        "def df_to_h2oF(data, factor_list):\n",
        "    \n",
        "    data[factor_list] = data[factor_list].astype(int)\n",
        "    h2o_df = H2OFrame(data)\n",
        "    h2o_df[factor_list] = h2o_df[factor_list].asfactor()\n",
        "    \n",
        "    return h2o_df"
      ],
      "execution_count": 0,
      "outputs": []
    },
    {
      "metadata": {
        "id": "67S1EvpLpbC5",
        "colab_type": "code",
        "colab": {}
      },
      "cell_type": "code",
      "source": [
        "def corn_process(filename):\n",
        "    data_corn = pd.read_csv(filename, index_col= 0, parse_dates=[0])\n",
        "    \n",
        "    data_corn = data_corn[~data_corn.isin([np.nan, np.inf, -np.inf]).any(1)]\n",
        "    \n",
        "    #for renhao's purpose\n",
        "    pd.DataFrame(data_corn.index).to_csv('corn_whole_index_cleaned.csv')\n",
        "    \n",
        "    factor_list_Cap = ['Feature_57', 'Feature_58', 'Feature_45','Feature_47']\n",
        "    \n",
        "    numeric_list = list(set(data_corn.columns) - set(factor_list_Cap))\n",
        "    \n",
        "    data_corn[numeric_list] = data_corn[numeric_list].apply(lambda x: (x-np.mean(x))/np.std(x), axis = 0)\n",
        "    \n",
        "    standardized_saved_model = h2o.load_model('./leader_standardize_0424/XGBoost_1_AutoML_20190424_070314')\n",
        "    \n",
        "    standardized_corn_predict = standardized_saved_model.predict(df_to_h2oF(data_corn,factor_list_Cap))\n",
        "    \n",
        "    standardized_corn_predict_df = h2o.as_list(standardized_corn_predict)\n",
        "    \n",
        "    standardized_corn_predict_df.to_csv('standardized_corn_predict.csv')\n",
        "    \n",
        "    return standardized_corn_predict_df\n",
        "    "
      ],
      "execution_count": 0,
      "outputs": []
    },
    {
      "metadata": {
        "id": "7KlkKOmbDfCN",
        "colab_type": "code",
        "outputId": "62a4f8a1-64e9-4e48-9563-48cfc6a15365",
        "colab": {
          "base_uri": "https://localhost:8080/",
          "height": 1980
        }
      },
      "cell_type": "code",
      "source": [
        "corn_process('Report_Features_Corn.csv')"
      ],
      "execution_count": 0,
      "outputs": [
        {
          "output_type": "stream",
          "text": [
            "Parse progress: |█████████████████████████████████████████████████████████| 100%\n",
            "xgboost prediction progress: |████████████████████████████████████████████| 100%\n"
          ],
          "name": "stdout"
        },
        {
          "output_type": "execute_result",
          "data": {
            "text/html": [
              "<div>\n",
              "<style scoped>\n",
              "    .dataframe tbody tr th:only-of-type {\n",
              "        vertical-align: middle;\n",
              "    }\n",
              "\n",
              "    .dataframe tbody tr th {\n",
              "        vertical-align: top;\n",
              "    }\n",
              "\n",
              "    .dataframe thead th {\n",
              "        text-align: right;\n",
              "    }\n",
              "</style>\n",
              "<table border=\"1\" class=\"dataframe\">\n",
              "  <thead>\n",
              "    <tr style=\"text-align: right;\">\n",
              "      <th></th>\n",
              "      <th>predict</th>\n",
              "      <th>p0</th>\n",
              "      <th>p1</th>\n",
              "    </tr>\n",
              "  </thead>\n",
              "  <tbody>\n",
              "    <tr>\n",
              "      <th>0</th>\n",
              "      <td>0</td>\n",
              "      <td>0.999829</td>\n",
              "      <td>0.000171</td>\n",
              "    </tr>\n",
              "    <tr>\n",
              "      <th>1</th>\n",
              "      <td>0</td>\n",
              "      <td>0.998819</td>\n",
              "      <td>0.001181</td>\n",
              "    </tr>\n",
              "    <tr>\n",
              "      <th>2</th>\n",
              "      <td>0</td>\n",
              "      <td>0.999828</td>\n",
              "      <td>0.000172</td>\n",
              "    </tr>\n",
              "    <tr>\n",
              "      <th>3</th>\n",
              "      <td>0</td>\n",
              "      <td>0.999785</td>\n",
              "      <td>0.000215</td>\n",
              "    </tr>\n",
              "    <tr>\n",
              "      <th>4</th>\n",
              "      <td>0</td>\n",
              "      <td>0.997385</td>\n",
              "      <td>0.002615</td>\n",
              "    </tr>\n",
              "    <tr>\n",
              "      <th>5</th>\n",
              "      <td>0</td>\n",
              "      <td>0.982586</td>\n",
              "      <td>0.017414</td>\n",
              "    </tr>\n",
              "    <tr>\n",
              "      <th>6</th>\n",
              "      <td>0</td>\n",
              "      <td>0.999438</td>\n",
              "      <td>0.000562</td>\n",
              "    </tr>\n",
              "    <tr>\n",
              "      <th>7</th>\n",
              "      <td>0</td>\n",
              "      <td>0.999082</td>\n",
              "      <td>0.000918</td>\n",
              "    </tr>\n",
              "    <tr>\n",
              "      <th>8</th>\n",
              "      <td>0</td>\n",
              "      <td>0.999805</td>\n",
              "      <td>0.000195</td>\n",
              "    </tr>\n",
              "    <tr>\n",
              "      <th>9</th>\n",
              "      <td>0</td>\n",
              "      <td>0.999827</td>\n",
              "      <td>0.000173</td>\n",
              "    </tr>\n",
              "    <tr>\n",
              "      <th>10</th>\n",
              "      <td>0</td>\n",
              "      <td>0.999965</td>\n",
              "      <td>0.000035</td>\n",
              "    </tr>\n",
              "    <tr>\n",
              "      <th>11</th>\n",
              "      <td>0</td>\n",
              "      <td>0.999894</td>\n",
              "      <td>0.000106</td>\n",
              "    </tr>\n",
              "    <tr>\n",
              "      <th>12</th>\n",
              "      <td>0</td>\n",
              "      <td>0.999957</td>\n",
              "      <td>0.000043</td>\n",
              "    </tr>\n",
              "    <tr>\n",
              "      <th>13</th>\n",
              "      <td>0</td>\n",
              "      <td>0.999920</td>\n",
              "      <td>0.000080</td>\n",
              "    </tr>\n",
              "    <tr>\n",
              "      <th>14</th>\n",
              "      <td>0</td>\n",
              "      <td>0.999876</td>\n",
              "      <td>0.000124</td>\n",
              "    </tr>\n",
              "    <tr>\n",
              "      <th>15</th>\n",
              "      <td>0</td>\n",
              "      <td>0.999926</td>\n",
              "      <td>0.000074</td>\n",
              "    </tr>\n",
              "    <tr>\n",
              "      <th>16</th>\n",
              "      <td>0</td>\n",
              "      <td>0.999904</td>\n",
              "      <td>0.000097</td>\n",
              "    </tr>\n",
              "    <tr>\n",
              "      <th>17</th>\n",
              "      <td>0</td>\n",
              "      <td>0.999954</td>\n",
              "      <td>0.000046</td>\n",
              "    </tr>\n",
              "    <tr>\n",
              "      <th>18</th>\n",
              "      <td>0</td>\n",
              "      <td>0.999911</td>\n",
              "      <td>0.000089</td>\n",
              "    </tr>\n",
              "    <tr>\n",
              "      <th>19</th>\n",
              "      <td>0</td>\n",
              "      <td>0.999899</td>\n",
              "      <td>0.000101</td>\n",
              "    </tr>\n",
              "    <tr>\n",
              "      <th>20</th>\n",
              "      <td>0</td>\n",
              "      <td>0.999927</td>\n",
              "      <td>0.000073</td>\n",
              "    </tr>\n",
              "    <tr>\n",
              "      <th>21</th>\n",
              "      <td>0</td>\n",
              "      <td>0.999941</td>\n",
              "      <td>0.000059</td>\n",
              "    </tr>\n",
              "    <tr>\n",
              "      <th>22</th>\n",
              "      <td>0</td>\n",
              "      <td>0.999905</td>\n",
              "      <td>0.000095</td>\n",
              "    </tr>\n",
              "    <tr>\n",
              "      <th>23</th>\n",
              "      <td>0</td>\n",
              "      <td>0.999470</td>\n",
              "      <td>0.000530</td>\n",
              "    </tr>\n",
              "    <tr>\n",
              "      <th>24</th>\n",
              "      <td>0</td>\n",
              "      <td>0.999748</td>\n",
              "      <td>0.000252</td>\n",
              "    </tr>\n",
              "    <tr>\n",
              "      <th>25</th>\n",
              "      <td>0</td>\n",
              "      <td>0.999924</td>\n",
              "      <td>0.000076</td>\n",
              "    </tr>\n",
              "    <tr>\n",
              "      <th>26</th>\n",
              "      <td>0</td>\n",
              "      <td>0.999962</td>\n",
              "      <td>0.000038</td>\n",
              "    </tr>\n",
              "    <tr>\n",
              "      <th>27</th>\n",
              "      <td>0</td>\n",
              "      <td>0.999879</td>\n",
              "      <td>0.000121</td>\n",
              "    </tr>\n",
              "    <tr>\n",
              "      <th>28</th>\n",
              "      <td>0</td>\n",
              "      <td>0.999596</td>\n",
              "      <td>0.000404</td>\n",
              "    </tr>\n",
              "    <tr>\n",
              "      <th>29</th>\n",
              "      <td>0</td>\n",
              "      <td>0.999961</td>\n",
              "      <td>0.000039</td>\n",
              "    </tr>\n",
              "    <tr>\n",
              "      <th>...</th>\n",
              "      <td>...</td>\n",
              "      <td>...</td>\n",
              "      <td>...</td>\n",
              "    </tr>\n",
              "    <tr>\n",
              "      <th>57077</th>\n",
              "      <td>0</td>\n",
              "      <td>0.999912</td>\n",
              "      <td>0.000088</td>\n",
              "    </tr>\n",
              "    <tr>\n",
              "      <th>57078</th>\n",
              "      <td>0</td>\n",
              "      <td>0.997985</td>\n",
              "      <td>0.002015</td>\n",
              "    </tr>\n",
              "    <tr>\n",
              "      <th>57079</th>\n",
              "      <td>0</td>\n",
              "      <td>0.984647</td>\n",
              "      <td>0.015353</td>\n",
              "    </tr>\n",
              "    <tr>\n",
              "      <th>57080</th>\n",
              "      <td>0</td>\n",
              "      <td>0.981688</td>\n",
              "      <td>0.018312</td>\n",
              "    </tr>\n",
              "    <tr>\n",
              "      <th>57081</th>\n",
              "      <td>0</td>\n",
              "      <td>0.990950</td>\n",
              "      <td>0.009050</td>\n",
              "    </tr>\n",
              "    <tr>\n",
              "      <th>57082</th>\n",
              "      <td>0</td>\n",
              "      <td>0.986826</td>\n",
              "      <td>0.013174</td>\n",
              "    </tr>\n",
              "    <tr>\n",
              "      <th>57083</th>\n",
              "      <td>0</td>\n",
              "      <td>0.995159</td>\n",
              "      <td>0.004841</td>\n",
              "    </tr>\n",
              "    <tr>\n",
              "      <th>57084</th>\n",
              "      <td>0</td>\n",
              "      <td>0.999424</td>\n",
              "      <td>0.000576</td>\n",
              "    </tr>\n",
              "    <tr>\n",
              "      <th>57085</th>\n",
              "      <td>0</td>\n",
              "      <td>0.997540</td>\n",
              "      <td>0.002460</td>\n",
              "    </tr>\n",
              "    <tr>\n",
              "      <th>57086</th>\n",
              "      <td>0</td>\n",
              "      <td>0.996982</td>\n",
              "      <td>0.003018</td>\n",
              "    </tr>\n",
              "    <tr>\n",
              "      <th>57087</th>\n",
              "      <td>0</td>\n",
              "      <td>0.999060</td>\n",
              "      <td>0.000940</td>\n",
              "    </tr>\n",
              "    <tr>\n",
              "      <th>57088</th>\n",
              "      <td>0</td>\n",
              "      <td>0.999517</td>\n",
              "      <td>0.000483</td>\n",
              "    </tr>\n",
              "    <tr>\n",
              "      <th>57089</th>\n",
              "      <td>0</td>\n",
              "      <td>0.999859</td>\n",
              "      <td>0.000141</td>\n",
              "    </tr>\n",
              "    <tr>\n",
              "      <th>57090</th>\n",
              "      <td>0</td>\n",
              "      <td>0.999351</td>\n",
              "      <td>0.000649</td>\n",
              "    </tr>\n",
              "    <tr>\n",
              "      <th>57091</th>\n",
              "      <td>0</td>\n",
              "      <td>0.999477</td>\n",
              "      <td>0.000523</td>\n",
              "    </tr>\n",
              "    <tr>\n",
              "      <th>57092</th>\n",
              "      <td>0</td>\n",
              "      <td>0.999872</td>\n",
              "      <td>0.000128</td>\n",
              "    </tr>\n",
              "    <tr>\n",
              "      <th>57093</th>\n",
              "      <td>0</td>\n",
              "      <td>0.999089</td>\n",
              "      <td>0.000911</td>\n",
              "    </tr>\n",
              "    <tr>\n",
              "      <th>57094</th>\n",
              "      <td>0</td>\n",
              "      <td>0.996847</td>\n",
              "      <td>0.003153</td>\n",
              "    </tr>\n",
              "    <tr>\n",
              "      <th>57095</th>\n",
              "      <td>0</td>\n",
              "      <td>0.993651</td>\n",
              "      <td>0.006349</td>\n",
              "    </tr>\n",
              "    <tr>\n",
              "      <th>57096</th>\n",
              "      <td>0</td>\n",
              "      <td>0.773358</td>\n",
              "      <td>0.226642</td>\n",
              "    </tr>\n",
              "    <tr>\n",
              "      <th>57097</th>\n",
              "      <td>0</td>\n",
              "      <td>0.997226</td>\n",
              "      <td>0.002774</td>\n",
              "    </tr>\n",
              "    <tr>\n",
              "      <th>57098</th>\n",
              "      <td>0</td>\n",
              "      <td>0.999813</td>\n",
              "      <td>0.000187</td>\n",
              "    </tr>\n",
              "    <tr>\n",
              "      <th>57099</th>\n",
              "      <td>0</td>\n",
              "      <td>0.999635</td>\n",
              "      <td>0.000365</td>\n",
              "    </tr>\n",
              "    <tr>\n",
              "      <th>57100</th>\n",
              "      <td>0</td>\n",
              "      <td>0.999617</td>\n",
              "      <td>0.000384</td>\n",
              "    </tr>\n",
              "    <tr>\n",
              "      <th>57101</th>\n",
              "      <td>0</td>\n",
              "      <td>0.999656</td>\n",
              "      <td>0.000344</td>\n",
              "    </tr>\n",
              "    <tr>\n",
              "      <th>57102</th>\n",
              "      <td>0</td>\n",
              "      <td>0.999890</td>\n",
              "      <td>0.000110</td>\n",
              "    </tr>\n",
              "    <tr>\n",
              "      <th>57103</th>\n",
              "      <td>0</td>\n",
              "      <td>0.999827</td>\n",
              "      <td>0.000173</td>\n",
              "    </tr>\n",
              "    <tr>\n",
              "      <th>57104</th>\n",
              "      <td>0</td>\n",
              "      <td>0.999481</td>\n",
              "      <td>0.000519</td>\n",
              "    </tr>\n",
              "    <tr>\n",
              "      <th>57105</th>\n",
              "      <td>0</td>\n",
              "      <td>0.999434</td>\n",
              "      <td>0.000566</td>\n",
              "    </tr>\n",
              "    <tr>\n",
              "      <th>57106</th>\n",
              "      <td>0</td>\n",
              "      <td>0.987238</td>\n",
              "      <td>0.012762</td>\n",
              "    </tr>\n",
              "  </tbody>\n",
              "</table>\n",
              "<p>57107 rows × 3 columns</p>\n",
              "</div>"
            ],
            "text/plain": [
              "       predict        p0        p1\n",
              "0            0  0.999829  0.000171\n",
              "1            0  0.998819  0.001181\n",
              "2            0  0.999828  0.000172\n",
              "3            0  0.999785  0.000215\n",
              "4            0  0.997385  0.002615\n",
              "5            0  0.982586  0.017414\n",
              "6            0  0.999438  0.000562\n",
              "7            0  0.999082  0.000918\n",
              "8            0  0.999805  0.000195\n",
              "9            0  0.999827  0.000173\n",
              "10           0  0.999965  0.000035\n",
              "11           0  0.999894  0.000106\n",
              "12           0  0.999957  0.000043\n",
              "13           0  0.999920  0.000080\n",
              "14           0  0.999876  0.000124\n",
              "15           0  0.999926  0.000074\n",
              "16           0  0.999904  0.000097\n",
              "17           0  0.999954  0.000046\n",
              "18           0  0.999911  0.000089\n",
              "19           0  0.999899  0.000101\n",
              "20           0  0.999927  0.000073\n",
              "21           0  0.999941  0.000059\n",
              "22           0  0.999905  0.000095\n",
              "23           0  0.999470  0.000530\n",
              "24           0  0.999748  0.000252\n",
              "25           0  0.999924  0.000076\n",
              "26           0  0.999962  0.000038\n",
              "27           0  0.999879  0.000121\n",
              "28           0  0.999596  0.000404\n",
              "29           0  0.999961  0.000039\n",
              "...        ...       ...       ...\n",
              "57077        0  0.999912  0.000088\n",
              "57078        0  0.997985  0.002015\n",
              "57079        0  0.984647  0.015353\n",
              "57080        0  0.981688  0.018312\n",
              "57081        0  0.990950  0.009050\n",
              "57082        0  0.986826  0.013174\n",
              "57083        0  0.995159  0.004841\n",
              "57084        0  0.999424  0.000576\n",
              "57085        0  0.997540  0.002460\n",
              "57086        0  0.996982  0.003018\n",
              "57087        0  0.999060  0.000940\n",
              "57088        0  0.999517  0.000483\n",
              "57089        0  0.999859  0.000141\n",
              "57090        0  0.999351  0.000649\n",
              "57091        0  0.999477  0.000523\n",
              "57092        0  0.999872  0.000128\n",
              "57093        0  0.999089  0.000911\n",
              "57094        0  0.996847  0.003153\n",
              "57095        0  0.993651  0.006349\n",
              "57096        0  0.773358  0.226642\n",
              "57097        0  0.997226  0.002774\n",
              "57098        0  0.999813  0.000187\n",
              "57099        0  0.999635  0.000365\n",
              "57100        0  0.999617  0.000384\n",
              "57101        0  0.999656  0.000344\n",
              "57102        0  0.999890  0.000110\n",
              "57103        0  0.999827  0.000173\n",
              "57104        0  0.999481  0.000519\n",
              "57105        0  0.999434  0.000566\n",
              "57106        0  0.987238  0.012762\n",
              "\n",
              "[57107 rows x 3 columns]"
            ]
          },
          "metadata": {
            "tags": []
          },
          "execution_count": 57
        }
      ]
    },
    {
      "metadata": {
        "id": "4Zomm2PWVnvL",
        "colab_type": "code",
        "colab": {}
      },
      "cell_type": "code",
      "source": [
        "def es_process(filename, no_of_models, debug = False):\n",
        "               \n",
        "    data = pd.read_csv(filename, index_col= 0, parse_dates=[0])\n",
        "    remove_data = data[~data.isin([np.nan, np.inf, -np.inf]).any(1)]\n",
        "    factor_list_es = ['feature_57', 'feature_58', 'Feature_45','Feature_47', 'Target']\n",
        "    numeric_list_es = list(set(remove_data.columns) - set(factor_list_es))\n",
        "    remove_data[numeric_list_es] = remove_data[numeric_list_es].apply(lambda x: (x-np.mean(x))/np.std(x), axis = 0)\n",
        "    #true label\n",
        "    X = remove_data.iloc[:,:-1]\n",
        "    y = remove_data['Target']\n",
        "    import warnings\n",
        "    warnings.filterwarnings(\"ignore\")\n",
        "    X_train, X_test, y_train, y_test = train_test_split(X, y, test_size = 1/3, shuffle=False)\n",
        "    #for Ren Hao's usage\n",
        "    #pd.DataFrame(X_train.index).to_csv('cleaned_train_index.csv')\n",
        "    #pd.DataFrame(X_test.index).to_csv('cleaned_test_index.csv')\n",
        "    sm = SMOTE(ratio = 'minority')\n",
        "    X_resampled, y_resampled = sm.fit_sample(X= np.nan_to_num(X_train), y = np.nan_to_num(y_train))\n",
        "    #X_resampled, y_resampled = X_train, y_train\n",
        "    from h2o.automl import H2OAutoML\n",
        "    import h2o\n",
        "    from h2o.frame import H2OFrame\n",
        "    h2o.init()\n",
        "    df = remove_data.copy(deep = True)\n",
        "    h2o_df = df_to_h2oF(df, factor_list_es)\n",
        "    \n",
        "    train_tmp, test_tmp = train_test_split(remove_data, test_size = 1/3, shuffle = False)\n",
        "    train_h2o =  df_to_h2oF(train_tmp, factor_list_es)\n",
        "    test_h2o = df_to_h2oF(test_tmp, factor_list_es)\n",
        "   \n",
        "    test_h2o_to_aml = test_h2o #save for test \n",
        "    train_h2o_resample_df = pd.concat([pd.DataFrame(X_resampled), pd.DataFrame(y_resampled)], axis = 1 )\n",
        "    train_h2o_resample_df.columns = df.columns\n",
        "    train_h2o_resample_h2oframe = df_to_h2oF(train_h2o_resample_df, factor_list_es)\n",
        "    #training\n",
        "    x = train_h2o_resample_h2oframe.columns\n",
        "    y = 'Target'\n",
        "    x.remove(y)\n",
        "    if debug == True:\n",
        "        aml = H2OAutoML(max_models=3, seed=610)\n",
        "        aml.train(x=x, y=y, training_frame=train_h2o_resample_h2oframe)\n",
        "    else:\n",
        "        aml = H2OAutoML(max_models = no_of_models, seed = 610)\n",
        "        aml.train(x=x, y=y, training_frame=train_h2o_resample_h2oframe)\n",
        "    lb = aml.leaderboard\n",
        "    print(lb)\n",
        "    model_path = h2o.save_model(model=aml.leader, path=\"./buNeng_shuffle\", force=True)\n",
        "    \n",
        "    # Get model ids for all models in the AutoML Leaderboard\n",
        "    model_ids = list(aml.leaderboard['model_id'].as_data_frame().iloc[:,0])\n",
        "    # Get the \"All Models\" Stacked Ensemble model\n",
        "    se = h2o.get_model([mid for mid in model_ids if \"StackedEnsemble_AllModels\" in mid][0])\n",
        "    # Get the Stacked Ensemble metalearner model\n",
        "    metalearner = h2o.get_model(se.metalearner()['name'])\n",
        "    \n",
        "    \n",
        "    preds_standardize = aml.leader.predict(df_to_h2oF(h2o.as_list(test_h2o_to_aml).iloc[:, :-1], factor_list[:-1]))\n",
        "    feature_importance = standardized_saved_model.varimp(use_pandas=True)\n",
        "    feature_importance.to_csv('feature_importance_xgb.csv')\n",
        "    standardized_saved_model.varimp_plot()\n",
        "    test_h2o_pandas = h2o.as_list(test_h2o)\n",
        "    #y_pred = xgb_model.predict(X_test.as_matrix())\n",
        "\n",
        "    cm = confusion_matrix(test_h2o_pandas['Target'].values, (h2o.as_list(preds_standardize)['predict']>0.5))\n",
        "    print(colored('The Confusion Matrix is: ', 'red'),'\\n', cm)\n",
        "    # Calculate the accuracy on test set\n",
        "    predict_accuracy_on_test_set = (cm[0,0] + cm[1,1])/(cm[0,0] + cm[1,1]+cm[1,0] + cm[0,1])\n",
        "    print(colored('The Accuracy on Test Set is: ', 'blue'), colored(predict_accuracy_on_test_set, 'blue'))\n",
        "    \n",
        "    print(metrics.classification_report(y_true=test_h2o_pandas['Target'].values, y_pred=(h2o.as_list(preds_standardize)['predict']>0.5).astype(float)))\n",
        "    \n",
        "    return model_ids, se, metalearner\n"
      ],
      "execution_count": 0,
      "outputs": []
    },
    {
      "metadata": {
        "id": "_ZzDpEL2lNIs",
        "colab_type": "code",
        "outputId": "e6fa3182-818f-440f-d853-f2395d61a2fd",
        "colab": {
          "base_uri": "https://localhost:8080/",
          "height": 1572
        }
      },
      "cell_type": "code",
      "source": [
        "model_ids, se, metalearner = es_process('Report_Features.csv',no_of_models =10, debug = False)"
      ],
      "execution_count": 0,
      "outputs": [
        {
          "output_type": "stream",
          "text": [
            "Checking whether there is an H2O instance running at http://localhost:54321 . connected.\n"
          ],
          "name": "stdout"
        },
        {
          "output_type": "display_data",
          "data": {
            "text/html": [
              "<div style=\"overflow:auto\"><table style=\"width:50%\"><tr><td>H2O cluster uptime:</td>\n",
              "<td>7 hours 29 mins</td></tr>\n",
              "<tr><td>H2O cluster timezone:</td>\n",
              "<td>Etc/UTC</td></tr>\n",
              "<tr><td>H2O data parsing timezone:</td>\n",
              "<td>UTC</td></tr>\n",
              "<tr><td>H2O cluster version:</td>\n",
              "<td>3.24.0.2</td></tr>\n",
              "<tr><td>H2O cluster version age:</td>\n",
              "<td>8 days </td></tr>\n",
              "<tr><td>H2O cluster name:</td>\n",
              "<td>H2O_from_python_unknownUser_kr6n3o</td></tr>\n",
              "<tr><td>H2O cluster total nodes:</td>\n",
              "<td>1</td></tr>\n",
              "<tr><td>H2O cluster free memory:</td>\n",
              "<td>2.191 Gb</td></tr>\n",
              "<tr><td>H2O cluster total cores:</td>\n",
              "<td>2</td></tr>\n",
              "<tr><td>H2O cluster allowed cores:</td>\n",
              "<td>2</td></tr>\n",
              "<tr><td>H2O cluster status:</td>\n",
              "<td>locked, healthy</td></tr>\n",
              "<tr><td>H2O connection url:</td>\n",
              "<td>http://localhost:54321</td></tr>\n",
              "<tr><td>H2O connection proxy:</td>\n",
              "<td>None</td></tr>\n",
              "<tr><td>H2O internal security:</td>\n",
              "<td>False</td></tr>\n",
              "<tr><td>H2O API Extensions:</td>\n",
              "<td>Amazon S3, XGBoost, Algos, AutoML, Core V3, Core V4</td></tr>\n",
              "<tr><td>Python version:</td>\n",
              "<td>3.6.7 final</td></tr></table></div>"
            ],
            "text/plain": [
              "--------------------------  ---------------------------------------------------\n",
              "H2O cluster uptime:         7 hours 29 mins\n",
              "H2O cluster timezone:       Etc/UTC\n",
              "H2O data parsing timezone:  UTC\n",
              "H2O cluster version:        3.24.0.2\n",
              "H2O cluster version age:    8 days\n",
              "H2O cluster name:           H2O_from_python_unknownUser_kr6n3o\n",
              "H2O cluster total nodes:    1\n",
              "H2O cluster free memory:    2.191 Gb\n",
              "H2O cluster total cores:    2\n",
              "H2O cluster allowed cores:  2\n",
              "H2O cluster status:         locked, healthy\n",
              "H2O connection url:         http://localhost:54321\n",
              "H2O connection proxy:\n",
              "H2O internal security:      False\n",
              "H2O API Extensions:         Amazon S3, XGBoost, Algos, AutoML, Core V3, Core V4\n",
              "Python version:             3.6.7 final\n",
              "--------------------------  ---------------------------------------------------"
            ]
          },
          "metadata": {
            "tags": []
          }
        },
        {
          "output_type": "stream",
          "text": [
            "Parse progress: |█████████████████████████████████████████████████████████| 100%\n",
            "Parse progress: |█████████████████████████████████████████████████████████| 100%\n",
            "Parse progress: |█████████████████████████████████████████████████████████| 100%\n",
            "Parse progress: |█████████████████████████████████████████████████████████| 100%\n",
            "AutoML progress: |████████████████████████████████████████████████████████| 100%\n"
          ],
          "name": "stdout"
        },
        {
          "output_type": "display_data",
          "data": {
            "text/html": [
              "<table>\n",
              "<thead>\n",
              "<tr><th>model_id                                           </th><th style=\"text-align: right;\">     auc</th><th style=\"text-align: right;\">   logloss</th><th style=\"text-align: right;\">  mean_per_class_error</th><th style=\"text-align: right;\">     rmse</th><th style=\"text-align: right;\">       mse</th></tr>\n",
              "</thead>\n",
              "<tbody>\n",
              "<tr><td>XGBoost_1_AutoML_20190425_015417                   </td><td style=\"text-align: right;\">0.999993</td><td style=\"text-align: right;\">0.00661999</td><td style=\"text-align: right;\">           0.000977064</td><td style=\"text-align: right;\">0.040217 </td><td style=\"text-align: right;\">0.0016174 </td></tr>\n",
              "<tr><td>StackedEnsemble_BestOfFamily_AutoML_20190425_015417</td><td style=\"text-align: right;\">0.999992</td><td style=\"text-align: right;\">0.0109476 </td><td style=\"text-align: right;\">           0.000977064</td><td style=\"text-align: right;\">0.0413069</td><td style=\"text-align: right;\">0.00170626</td></tr>\n",
              "<tr><td>StackedEnsemble_AllModels_AutoML_20190425_015417   </td><td style=\"text-align: right;\">0.999862</td><td style=\"text-align: right;\">0.0109711 </td><td style=\"text-align: right;\">           0.00155474 </td><td style=\"text-align: right;\">0.0444862</td><td style=\"text-align: right;\">0.00197902</td></tr>\n",
              "<tr><td>XGBoost_2_AutoML_20190425_015417                   </td><td style=\"text-align: right;\">0.998992</td><td style=\"text-align: right;\">0.133179  </td><td style=\"text-align: right;\">           0.00672534 </td><td style=\"text-align: right;\">0.142596 </td><td style=\"text-align: right;\">0.0203337 </td></tr>\n",
              "</tbody>\n",
              "</table>"
            ]
          },
          "metadata": {
            "tags": []
          }
        },
        {
          "output_type": "stream",
          "text": [
            "\n",
            "Parse progress: |█████████████████████████████████████████████████████████| 100%\n",
            "xgboost prediction progress: |████████████████████████████████████████████| 100%\n"
          ],
          "name": "stdout"
        },
        {
          "output_type": "display_data",
          "data": {
            "image/png": "[encoded data removed]",
            "text/plain": [
              "<Figure size 1008x720 with 1 Axes>"
            ]
          },
          "metadata": {
            "tags": []
          }
        },
        {
          "output_type": "stream",
          "text": [
            "The Confusion Matrix is:  \n",
            " [[34764   217]\n",
            " [  133    86]]\n",
            "The Accuracy on Test Set is:  0.9900568181818182\n",
            "              precision    recall  f1-score   support\n",
            "\n",
            "           0       1.00      0.99      0.99     34981\n",
            "           1       0.28      0.39      0.33       219\n",
            "\n",
            "   micro avg       0.99      0.99      0.99     35200\n",
            "   macro avg       0.64      0.69      0.66     35200\n",
            "weighted avg       0.99      0.99      0.99     35200\n",
            "\n"
          ],
          "name": "stdout"
        },
        {
          "output_type": "error",
          "ename": "TypeError",
          "evalue": "ignored",
          "traceback": [
            "\u001b[0;31m---------------------------------------------------------------------------\u001b[0m",
            "\u001b[0;31mTypeError\u001b[0m                                 Traceback (most recent call last)",
            "\u001b[0;32m<ipython-input-112-37d354310432>\u001b[0m in \u001b[0;36m<module>\u001b[0;34m()\u001b[0m\n\u001b[0;32m----> 1\u001b[0;31m \u001b[0mmodel_ids\u001b[0m\u001b[0;34m,\u001b[0m \u001b[0mse\u001b[0m\u001b[0;34m,\u001b[0m \u001b[0mmetalearner\u001b[0m \u001b[0;34m=\u001b[0m \u001b[0mes_process\u001b[0m\u001b[0;34m(\u001b[0m\u001b[0;34m'Report_Features.csv'\u001b[0m\u001b[0;34m,\u001b[0m\u001b[0mno_of_models\u001b[0m \u001b[0;34m=\u001b[0m\u001b[0;36m10\u001b[0m\u001b[0;34m,\u001b[0m \u001b[0mdebug\u001b[0m \u001b[0;34m=\u001b[0m \u001b[0;32mFalse\u001b[0m\u001b[0;34m)\u001b[0m\u001b[0;34m\u001b[0m\u001b[0;34m\u001b[0m\u001b[0m\n\u001b[0m",
            "\u001b[0;31mTypeError\u001b[0m: 'NoneType' object is not iterable"
          ]
        }
      ]
    },
    {
      "metadata": {
        "id": "1KvWUVLxbWKw",
        "colab_type": "code",
        "colab": {}
      },
      "cell_type": "code",
      "source": [
        ""
      ],
      "execution_count": 0,
      "outputs": []
    },
    {
      "metadata": {
        "id": "eDOZQksqE1Wo",
        "colab_type": "code",
        "colab": {}
      },
      "cell_type": "code",
      "source": [
        "''' code that do not work for now\n",
        "numeric_transformer = Pipeline(steps = [('scaler',StandardScaler())])\n",
        "preprocessor = ColumnTransformer(\n",
        "transformers = [('num', numeric_transformer, numeric_list)])\n",
        "data[numeric_list] = preprocessor.fit_transform(data[numeric_list])\n",
        "'''"
      ],
      "execution_count": 0,
      "outputs": []
    },
    {
      "metadata": {
        "id": "5Oe2rlp5H9bD",
        "colab_type": "code",
        "outputId": "e5b4f916-d11e-464a-a6e8-43c4fa840faf",
        "colab": {
          "base_uri": "https://localhost:8080/",
          "height": 52
        }
      },
      "cell_type": "code",
      "source": [
        "aml.leaderboard"
      ],
      "execution_count": 0,
      "outputs": [
        {
          "output_type": "stream",
          "text": [
            "Parse progress: |█████████████████████████████████████████████████████████| 100%\n",
            "This H2OFrame is empty.\n"
          ],
          "name": "stdout"
        },
        {
          "output_type": "execute_result",
          "data": {
            "text/plain": [
              ""
            ]
          },
          "metadata": {
            "tags": []
          },
          "execution_count": 107
        }
      ]
    },
    {
      "metadata": {
        "id": "YtwPltOV06Qd",
        "colab_type": "code",
        "colab": {}
      },
      "cell_type": "code",
      "source": [
        "def predict_es_with_saved_model(filename):\n",
        "  \n",
        "    data_es = pd.read_csv(filename, index_col= 0, parse_dates=[0])\n",
        "    standardized_saved_model = h2o.load_model('./leader_standardize_0424/XGBoost_1_AutoML_20190424_070314')\n",
        "    \n",
        "    #true label\n",
        "    X = remove_data.iloc[:,:-1]\n",
        "    y = remove_data['Target']\n",
        "    import warnings\n",
        "    warnings.filterwarnings(\"ignore\")\n",
        "    X_train, X_test, y_train, y_test = train_test_split(X, y, test_size = 1/3, shuffle=False)\n",
        "    \n",
        "    #for Ren Hao's usage\n",
        "    pd.DataFrame(X_train.index).to_csv('cleaned_train_index_es.csv')\n",
        "    pd.DataFrame(X_test.index).to_csv('cleaned_test_index_es.csv')\n",
        "    \n",
        "    remove_data =  data_es[~data_es.isin([np.nan, np.inf, -np.inf]).any(1)]\n",
        "    factor_list_es = ['feature_57', 'feature_58', 'Feature_45','Feature_47', 'Target']\n",
        "    numeric_list_es = list(set(remove_data.columns) - set(factor_list_es))\n",
        "    remove_data[numeric_list_es] = remove_data[numeric_list_es].apply(lambda x: (x-np.mean(x))/np.std(x), axis = 0)\n",
        "    \n",
        "    \n",
        "    df = remove_data.copy(deep = True)\n",
        "    h2o_df = df_to_h2oF(df, factor_list_es)\n",
        "    \n",
        "    train_h2o, test_h2o = h2o_df.split_frame(ratios = [2/3], seed = 610)\n",
        "    \n",
        "    preds_standardize = aml.leader.predict(df_to_h2oF(h2o.as_list(test_h2o).iloc[:, :-1], factor_list[:-1]))\n",
        "    \n",
        "    \n",
        "    standardized_corn_predict_df.to_csv('standardized_corn_predict.csv')\n",
        "    \n",
        "    cm = confusion_matrix(test_h2o_pandas['Target'].values, (h2o.as_list(preds_standardize)['predict']>0.5))\n",
        "    \n",
        "    \n",
        "    print(colored('The Confusion Matrix is: ', 'red'),'\\n', cm)\n",
        "    predict_accuracy_on_test_set = (cm[0,0] + cm[1,1])/(cm[0,0] + cm[1,1]+cm[1,0] + cm[0,1])\n",
        "    print(colored('The Accuracy on Test Set is: ', 'blue'), colored(predict_accuracy_on_test_set, 'blue'))\n",
        "    \n",
        "    print(metrics.classification_report(y_true=test_h2o_pandas['Target'].values, y_pred=(h2o.as_list(preds_standardize)['predict']>0.5).astype(float)))"
      ],
      "execution_count": 0,
      "outputs": []
    },
    {
      "metadata": {
        "id": "ZUbNlaH05xWo",
        "colab_type": "code",
        "colab": {}
      },
      "cell_type": "code",
      "source": [
        ""
      ],
      "execution_count": 0,
      "outputs": []
    },
    {
      "metadata": {
        "id": "cI-tkOl66QXz",
        "colab_type": "code",
        "outputId": "f8783fa1-03bc-405a-fc02-88f6306c1e80",
        "colab": {
          "base_uri": "https://localhost:8080/",
          "height": 239
        }
      },
      "cell_type": "code",
      "source": [
        "#y_pred = xgb_model.predict(X_test.as_matrix())\n",
        "\n",
        "cm = confusion_matrix(test_h2o_pandas['Target'].values, (h2o.as_list(preds_standardize)['predict']>0.5))\n",
        "print(colored('The Confusion Matrix is: ', 'red'),'\\n', cm)\n",
        "# Calculate the accuracy on test set\n",
        "predict_accuracy_on_test_set = (cm[0,0] + cm[1,1])/(cm[0,0] + cm[1,1]+cm[1,0] + cm[0,1])\n",
        "print(colored('The Accuracy on Test Set is: ', 'blue'), colored(predict_accuracy_on_test_set, 'blue'))"
      ],
      "execution_count": 0,
      "outputs": [
        {
          "output_type": "error",
          "ename": "NameError",
          "evalue": "ignored",
          "traceback": [
            "\u001b[0;31m---------------------------------------------------------------------------\u001b[0m",
            "\u001b[0;31mNameError\u001b[0m                                 Traceback (most recent call last)",
            "\u001b[0;32m<ipython-input-105-bfd413963295>\u001b[0m in \u001b[0;36m<module>\u001b[0;34m()\u001b[0m\n\u001b[1;32m      1\u001b[0m \u001b[0;34m\u001b[0m\u001b[0m\n\u001b[0;32m----> 2\u001b[0;31m \u001b[0mcm\u001b[0m \u001b[0;34m=\u001b[0m \u001b[0mconfusion_matrix\u001b[0m\u001b[0;34m(\u001b[0m\u001b[0mtest_h2o_pandas\u001b[0m\u001b[0;34m[\u001b[0m\u001b[0;34m'Target'\u001b[0m\u001b[0;34m]\u001b[0m\u001b[0;34m.\u001b[0m\u001b[0mvalues\u001b[0m\u001b[0;34m,\u001b[0m \u001b[0;34m(\u001b[0m\u001b[0mh2o\u001b[0m\u001b[0;34m.\u001b[0m\u001b[0mas_list\u001b[0m\u001b[0;34m(\u001b[0m\u001b[0mpreds_standardize\u001b[0m\u001b[0;34m)\u001b[0m\u001b[0;34m[\u001b[0m\u001b[0;34m'predict'\u001b[0m\u001b[0;34m]\u001b[0m\u001b[0;34m>\u001b[0m\u001b[0;36m0.5\u001b[0m\u001b[0;34m)\u001b[0m\u001b[0;34m)\u001b[0m\u001b[0;34m\u001b[0m\u001b[0;34m\u001b[0m\u001b[0m\n\u001b[0m\u001b[1;32m      3\u001b[0m \u001b[0mprint\u001b[0m\u001b[0;34m(\u001b[0m\u001b[0mcolored\u001b[0m\u001b[0;34m(\u001b[0m\u001b[0;34m'The Confusion Matrix is: '\u001b[0m\u001b[0;34m,\u001b[0m \u001b[0;34m'red'\u001b[0m\u001b[0;34m)\u001b[0m\u001b[0;34m,\u001b[0m\u001b[0;34m'\\n'\u001b[0m\u001b[0;34m,\u001b[0m \u001b[0mcm\u001b[0m\u001b[0;34m)\u001b[0m\u001b[0;34m\u001b[0m\u001b[0;34m\u001b[0m\u001b[0m\n\u001b[1;32m      4\u001b[0m \u001b[0;31m# Calculate the accuracy on test set\u001b[0m\u001b[0;34m\u001b[0m\u001b[0;34m\u001b[0m\u001b[0;34m\u001b[0m\u001b[0m\n\u001b[1;32m      5\u001b[0m \u001b[0mpredict_accuracy_on_test_set\u001b[0m \u001b[0;34m=\u001b[0m \u001b[0;34m(\u001b[0m\u001b[0mcm\u001b[0m\u001b[0;34m[\u001b[0m\u001b[0;36m0\u001b[0m\u001b[0;34m,\u001b[0m\u001b[0;36m0\u001b[0m\u001b[0;34m]\u001b[0m \u001b[0;34m+\u001b[0m \u001b[0mcm\u001b[0m\u001b[0;34m[\u001b[0m\u001b[0;36m1\u001b[0m\u001b[0;34m,\u001b[0m\u001b[0;36m1\u001b[0m\u001b[0;34m]\u001b[0m\u001b[0;34m)\u001b[0m\u001b[0;34m/\u001b[0m\u001b[0;34m(\u001b[0m\u001b[0mcm\u001b[0m\u001b[0;34m[\u001b[0m\u001b[0;36m0\u001b[0m\u001b[0;34m,\u001b[0m\u001b[0;36m0\u001b[0m\u001b[0;34m]\u001b[0m \u001b[0;34m+\u001b[0m \u001b[0mcm\u001b[0m\u001b[0;34m[\u001b[0m\u001b[0;36m1\u001b[0m\u001b[0;34m,\u001b[0m\u001b[0;36m1\u001b[0m\u001b[0;34m]\u001b[0m\u001b[0;34m+\u001b[0m\u001b[0mcm\u001b[0m\u001b[0;34m[\u001b[0m\u001b[0;36m1\u001b[0m\u001b[0;34m,\u001b[0m\u001b[0;36m0\u001b[0m\u001b[0;34m]\u001b[0m \u001b[0;34m+\u001b[0m \u001b[0mcm\u001b[0m\u001b[0;34m[\u001b[0m\u001b[0;36m0\u001b[0m\u001b[0;34m,\u001b[0m\u001b[0;36m1\u001b[0m\u001b[0;34m]\u001b[0m\u001b[0;34m)\u001b[0m\u001b[0;34m\u001b[0m\u001b[0;34m\u001b[0m\u001b[0m\n",
            "\u001b[0;31mNameError\u001b[0m: name 'test_h2o_pandas' is not defined"
          ]
        }
      ]
    },
    {
      "metadata": {
        "id": "HQo-yvBE6QU7",
        "colab_type": "code",
        "outputId": "fc0ed760-cde3-48d8-d443-a8e9814ec918",
        "colab": {
          "base_uri": "https://localhost:8080/",
          "height": 169
        }
      },
      "cell_type": "code",
      "source": [
        "print(metrics.classification_report(y_true=test_h2o_pandas['Target'].values, y_pred=(h2o.as_list(preds_standardize)['predict']>0.5).astype(float)))\n"
      ],
      "execution_count": 0,
      "outputs": [
        {
          "output_type": "error",
          "ename": "NameError",
          "evalue": "ignored",
          "traceback": [
            "\u001b[0;31m---------------------------------------------------------------------------\u001b[0m",
            "\u001b[0;31mNameError\u001b[0m                                 Traceback (most recent call last)",
            "\u001b[0;32m<ipython-input-61-2334cd05db80>\u001b[0m in \u001b[0;36m<module>\u001b[0;34m()\u001b[0m\n\u001b[0;32m----> 1\u001b[0;31m \u001b[0mprint\u001b[0m\u001b[0;34m(\u001b[0m\u001b[0mmetrics\u001b[0m\u001b[0;34m.\u001b[0m\u001b[0mclassification_report\u001b[0m\u001b[0;34m(\u001b[0m\u001b[0my_true\u001b[0m\u001b[0;34m=\u001b[0m\u001b[0mtest_h2o_pandas\u001b[0m\u001b[0;34m[\u001b[0m\u001b[0;34m'Target'\u001b[0m\u001b[0;34m]\u001b[0m\u001b[0;34m.\u001b[0m\u001b[0mvalues\u001b[0m\u001b[0;34m,\u001b[0m \u001b[0my_pred\u001b[0m\u001b[0;34m=\u001b[0m\u001b[0;34m(\u001b[0m\u001b[0mh2o\u001b[0m\u001b[0;34m.\u001b[0m\u001b[0mas_list\u001b[0m\u001b[0;34m(\u001b[0m\u001b[0mpreds_standardize\u001b[0m\u001b[0;34m)\u001b[0m\u001b[0;34m[\u001b[0m\u001b[0;34m'predict'\u001b[0m\u001b[0;34m]\u001b[0m\u001b[0;34m>\u001b[0m\u001b[0;36m0.5\u001b[0m\u001b[0;34m)\u001b[0m\u001b[0;34m.\u001b[0m\u001b[0mastype\u001b[0m\u001b[0;34m(\u001b[0m\u001b[0mfloat\u001b[0m\u001b[0;34m)\u001b[0m\u001b[0;34m)\u001b[0m\u001b[0;34m)\u001b[0m\u001b[0;34m\u001b[0m\u001b[0;34m\u001b[0m\u001b[0m\n\u001b[0m",
            "\u001b[0;31mNameError\u001b[0m: name 'test_h2o_pandas' is not defined"
          ]
        }
      ]
    },
    {
      "metadata": {
        "id": "b-W3rPfCXEqO",
        "colab_type": "code",
        "outputId": "400f9fe0-03c2-4a77-9e7f-836f486faf51",
        "colab": {
          "base_uri": "https://localhost:8080/",
          "height": 87
        }
      },
      "cell_type": "code",
      "source": [
        "#y_pred = xgb_model.predict(X_test.as_matrix())\n",
        "\n",
        "cm = confusion_matrix(test_h2o_pandas['Target'].values, (preds_pandas['predict']>0.5))\n",
        "print(colored('The Confusion Matrix is: ', 'red'),'\\n', cm)\n",
        "# Calculate the accuracy on test set\n",
        "predict_accuracy_on_test_set = (cm[0,0] + cm[1,1])/(cm[0,0] + cm[1,1]+cm[1,0] + cm[0,1])\n",
        "print(colored('The Accuracy on Test Set is: ', 'blue'), colored(predict_accuracy_on_test_set, 'blue'))"
      ],
      "execution_count": 0,
      "outputs": [
        {
          "output_type": "stream",
          "text": [
            "The Confusion Matrix is:  \n",
            " [[34843    69]\n",
            " [   49   123]]\n",
            "The Accuracy on Test Set is:  0.9966366434842093\n"
          ],
          "name": "stdout"
        }
      ]
    },
    {
      "metadata": {
        "id": "x5Je52XPXFym",
        "colab_type": "code",
        "outputId": "83968ba9-2216-4d32-899b-9271e24b648e",
        "colab": {
          "base_uri": "https://localhost:8080/",
          "height": 174
        }
      },
      "cell_type": "code",
      "source": [
        "print(metrics.classification_report(y_true=test_h2o_pandas['Target'].values, y_pred=(preds_pandas['predict'] > 0.5).astype(float)))\n"
      ],
      "execution_count": 0,
      "outputs": [
        {
          "output_type": "stream",
          "text": [
            "              precision    recall  f1-score   support\n",
            "\n",
            "           0       1.00      1.00      1.00     34912\n",
            "           1       0.64      0.72      0.68       172\n",
            "\n",
            "   micro avg       1.00      1.00      1.00     35084\n",
            "   macro avg       0.82      0.86      0.84     35084\n",
            "weighted avg       1.00      1.00      1.00     35084\n",
            "\n"
          ],
          "name": "stdout"
        }
      ]
    }
  ]
}